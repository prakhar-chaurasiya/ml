{
  "nbformat": 4,
  "nbformat_minor": 0,
  "metadata": {
    "colab": {
      "provenance": [],
      "collapsed_sections": [
        "2iWnfIaj-2W4"
      ],
      "authorship_tag": "ABX9TyP+xcxG8NulskiyQOMsxNv1",
      "include_colab_link": true
    },
    "kernelspec": {
      "name": "python3",
      "display_name": "Python 3"
    },
    "language_info": {
      "name": "python"
    }
  },
  "cells": [
    {
      "cell_type": "markdown",
      "metadata": {
        "id": "view-in-github",
        "colab_type": "text"
      },
      "source": [
        "<a href=\"https://colab.research.google.com/github/prakhar-chaurasiya/ml/blob/main/micrograd.ipynb\" target=\"_parent\"><img src=\"https://colab.research.google.com/assets/colab-badge.svg\" alt=\"Open In Colab\"/></a>"
      ]
    },
    {
      "cell_type": "markdown",
      "source": [
        "[nn-zero-to-hero](https://github.com/karpathy/nn-zero-to-hero)\n",
        "\n",
        "[micrograd](https://github.com/karpathy/micrograd)"
      ],
      "metadata": {
        "id": "mmcPN7hMa-pK"
      }
    },
    {
      "cell_type": "markdown",
      "source": [
        "# [The spelled-out intro to neural networks and backpropagation: building micrograd](https://www.youtube.com/watch?v=VMj-3S1tku0&list=PLAqhIrjkxbuWI23v9cThsA9GvCAUhRvKZ&ab_channel=AndrejKarpathy)"
      ],
      "metadata": {
        "id": "yPvW1Tk0a3gD"
      }
    },
    {
      "cell_type": "code",
      "source": [
        "import math\n",
        "import numpy as np\n",
        "import matplotlib.pyplot as plt\n",
        "%matplotlib inline"
      ],
      "metadata": {
        "id": "IJaZqyVXa-Hq"
      },
      "execution_count": 2,
      "outputs": []
    },
    {
      "cell_type": "code",
      "source": [
        "class Value:\n",
        "\n",
        "  def __init__(self, data, _children=(), _op='', label=''):\n",
        "    self.data = data\n",
        "    self.grad = 0.0\n",
        "    self._backward = lambda: None\n",
        "    self._prev = set(_children)\n",
        "    self._op = _op\n",
        "    self.label = label\n",
        "\n",
        "  def __repr__(self):\n",
        "    return f\"Value(data={self.data})\"\n",
        "\n",
        "  def __add__(self, other):\n",
        "    other = other if isinstance(other, Value) else Value(other)\n",
        "    out = Value(self.data + other.data, (self, other), '+')\n",
        "\n",
        "    def _backward():\n",
        "      self.grad += 1.0 * out.grad\n",
        "      other.grad += 1.0 * out.grad\n",
        "    out._backward = _backward\n",
        "\n",
        "    return out\n",
        "  \n",
        "  def __radd__(self, other):\n",
        "    return self + other\n",
        "\n",
        "\n",
        "  def __mul__(self, other):\n",
        "    other = other if isinstance(other, Value) else Value(other)\n",
        "    out = Value(self.data * other.data, (self, other), '*')\n",
        "\n",
        "    def _backward():\n",
        "      self.grad += other.data * out.grad\n",
        "      other.grad += self.data * out.grad\n",
        "    out._backward = _backward\n",
        "    return out\n",
        "  \n",
        "  def __pow__(self, other):\n",
        "    assert isinstance(other, (int, float)), \"only supporting int/float powers for now\"\n",
        "    out = Value(self.data**other, (self,), f'**{other}')\n",
        "\n",
        "    def _backward():\n",
        "      self.grad += other * self.data**(other-1) *out.grad\n",
        "    out._backward = _backward\n",
        "\n",
        "    return out\n",
        "\n",
        "\n",
        "  def __rmul__(self, other):\n",
        "    return self*other\n",
        "\n",
        "  def __truediv__(self, other):\n",
        "    return self*other**-1\n",
        "\n",
        "  def __neg__(self):\n",
        "    return self *-1\n",
        "\n",
        "  def __sub__(self, other):\n",
        "    return self + (-other)\n",
        "\n",
        "  def tanh(self):\n",
        "    x = self.data\n",
        "    t = (math.exp(2*x)-1)/(math.exp(2*x)+1)\n",
        "    out = Value(t, (self, ), 'tanh')\n",
        "\n",
        "    def _backward():\n",
        "      self.grad += (1 - t**2) * out.grad\n",
        "    out._backward = _backward\n",
        "    return out\n",
        "\n",
        "  def exp(self):\n",
        "    x = self.data\n",
        "    out = Value(math.exp(x), (self, ), 'exp')\n",
        "\n",
        "    def _backward():\n",
        "      self.grad += out.data * out.grad\n",
        "    out._backward = _backward\n",
        "    \n",
        "    return out\n",
        "\n",
        "\n",
        "  def backward(self):\n",
        "    topo = []\n",
        "    visited = set()\n",
        "    def build_topo(v):\n",
        "      if v not in visited:\n",
        "        visited.add(v)\n",
        "        for child in v._prev:\n",
        "          build_topo(child)\n",
        "        topo.append(v)\n",
        "    build_topo(self)\n",
        "    topo\n",
        "\n",
        "    self.grad = 1.0\n",
        "    for node in reversed(topo):\n",
        "      node._backward()"
      ],
      "metadata": {
        "id": "R_dXfCtTbxez"
      },
      "execution_count": 1,
      "outputs": []
    },
    {
      "cell_type": "code",
      "source": [
        "a = Value(2.0)\n",
        "b = Value(4.0)\n",
        "2 + b"
      ],
      "metadata": {
        "colab": {
          "base_uri": "https://localhost:8080/"
        },
        "id": "BbEspNZeekXw",
        "outputId": "99eedd92-7540-4e83-a908-102d8c4262e5"
      },
      "execution_count": 34,
      "outputs": [
        {
          "output_type": "execute_result",
          "data": {
            "text/plain": [
              "Value(data=6.0)"
            ]
          },
          "metadata": {},
          "execution_count": 34
        }
      ]
    },
    {
      "cell_type": "code",
      "source": [
        "from graphviz import Digraph\n",
        "\n",
        "def trace(root):\n",
        "  # builds a set of all nodes and edges in a graph\n",
        "  nodes, edges = set(), set()\n",
        "  def build(v):\n",
        "    if v not in nodes:\n",
        "      nodes.add(v)\n",
        "      for child in v._prev:\n",
        "        edges.add((child, v))\n",
        "        build(child)\n",
        "  build(root)\n",
        "  return nodes, edges\n",
        "\n",
        "def draw_dot(root):\n",
        "  dot = Digraph(format='svg', graph_attr={'rankdir': 'LR'}) # LR = left to right\n",
        "\n",
        "  nodes, edges = trace(root)\n",
        "  for n in nodes:\n",
        "    uid = str(id(n))\n",
        "    # for any value in the graph, create a rectangular ('record') node for it\n",
        "    dot.node(name=uid, label = \"{%s | data %.4f | grad %.4f}\" % (n.label, n.data, n.grad), shape='record')\n",
        "    if n._op:\n",
        "      # if this value is a result of some operation, create an op node for it\n",
        "      dot.node(name=uid+n._op, label=n._op)\n",
        "      # and connect this node to it\n",
        "      dot.edge(uid + n._op, uid)\n",
        "\n",
        "  for n1, n2 in edges:\n",
        "    # connect n1 to the op node of n2\n",
        "    dot.edge(str(id(n1)), str(id(n2)) + n2._op)\n",
        "  \n",
        "  return dot"
      ],
      "metadata": {
        "id": "-Y8pF1hHshFe"
      },
      "execution_count": 3,
      "outputs": []
    },
    {
      "cell_type": "markdown",
      "source": [],
      "metadata": {
        "id": "y4mTfSsNbZcj"
      }
    },
    {
      "cell_type": "code",
      "execution_count": 20,
      "metadata": {
        "id": "_KWbvixla2Tz"
      },
      "outputs": [],
      "source": [
        "# inputs x1, x2\n",
        "x1 = Value(2.0, label='x1')\n",
        "x2 = Value(0.0, label='x2')\n",
        "# weights w1, w2\n",
        "w1 = Value(-3.0, label='w1')\n",
        "w2 = Value(1.0, label='w2')\n",
        "# bias of the neuron\n",
        "b = Value(6.8813735870195432, label='b')\n",
        "# x1*w1 + x2*w2 + b\n",
        "x1w1 = x1*w1; x1w1.label = 'x1*w1' \n",
        "x2w2 = x2*w2; x2w2.label = 'x2*w2'\n",
        "x1w1x2w2 = x1w1 + x2w2; x1w1x2w2.label = 'x1*w1 + x2*w2'\n",
        "n = x1w1x2w2 + b; n.label = 'n'\n",
        "o = n.tanh(); o.label = 'o'\n",
        "o.backward()"
      ]
    },
    {
      "cell_type": "code",
      "source": [
        "draw_dot(o)"
      ],
      "metadata": {
        "colab": {
          "base_uri": "https://localhost:8080/",
          "height": 321
        },
        "id": "oY8_pOG-1mqM",
        "outputId": "32e38688-50df-42ea-e399-8e5f3eaa4636"
      },
      "execution_count": 21,
      "outputs": [
        {
          "output_type": "execute_result",
          "data": {
            "text/plain": [
              "<graphviz.dot.Digraph at 0x7f82306abc70>"
            ],
            "image/svg+xml": "<?xml version=\"1.0\" encoding=\"UTF-8\" standalone=\"no\"?>\n<!DOCTYPE svg PUBLIC \"-//W3C//DTD SVG 1.1//EN\"\n \"http://www.w3.org/Graphics/SVG/1.1/DTD/svg11.dtd\">\n<!-- Generated by graphviz version 2.40.1 (20161225.0304)\n -->\n<!-- Title: %3 Pages: 1 -->\n<svg width=\"1637pt\" height=\"210pt\"\n viewBox=\"0.00 0.00 1637.00 210.00\" xmlns=\"http://www.w3.org/2000/svg\" xmlns:xlink=\"http://www.w3.org/1999/xlink\">\n<g id=\"graph0\" class=\"graph\" transform=\"scale(1 1) rotate(0) translate(4 206)\">\n<title>%3</title>\n<polygon fill=\"#ffffff\" stroke=\"transparent\" points=\"-4,4 -4,-206 1633,-206 1633,4 -4,4\"/>\n<!-- 140197135672416 -->\n<g id=\"node1\" class=\"node\">\n<title>140197135672416</title>\n<polygon fill=\"none\" stroke=\"#000000\" points=\"339,-55.5 339,-91.5 568,-91.5 568,-55.5 339,-55.5\"/>\n<text text-anchor=\"middle\" x=\"367.5\" y=\"-69.8\" font-family=\"Times,serif\" font-size=\"14.00\" fill=\"#000000\">x2*w2</text>\n<polyline fill=\"none\" stroke=\"#000000\" points=\"396,-55.5 396,-91.5 \"/>\n<text text-anchor=\"middle\" x=\"438.5\" y=\"-69.8\" font-family=\"Times,serif\" font-size=\"14.00\" fill=\"#000000\">data 0.0000</text>\n<polyline fill=\"none\" stroke=\"#000000\" points=\"481,-55.5 481,-91.5 \"/>\n<text text-anchor=\"middle\" x=\"524.5\" y=\"-69.8\" font-family=\"Times,serif\" font-size=\"14.00\" fill=\"#000000\">grad 0.5000</text>\n</g>\n<!-- 140197135673280+ -->\n<g id=\"node13\" class=\"node\">\n<title>140197135673280+</title>\n<ellipse fill=\"none\" stroke=\"#000000\" cx=\"633\" cy=\"-100.5\" rx=\"27\" ry=\"18\"/>\n<text text-anchor=\"middle\" x=\"633\" y=\"-96.8\" font-family=\"Times,serif\" font-size=\"14.00\" fill=\"#000000\">+</text>\n</g>\n<!-- 140197135672416&#45;&gt;140197135673280+ -->\n<g id=\"edge14\" class=\"edge\">\n<title>140197135672416&#45;&gt;140197135673280+</title>\n<path fill=\"none\" stroke=\"#000000\" d=\"M568.1964,-90.7524C578.2591,-92.266 587.8673,-93.7112 596.4577,-95.0034\"/>\n<polygon fill=\"#000000\" stroke=\"#000000\" points=\"595.984,-98.4714 606.3934,-96.4979 597.0253,-91.5493 595.984,-98.4714\"/>\n</g>\n<!-- 140197135672416* -->\n<g id=\"node2\" class=\"node\">\n<title>140197135672416*</title>\n<ellipse fill=\"none\" stroke=\"#000000\" cx=\"274\" cy=\"-73.5\" rx=\"27\" ry=\"18\"/>\n<text text-anchor=\"middle\" x=\"274\" y=\"-69.8\" font-family=\"Times,serif\" font-size=\"14.00\" fill=\"#000000\">*</text>\n</g>\n<!-- 140197135672416*&#45;&gt;140197135672416 -->\n<g id=\"edge1\" class=\"edge\">\n<title>140197135672416*&#45;&gt;140197135672416</title>\n<path fill=\"none\" stroke=\"#000000\" d=\"M301.2622,-73.5C309.2798,-73.5 318.6183,-73.5 328.6514,-73.5\"/>\n<polygon fill=\"#000000\" stroke=\"#000000\" points=\"328.8929,-77.0001 338.8928,-73.5 328.8928,-70.0001 328.8929,-77.0001\"/>\n</g>\n<!-- 140197135696512 -->\n<g id=\"node3\" class=\"node\">\n<title>140197135696512</title>\n<polygon fill=\"none\" stroke=\"#000000\" points=\"1,-165.5 1,-201.5 210,-201.5 210,-165.5 1,-165.5\"/>\n<text text-anchor=\"middle\" x=\"17\" y=\"-179.8\" font-family=\"Times,serif\" font-size=\"14.00\" fill=\"#000000\">x1</text>\n<polyline fill=\"none\" stroke=\"#000000\" points=\"33,-165.5 33,-201.5 \"/>\n<text text-anchor=\"middle\" x=\"75.5\" y=\"-179.8\" font-family=\"Times,serif\" font-size=\"14.00\" fill=\"#000000\">data 2.0000</text>\n<polyline fill=\"none\" stroke=\"#000000\" points=\"118,-165.5 118,-201.5 \"/>\n<text text-anchor=\"middle\" x=\"164\" y=\"-179.8\" font-family=\"Times,serif\" font-size=\"14.00\" fill=\"#000000\">grad &#45;1.5000</text>\n</g>\n<!-- 140197135696032* -->\n<g id=\"node5\" class=\"node\">\n<title>140197135696032*</title>\n<ellipse fill=\"none\" stroke=\"#000000\" cx=\"274\" cy=\"-128.5\" rx=\"27\" ry=\"18\"/>\n<text text-anchor=\"middle\" x=\"274\" y=\"-124.8\" font-family=\"Times,serif\" font-size=\"14.00\" fill=\"#000000\">*</text>\n</g>\n<!-- 140197135696512&#45;&gt;140197135696032* -->\n<g id=\"edge6\" class=\"edge\">\n<title>140197135696512&#45;&gt;140197135696032*</title>\n<path fill=\"none\" stroke=\"#000000\" d=\"M182.3017,-165.4558C192.0361,-162.698 201.8026,-159.6955 211,-156.5 221.6243,-152.8088 232.9373,-148.0548 243.0021,-143.5155\"/>\n<polygon fill=\"#000000\" stroke=\"#000000\" points=\"244.5909,-146.6371 252.2061,-139.271 241.6594,-140.2805 244.5909,-146.6371\"/>\n</g>\n<!-- 140197135696032 -->\n<g id=\"node4\" class=\"node\">\n<title>140197135696032</title>\n<polygon fill=\"none\" stroke=\"#000000\" points=\"337,-110.5 337,-146.5 570,-146.5 570,-110.5 337,-110.5\"/>\n<text text-anchor=\"middle\" x=\"365.5\" y=\"-124.8\" font-family=\"Times,serif\" font-size=\"14.00\" fill=\"#000000\">x1*w1</text>\n<polyline fill=\"none\" stroke=\"#000000\" points=\"394,-110.5 394,-146.5 \"/>\n<text text-anchor=\"middle\" x=\"438.5\" y=\"-124.8\" font-family=\"Times,serif\" font-size=\"14.00\" fill=\"#000000\">data &#45;6.0000</text>\n<polyline fill=\"none\" stroke=\"#000000\" points=\"483,-110.5 483,-146.5 \"/>\n<text text-anchor=\"middle\" x=\"526.5\" y=\"-124.8\" font-family=\"Times,serif\" font-size=\"14.00\" fill=\"#000000\">grad 0.5000</text>\n</g>\n<!-- 140197135696032&#45;&gt;140197135673280+ -->\n<g id=\"edge11\" class=\"edge\">\n<title>140197135696032&#45;&gt;140197135673280+</title>\n<path fill=\"none\" stroke=\"#000000\" d=\"M568.9566,-110.4901C578.7184,-108.9673 588.037,-107.5137 596.3947,-106.21\"/>\n<polygon fill=\"#000000\" stroke=\"#000000\" points=\"597.0871,-109.6444 606.4281,-104.6449 596.0082,-102.7281 597.0871,-109.6444\"/>\n</g>\n<!-- 140197135696032*&#45;&gt;140197135696032 -->\n<g id=\"edge2\" class=\"edge\">\n<title>140197135696032*&#45;&gt;140197135696032</title>\n<path fill=\"none\" stroke=\"#000000\" d=\"M301.2622,-128.5C308.8324,-128.5 317.5801,-128.5 326.9781,-128.5\"/>\n<polygon fill=\"#000000\" stroke=\"#000000\" points=\"326.9853,-132.0001 336.9853,-128.5 326.9852,-125.0001 326.9853,-132.0001\"/>\n</g>\n<!-- 140197135675056 -->\n<g id=\"node6\" class=\"node\">\n<title>140197135675056</title>\n<polygon fill=\"none\" stroke=\"#000000\" points=\"1111,-109.5 1111,-145.5 1307,-145.5 1307,-109.5 1111,-109.5\"/>\n<text text-anchor=\"middle\" x=\"1123\" y=\"-123.8\" font-family=\"Times,serif\" font-size=\"14.00\" fill=\"#000000\">n</text>\n<polyline fill=\"none\" stroke=\"#000000\" points=\"1135,-109.5 1135,-145.5 \"/>\n<text text-anchor=\"middle\" x=\"1177.5\" y=\"-123.8\" font-family=\"Times,serif\" font-size=\"14.00\" fill=\"#000000\">data 0.8814</text>\n<polyline fill=\"none\" stroke=\"#000000\" points=\"1220,-109.5 1220,-145.5 \"/>\n<text text-anchor=\"middle\" x=\"1263.5\" y=\"-123.8\" font-family=\"Times,serif\" font-size=\"14.00\" fill=\"#000000\">grad 0.5000</text>\n</g>\n<!-- 140197135675152tanh -->\n<g id=\"node11\" class=\"node\">\n<title>140197135675152tanh</title>\n<ellipse fill=\"none\" stroke=\"#000000\" cx=\"1370\" cy=\"-127.5\" rx=\"27\" ry=\"18\"/>\n<text text-anchor=\"middle\" x=\"1370\" y=\"-123.8\" font-family=\"Times,serif\" font-size=\"14.00\" fill=\"#000000\">tanh</text>\n</g>\n<!-- 140197135675056&#45;&gt;140197135675152tanh -->\n<g id=\"edge13\" class=\"edge\">\n<title>140197135675056&#45;&gt;140197135675152tanh</title>\n<path fill=\"none\" stroke=\"#000000\" d=\"M1307.2922,-127.5C1316.2042,-127.5 1324.8099,-127.5 1332.6423,-127.5\"/>\n<polygon fill=\"#000000\" stroke=\"#000000\" points=\"1332.7996,-131.0001 1342.7995,-127.5 1332.7995,-124.0001 1332.7996,-131.0001\"/>\n</g>\n<!-- 140197135675056+ -->\n<g id=\"node7\" class=\"node\">\n<title>140197135675056+</title>\n<ellipse fill=\"none\" stroke=\"#000000\" cx=\"1048\" cy=\"-127.5\" rx=\"27\" ry=\"18\"/>\n<text text-anchor=\"middle\" x=\"1048\" y=\"-123.8\" font-family=\"Times,serif\" font-size=\"14.00\" fill=\"#000000\">+</text>\n</g>\n<!-- 140197135675056+&#45;&gt;140197135675056 -->\n<g id=\"edge3\" class=\"edge\">\n<title>140197135675056+&#45;&gt;140197135675056</title>\n<path fill=\"none\" stroke=\"#000000\" d=\"M1075.3115,-127.5C1082.8223,-127.5 1091.4512,-127.5 1100.6318,-127.5\"/>\n<polygon fill=\"#000000\" stroke=\"#000000\" points=\"1100.7835,-131.0001 1110.7835,-127.5 1100.7835,-124.0001 1100.7835,-131.0001\"/>\n</g>\n<!-- 140197135696080 -->\n<g id=\"node8\" class=\"node\">\n<title>140197135696080</title>\n<polygon fill=\"none\" stroke=\"#000000\" points=\"0,-110.5 0,-146.5 211,-146.5 211,-110.5 0,-110.5\"/>\n<text text-anchor=\"middle\" x=\"17.5\" y=\"-124.8\" font-family=\"Times,serif\" font-size=\"14.00\" fill=\"#000000\">w1</text>\n<polyline fill=\"none\" stroke=\"#000000\" points=\"35,-110.5 35,-146.5 \"/>\n<text text-anchor=\"middle\" x=\"79.5\" y=\"-124.8\" font-family=\"Times,serif\" font-size=\"14.00\" fill=\"#000000\">data &#45;3.0000</text>\n<polyline fill=\"none\" stroke=\"#000000\" points=\"124,-110.5 124,-146.5 \"/>\n<text text-anchor=\"middle\" x=\"167.5\" y=\"-124.8\" font-family=\"Times,serif\" font-size=\"14.00\" fill=\"#000000\">grad 1.0000</text>\n</g>\n<!-- 140197135696080&#45;&gt;140197135696032* -->\n<g id=\"edge7\" class=\"edge\">\n<title>140197135696080&#45;&gt;140197135696032*</title>\n<path fill=\"none\" stroke=\"#000000\" d=\"M211.2568,-128.5C220.2576,-128.5 228.9074,-128.5 236.7567,-128.5\"/>\n<polygon fill=\"#000000\" stroke=\"#000000\" points=\"236.9217,-132.0001 246.9217,-128.5 236.9217,-125.0001 236.9217,-132.0001\"/>\n</g>\n<!-- 140197135697616 -->\n<g id=\"node9\" class=\"node\">\n<title>140197135697616</title>\n<polygon fill=\"none\" stroke=\"#000000\" points=\"2,-55.5 2,-91.5 209,-91.5 209,-55.5 2,-55.5\"/>\n<text text-anchor=\"middle\" x=\"19.5\" y=\"-69.8\" font-family=\"Times,serif\" font-size=\"14.00\" fill=\"#000000\">w2</text>\n<polyline fill=\"none\" stroke=\"#000000\" points=\"37,-55.5 37,-91.5 \"/>\n<text text-anchor=\"middle\" x=\"79.5\" y=\"-69.8\" font-family=\"Times,serif\" font-size=\"14.00\" fill=\"#000000\">data 1.0000</text>\n<polyline fill=\"none\" stroke=\"#000000\" points=\"122,-55.5 122,-91.5 \"/>\n<text text-anchor=\"middle\" x=\"165.5\" y=\"-69.8\" font-family=\"Times,serif\" font-size=\"14.00\" fill=\"#000000\">grad 0.0000</text>\n</g>\n<!-- 140197135697616&#45;&gt;140197135672416* -->\n<g id=\"edge8\" class=\"edge\">\n<title>140197135697616&#45;&gt;140197135672416*</title>\n<path fill=\"none\" stroke=\"#000000\" d=\"M209.3354,-73.5C219.0497,-73.5 228.3963,-73.5 236.8187,-73.5\"/>\n<polygon fill=\"#000000\" stroke=\"#000000\" points=\"236.951,-77.0001 246.9509,-73.5 236.9509,-70.0001 236.951,-77.0001\"/>\n</g>\n<!-- 140197135675152 -->\n<g id=\"node10\" class=\"node\">\n<title>140197135675152</title>\n<polygon fill=\"none\" stroke=\"#000000\" points=\"1433,-109.5 1433,-145.5 1629,-145.5 1629,-109.5 1433,-109.5\"/>\n<text text-anchor=\"middle\" x=\"1445\" y=\"-123.8\" font-family=\"Times,serif\" font-size=\"14.00\" fill=\"#000000\">o</text>\n<polyline fill=\"none\" stroke=\"#000000\" points=\"1457,-109.5 1457,-145.5 \"/>\n<text text-anchor=\"middle\" x=\"1499.5\" y=\"-123.8\" font-family=\"Times,serif\" font-size=\"14.00\" fill=\"#000000\">data 0.7071</text>\n<polyline fill=\"none\" stroke=\"#000000\" points=\"1542,-109.5 1542,-145.5 \"/>\n<text text-anchor=\"middle\" x=\"1585.5\" y=\"-123.8\" font-family=\"Times,serif\" font-size=\"14.00\" fill=\"#000000\">grad 1.0000</text>\n</g>\n<!-- 140197135675152tanh&#45;&gt;140197135675152 -->\n<g id=\"edge4\" class=\"edge\">\n<title>140197135675152tanh&#45;&gt;140197135675152</title>\n<path fill=\"none\" stroke=\"#000000\" d=\"M1397.3115,-127.5C1404.8223,-127.5 1413.4512,-127.5 1422.6318,-127.5\"/>\n<polygon fill=\"#000000\" stroke=\"#000000\" points=\"1422.7835,-131.0001 1432.7835,-127.5 1422.7835,-124.0001 1422.7835,-131.0001\"/>\n</g>\n<!-- 140197135673280 -->\n<g id=\"node12\" class=\"node\">\n<title>140197135673280</title>\n<polygon fill=\"none\" stroke=\"#000000\" points=\"696,-82.5 696,-118.5 985,-118.5 985,-82.5 696,-82.5\"/>\n<text text-anchor=\"middle\" x=\"752.5\" y=\"-96.8\" font-family=\"Times,serif\" font-size=\"14.00\" fill=\"#000000\">x1*w1 + x2*w2</text>\n<polyline fill=\"none\" stroke=\"#000000\" points=\"809,-82.5 809,-118.5 \"/>\n<text text-anchor=\"middle\" x=\"853.5\" y=\"-96.8\" font-family=\"Times,serif\" font-size=\"14.00\" fill=\"#000000\">data &#45;6.0000</text>\n<polyline fill=\"none\" stroke=\"#000000\" points=\"898,-82.5 898,-118.5 \"/>\n<text text-anchor=\"middle\" x=\"941.5\" y=\"-96.8\" font-family=\"Times,serif\" font-size=\"14.00\" fill=\"#000000\">grad 0.5000</text>\n</g>\n<!-- 140197135673280&#45;&gt;140197135675056+ -->\n<g id=\"edge10\" class=\"edge\">\n<title>140197135673280&#45;&gt;140197135675056+</title>\n<path fill=\"none\" stroke=\"#000000\" d=\"M978.9055,-118.5094C990.5887,-120.0296 1001.6094,-121.4636 1011.2737,-122.7212\"/>\n<polygon fill=\"#000000\" stroke=\"#000000\" points=\"1010.8271,-126.1925 1021.1952,-124.0121 1011.7304,-119.251 1010.8271,-126.1925\"/>\n</g>\n<!-- 140197135673280+&#45;&gt;140197135673280 -->\n<g id=\"edge5\" class=\"edge\">\n<title>140197135673280+&#45;&gt;140197135673280</title>\n<path fill=\"none\" stroke=\"#000000\" d=\"M660.127,-100.5C667.628,-100.5 676.3363,-100.5 685.7965,-100.5\"/>\n<polygon fill=\"#000000\" stroke=\"#000000\" points=\"685.9081,-104.0001 695.908,-100.5 685.908,-97.0001 685.9081,-104.0001\"/>\n</g>\n<!-- 140197135696848 -->\n<g id=\"node14\" class=\"node\">\n<title>140197135696848</title>\n<polygon fill=\"none\" stroke=\"#000000\" points=\"742.5,-137.5 742.5,-173.5 938.5,-173.5 938.5,-137.5 742.5,-137.5\"/>\n<text text-anchor=\"middle\" x=\"754.5\" y=\"-151.8\" font-family=\"Times,serif\" font-size=\"14.00\" fill=\"#000000\">b</text>\n<polyline fill=\"none\" stroke=\"#000000\" points=\"766.5,-137.5 766.5,-173.5 \"/>\n<text text-anchor=\"middle\" x=\"809\" y=\"-151.8\" font-family=\"Times,serif\" font-size=\"14.00\" fill=\"#000000\">data 6.8814</text>\n<polyline fill=\"none\" stroke=\"#000000\" points=\"851.5,-137.5 851.5,-173.5 \"/>\n<text text-anchor=\"middle\" x=\"895\" y=\"-151.8\" font-family=\"Times,serif\" font-size=\"14.00\" fill=\"#000000\">grad 0.5000</text>\n</g>\n<!-- 140197135696848&#45;&gt;140197135675056+ -->\n<g id=\"edge9\" class=\"edge\">\n<title>140197135696848&#45;&gt;140197135675056+</title>\n<path fill=\"none\" stroke=\"#000000\" d=\"M938.7811,-142.238C964.6496,-138.7473 990.9727,-135.1952 1011.2938,-132.4531\"/>\n<polygon fill=\"#000000\" stroke=\"#000000\" points=\"1011.897,-135.9035 1021.3391,-131.0976 1010.9609,-128.9664 1011.897,-135.9035\"/>\n</g>\n<!-- 140197135696368 -->\n<g id=\"node15\" class=\"node\">\n<title>140197135696368</title>\n<polygon fill=\"none\" stroke=\"#000000\" points=\"3.5,-.5 3.5,-36.5 207.5,-36.5 207.5,-.5 3.5,-.5\"/>\n<text text-anchor=\"middle\" x=\"19.5\" y=\"-14.8\" font-family=\"Times,serif\" font-size=\"14.00\" fill=\"#000000\">x2</text>\n<polyline fill=\"none\" stroke=\"#000000\" points=\"35.5,-.5 35.5,-36.5 \"/>\n<text text-anchor=\"middle\" x=\"78\" y=\"-14.8\" font-family=\"Times,serif\" font-size=\"14.00\" fill=\"#000000\">data 0.0000</text>\n<polyline fill=\"none\" stroke=\"#000000\" points=\"120.5,-.5 120.5,-36.5 \"/>\n<text text-anchor=\"middle\" x=\"164\" y=\"-14.8\" font-family=\"Times,serif\" font-size=\"14.00\" fill=\"#000000\">grad 0.5000</text>\n</g>\n<!-- 140197135696368&#45;&gt;140197135672416* -->\n<g id=\"edge12\" class=\"edge\">\n<title>140197135696368&#45;&gt;140197135672416*</title>\n<path fill=\"none\" stroke=\"#000000\" d=\"M179.1277,-36.5688C189.8946,-39.636 200.7889,-42.9778 211,-46.5 221.4855,-50.1168 232.6874,-54.6793 242.694,-59.0193\"/>\n<polygon fill=\"#000000\" stroke=\"#000000\" points=\"241.2981,-62.229 251.8592,-63.0741 244.1302,-55.8274 241.2981,-62.229\"/>\n</g>\n</g>\n</svg>\n"
          },
          "metadata": {},
          "execution_count": 21
        }
      ]
    },
    {
      "cell_type": "code",
      "source": [
        "# inputs x1, x2\n",
        "x1 = Value(2.0, label='x1')\n",
        "x2 = Value(0.0, label='x2')\n",
        "# weights w1, w2\n",
        "w1 = Value(-3.0, label='w1')\n",
        "w2 = Value(1.0, label='w2')\n",
        "# bias of the neuron\n",
        "b = Value(6.8813735870195432, label='b')\n",
        "# x1*w1 + x2*w2 + b\n",
        "x1w1 = x1*w1; x1w1.label = 'x1*w1' \n",
        "x2w2 = x2*w2; x2w2.label = 'x2*w2'\n",
        "x1w1x2w2 = x1w1 + x2w2; x1w1x2w2.label = 'x1*w1 + x2*w2'\n",
        "n = x1w1x2w2 + b; n.label = 'n'\n",
        "#----\n",
        "e = (2*n).exp()\n",
        "o = (e-1)/(e+1)\n",
        "#----\n",
        "o.label ='o'\n",
        "o.backward()\n",
        "draw_dot(o)"
      ],
      "metadata": {
        "colab": {
          "base_uri": "https://localhost:8080/",
          "height": 356
        },
        "id": "HTocec4J9E_x",
        "outputId": "febf78f1-5e65-4efd-dd50-bc34be381c6b"
      },
      "execution_count": 4,
      "outputs": [
        {
          "output_type": "execute_result",
          "data": {
            "text/plain": [
              "<graphviz.dot.Digraph at 0x7f45d5713f10>"
            ],
            "image/svg+xml": "<?xml version=\"1.0\" encoding=\"UTF-8\" standalone=\"no\"?>\n<!DOCTYPE svg PUBLIC \"-//W3C//DTD SVG 1.1//EN\"\n \"http://www.w3.org/Graphics/SVG/1.1/DTD/svg11.dtd\">\n<!-- Generated by graphviz version 2.40.1 (20161225.0304)\n -->\n<!-- Title: %3 Pages: 1 -->\n<svg width=\"3057pt\" height=\"236pt\"\n viewBox=\"0.00 0.00 3057.00 236.00\" xmlns=\"http://www.w3.org/2000/svg\" xmlns:xlink=\"http://www.w3.org/1999/xlink\">\n<g id=\"graph0\" class=\"graph\" transform=\"scale(1 1) rotate(0) translate(4 232)\">\n<title>%3</title>\n<polygon fill=\"#ffffff\" stroke=\"transparent\" points=\"-4,4 -4,-232 3053,-232 3053,4 -4,4\"/>\n<!-- 139937910438976 -->\n<g id=\"node1\" class=\"node\">\n<title>139937910438976</title>\n<polygon fill=\"none\" stroke=\"#000000\" points=\"696,-82.5 696,-118.5 985,-118.5 985,-82.5 696,-82.5\"/>\n<text text-anchor=\"middle\" x=\"752.5\" y=\"-96.8\" font-family=\"Times,serif\" font-size=\"14.00\" fill=\"#000000\">x1*w1 + x2*w2</text>\n<polyline fill=\"none\" stroke=\"#000000\" points=\"809,-82.5 809,-118.5 \"/>\n<text text-anchor=\"middle\" x=\"853.5\" y=\"-96.8\" font-family=\"Times,serif\" font-size=\"14.00\" fill=\"#000000\">data &#45;6.0000</text>\n<polyline fill=\"none\" stroke=\"#000000\" points=\"898,-82.5 898,-118.5 \"/>\n<text text-anchor=\"middle\" x=\"941.5\" y=\"-96.8\" font-family=\"Times,serif\" font-size=\"14.00\" fill=\"#000000\">grad 0.5000</text>\n</g>\n<!-- 139937910439312+ -->\n<g id=\"node25\" class=\"node\">\n<title>139937910439312+</title>\n<ellipse fill=\"none\" stroke=\"#000000\" cx=\"1048\" cy=\"-127.5\" rx=\"27\" ry=\"18\"/>\n<text text-anchor=\"middle\" x=\"1048\" y=\"-123.8\" font-family=\"Times,serif\" font-size=\"14.00\" fill=\"#000000\">+</text>\n</g>\n<!-- 139937910438976&#45;&gt;139937910439312+ -->\n<g id=\"edge24\" class=\"edge\">\n<title>139937910438976&#45;&gt;139937910439312+</title>\n<path fill=\"none\" stroke=\"#000000\" d=\"M978.9055,-118.5094C990.5887,-120.0296 1001.6094,-121.4636 1011.2737,-122.7212\"/>\n<polygon fill=\"#000000\" stroke=\"#000000\" points=\"1010.8271,-126.1925 1021.1952,-124.0121 1011.7304,-119.251 1010.8271,-126.1925\"/>\n</g>\n<!-- 139937910438976+ -->\n<g id=\"node2\" class=\"node\">\n<title>139937910438976+</title>\n<ellipse fill=\"none\" stroke=\"#000000\" cx=\"633\" cy=\"-100.5\" rx=\"27\" ry=\"18\"/>\n<text text-anchor=\"middle\" x=\"633\" y=\"-96.8\" font-family=\"Times,serif\" font-size=\"14.00\" fill=\"#000000\">+</text>\n</g>\n<!-- 139937910438976+&#45;&gt;139937910438976 -->\n<g id=\"edge1\" class=\"edge\">\n<title>139937910438976+&#45;&gt;139937910438976</title>\n<path fill=\"none\" stroke=\"#000000\" d=\"M660.127,-100.5C667.628,-100.5 676.3363,-100.5 685.7965,-100.5\"/>\n<polygon fill=\"#000000\" stroke=\"#000000\" points=\"685.9081,-104.0001 695.908,-100.5 685.908,-97.0001 685.9081,-104.0001\"/>\n</g>\n<!-- 139937910438496 -->\n<g id=\"node3\" class=\"node\">\n<title>139937910438496</title>\n<polygon fill=\"none\" stroke=\"#000000\" points=\"2,-165.5 2,-201.5 209,-201.5 209,-165.5 2,-165.5\"/>\n<text text-anchor=\"middle\" x=\"19.5\" y=\"-179.8\" font-family=\"Times,serif\" font-size=\"14.00\" fill=\"#000000\">w2</text>\n<polyline fill=\"none\" stroke=\"#000000\" points=\"37,-165.5 37,-201.5 \"/>\n<text text-anchor=\"middle\" x=\"79.5\" y=\"-179.8\" font-family=\"Times,serif\" font-size=\"14.00\" fill=\"#000000\">data 1.0000</text>\n<polyline fill=\"none\" stroke=\"#000000\" points=\"122,-165.5 122,-201.5 \"/>\n<text text-anchor=\"middle\" x=\"165.5\" y=\"-179.8\" font-family=\"Times,serif\" font-size=\"14.00\" fill=\"#000000\">grad 0.0000</text>\n</g>\n<!-- 139937910438784* -->\n<g id=\"node19\" class=\"node\">\n<title>139937910438784*</title>\n<ellipse fill=\"none\" stroke=\"#000000\" cx=\"274\" cy=\"-128.5\" rx=\"27\" ry=\"18\"/>\n<text text-anchor=\"middle\" x=\"274\" y=\"-124.8\" font-family=\"Times,serif\" font-size=\"14.00\" fill=\"#000000\">*</text>\n</g>\n<!-- 139937910438496&#45;&gt;139937910438784* -->\n<g id=\"edge25\" class=\"edge\">\n<title>139937910438496&#45;&gt;139937910438784*</title>\n<path fill=\"none\" stroke=\"#000000\" d=\"M182.3017,-165.4558C192.0361,-162.698 201.8026,-159.6955 211,-156.5 221.6243,-152.8088 232.9373,-148.0548 243.0021,-143.5155\"/>\n<polygon fill=\"#000000\" stroke=\"#000000\" points=\"244.5909,-146.6371 252.2061,-139.271 241.6594,-140.2805 244.5909,-146.6371\"/>\n</g>\n<!-- 139937910439552 -->\n<g id=\"node4\" class=\"node\">\n<title>139937910439552</title>\n<polygon fill=\"none\" stroke=\"#000000\" points=\"1,-55.5 1,-91.5 210,-91.5 210,-55.5 1,-55.5\"/>\n<text text-anchor=\"middle\" x=\"17\" y=\"-69.8\" font-family=\"Times,serif\" font-size=\"14.00\" fill=\"#000000\">x1</text>\n<polyline fill=\"none\" stroke=\"#000000\" points=\"33,-55.5 33,-91.5 \"/>\n<text text-anchor=\"middle\" x=\"75.5\" y=\"-69.8\" font-family=\"Times,serif\" font-size=\"14.00\" fill=\"#000000\">data 2.0000</text>\n<polyline fill=\"none\" stroke=\"#000000\" points=\"118,-55.5 118,-91.5 \"/>\n<text text-anchor=\"middle\" x=\"164\" y=\"-69.8\" font-family=\"Times,serif\" font-size=\"14.00\" fill=\"#000000\">grad &#45;1.5000</text>\n</g>\n<!-- 139937910438832* -->\n<g id=\"node23\" class=\"node\">\n<title>139937910438832*</title>\n<ellipse fill=\"none\" stroke=\"#000000\" cx=\"274\" cy=\"-73.5\" rx=\"27\" ry=\"18\"/>\n<text text-anchor=\"middle\" x=\"274\" y=\"-69.8\" font-family=\"Times,serif\" font-size=\"14.00\" fill=\"#000000\">*</text>\n</g>\n<!-- 139937910439552&#45;&gt;139937910438832* -->\n<g id=\"edge19\" class=\"edge\">\n<title>139937910439552&#45;&gt;139937910438832*</title>\n<path fill=\"none\" stroke=\"#000000\" d=\"M210.2974,-73.5C219.6043,-73.5 228.5549,-73.5 236.6562,-73.5\"/>\n<polygon fill=\"#000000\" stroke=\"#000000\" points=\"236.7755,-77.0001 246.7754,-73.5 236.7754,-70.0001 236.7755,-77.0001\"/>\n</g>\n<!-- 139937910438544 -->\n<g id=\"node5\" class=\"node\">\n<title>139937910438544</title>\n<polygon fill=\"none\" stroke=\"#000000\" points=\"0,-.5 0,-36.5 211,-36.5 211,-.5 0,-.5\"/>\n<text text-anchor=\"middle\" x=\"17.5\" y=\"-14.8\" font-family=\"Times,serif\" font-size=\"14.00\" fill=\"#000000\">w1</text>\n<polyline fill=\"none\" stroke=\"#000000\" points=\"35,-.5 35,-36.5 \"/>\n<text text-anchor=\"middle\" x=\"79.5\" y=\"-14.8\" font-family=\"Times,serif\" font-size=\"14.00\" fill=\"#000000\">data &#45;3.0000</text>\n<polyline fill=\"none\" stroke=\"#000000\" points=\"124,-.5 124,-36.5 \"/>\n<text text-anchor=\"middle\" x=\"167.5\" y=\"-14.8\" font-family=\"Times,serif\" font-size=\"14.00\" fill=\"#000000\">grad 1.0000</text>\n</g>\n<!-- 139937910438544&#45;&gt;139937910438832* -->\n<g id=\"edge23\" class=\"edge\">\n<title>139937910438544&#45;&gt;139937910438832*</title>\n<path fill=\"none\" stroke=\"#000000\" d=\"M182.3017,-36.5442C192.0361,-39.302 201.8026,-42.3045 211,-45.5 221.6243,-49.1912 232.9373,-53.9452 243.0021,-58.4845\"/>\n<polygon fill=\"#000000\" stroke=\"#000000\" points=\"241.6594,-61.7195 252.2061,-62.729 244.5909,-55.3629 241.6594,-61.7195\"/>\n</g>\n<!-- 139937910505632 -->\n<g id=\"node6\" class=\"node\">\n<title>139937910505632</title>\n<polygon fill=\"none\" stroke=\"#000000\" points=\"2535,-112.5 2535,-148.5 2727,-148.5 2727,-112.5 2535,-112.5\"/>\n<text text-anchor=\"middle\" x=\"2545\" y=\"-126.8\" font-family=\"Times,serif\" font-size=\"14.00\" fill=\"#000000\"> </text>\n<polyline fill=\"none\" stroke=\"#000000\" points=\"2555,-112.5 2555,-148.5 \"/>\n<text text-anchor=\"middle\" x=\"2597.5\" y=\"-126.8\" font-family=\"Times,serif\" font-size=\"14.00\" fill=\"#000000\">data 0.1464</text>\n<polyline fill=\"none\" stroke=\"#000000\" points=\"2640,-112.5 2640,-148.5 \"/>\n<text text-anchor=\"middle\" x=\"2683.5\" y=\"-126.8\" font-family=\"Times,serif\" font-size=\"14.00\" fill=\"#000000\">grad 4.8284</text>\n</g>\n<!-- 139937910505872* -->\n<g id=\"node21\" class=\"node\">\n<title>139937910505872*</title>\n<ellipse fill=\"none\" stroke=\"#000000\" cx=\"2790\" cy=\"-153.5\" rx=\"27\" ry=\"18\"/>\n<text text-anchor=\"middle\" x=\"2790\" y=\"-149.8\" font-family=\"Times,serif\" font-size=\"14.00\" fill=\"#000000\">*</text>\n</g>\n<!-- 139937910505632&#45;&gt;139937910505872* -->\n<g id=\"edge18\" class=\"edge\">\n<title>139937910505632&#45;&gt;139937910505872*</title>\n<path fill=\"none\" stroke=\"#000000\" d=\"M2727.159,-144.4098C2736.3446,-145.7385 2745.2195,-147.0223 2753.263,-148.1858\"/>\n<polygon fill=\"#000000\" stroke=\"#000000\" points=\"2752.9161,-151.672 2763.3142,-149.6398 2753.9183,-144.7441 2752.9161,-151.672\"/>\n</g>\n<!-- 139937910505632**&#45;1 -->\n<g id=\"node7\" class=\"node\">\n<title>139937910505632**&#45;1</title>\n<ellipse fill=\"none\" stroke=\"#000000\" cx=\"2403\" cy=\"-126.5\" rx=\"28.6953\" ry=\"18\"/>\n<text text-anchor=\"middle\" x=\"2403\" y=\"-122.8\" font-family=\"Times,serif\" font-size=\"14.00\" fill=\"#000000\">**&#45;1</text>\n</g>\n<!-- 139937910505632**&#45;1&#45;&gt;139937910505632 -->\n<g id=\"edge2\" class=\"edge\">\n<title>139937910505632**&#45;1&#45;&gt;139937910505632</title>\n<path fill=\"none\" stroke=\"#000000\" d=\"M2431.8764,-127.0066C2455.5427,-127.4218 2490.5807,-128.0365 2524.6954,-128.635\"/>\n<polygon fill=\"#000000\" stroke=\"#000000\" points=\"2524.6994,-132.1355 2534.7593,-128.8116 2524.8222,-125.1366 2524.6994,-132.1355\"/>\n</g>\n<!-- 139937910437536 -->\n<g id=\"node8\" class=\"node\">\n<title>139937910437536</title>\n<polygon fill=\"none\" stroke=\"#000000\" points=\"2074,-108.5 2074,-144.5 2271,-144.5 2271,-108.5 2074,-108.5\"/>\n<text text-anchor=\"middle\" x=\"2084\" y=\"-122.8\" font-family=\"Times,serif\" font-size=\"14.00\" fill=\"#000000\"> </text>\n<polyline fill=\"none\" stroke=\"#000000\" points=\"2094,-108.5 2094,-144.5 \"/>\n<text text-anchor=\"middle\" x=\"2136.5\" y=\"-122.8\" font-family=\"Times,serif\" font-size=\"14.00\" fill=\"#000000\">data 6.8284</text>\n<polyline fill=\"none\" stroke=\"#000000\" points=\"2179,-108.5 2179,-144.5 \"/>\n<text text-anchor=\"middle\" x=\"2225\" y=\"-122.8\" font-family=\"Times,serif\" font-size=\"14.00\" fill=\"#000000\">grad &#45;0.1036</text>\n</g>\n<!-- 139937910437536&#45;&gt;139937910505632**&#45;1 -->\n<g id=\"edge27\" class=\"edge\">\n<title>139937910437536&#45;&gt;139937910505632**&#45;1</title>\n<path fill=\"none\" stroke=\"#000000\" d=\"M2271.2558,-126.5C2304.1184,-126.5 2338.8079,-126.5 2364.3374,-126.5\"/>\n<polygon fill=\"#000000\" stroke=\"#000000\" points=\"2364.3393,-130.0001 2374.3393,-126.5 2364.3392,-123.0001 2364.3393,-130.0001\"/>\n</g>\n<!-- 139937910437536+ -->\n<g id=\"node9\" class=\"node\">\n<title>139937910437536+</title>\n<ellipse fill=\"none\" stroke=\"#000000\" cx=\"2011\" cy=\"-126.5\" rx=\"27\" ry=\"18\"/>\n<text text-anchor=\"middle\" x=\"2011\" y=\"-122.8\" font-family=\"Times,serif\" font-size=\"14.00\" fill=\"#000000\">+</text>\n</g>\n<!-- 139937910437536+&#45;&gt;139937910437536 -->\n<g id=\"edge3\" class=\"edge\">\n<title>139937910437536+&#45;&gt;139937910437536</title>\n<path fill=\"none\" stroke=\"#000000\" d=\"M2038.0315,-126.5C2045.6149,-126.5 2054.3553,-126.5 2063.6644,-126.5\"/>\n<polygon fill=\"#000000\" stroke=\"#000000\" points=\"2063.9613,-130.0001 2073.9613,-126.5 2063.9613,-123.0001 2063.9613,-130.0001\"/>\n</g>\n<!-- 139937910439072 -->\n<g id=\"node10\" class=\"node\">\n<title>139937910439072</title>\n<polygon fill=\"none\" stroke=\"#000000\" points=\"1751.5,-191.5 1751.5,-227.5 1947.5,-227.5 1947.5,-191.5 1751.5,-191.5\"/>\n<text text-anchor=\"middle\" x=\"1761.5\" y=\"-205.8\" font-family=\"Times,serif\" font-size=\"14.00\" fill=\"#000000\"> </text>\n<polyline fill=\"none\" stroke=\"#000000\" points=\"1771.5,-191.5 1771.5,-227.5 \"/>\n<text text-anchor=\"middle\" x=\"1816\" y=\"-205.8\" font-family=\"Times,serif\" font-size=\"14.00\" fill=\"#000000\">data &#45;1.0000</text>\n<polyline fill=\"none\" stroke=\"#000000\" points=\"1860.5,-191.5 1860.5,-227.5 \"/>\n<text text-anchor=\"middle\" x=\"1904\" y=\"-205.8\" font-family=\"Times,serif\" font-size=\"14.00\" fill=\"#000000\">grad 0.1464</text>\n</g>\n<!-- 139937910436192+ -->\n<g id=\"node17\" class=\"node\">\n<title>139937910436192+</title>\n<ellipse fill=\"none\" stroke=\"#000000\" cx=\"2011\" cy=\"-181.5\" rx=\"27\" ry=\"18\"/>\n<text text-anchor=\"middle\" x=\"2011\" y=\"-177.8\" font-family=\"Times,serif\" font-size=\"14.00\" fill=\"#000000\">+</text>\n</g>\n<!-- 139937910439072&#45;&gt;139937910436192+ -->\n<g id=\"edge26\" class=\"edge\">\n<title>139937910439072&#45;&gt;139937910436192+</title>\n<path fill=\"none\" stroke=\"#000000\" d=\"M1947.6344,-192.486C1957.2015,-190.8273 1966.4268,-189.2279 1974.738,-187.7869\"/>\n<polygon fill=\"#000000\" stroke=\"#000000\" points=\"1975.4785,-191.2108 1984.7336,-186.0539 1974.2827,-184.3137 1975.4785,-191.2108\"/>\n</g>\n<!-- 139937910438352 -->\n<g id=\"node11\" class=\"node\">\n<title>139937910438352</title>\n<polygon fill=\"none\" stroke=\"#000000\" points=\"3.5,-110.5 3.5,-146.5 207.5,-146.5 207.5,-110.5 3.5,-110.5\"/>\n<text text-anchor=\"middle\" x=\"19.5\" y=\"-124.8\" font-family=\"Times,serif\" font-size=\"14.00\" fill=\"#000000\">x2</text>\n<polyline fill=\"none\" stroke=\"#000000\" points=\"35.5,-110.5 35.5,-146.5 \"/>\n<text text-anchor=\"middle\" x=\"78\" y=\"-124.8\" font-family=\"Times,serif\" font-size=\"14.00\" fill=\"#000000\">data 0.0000</text>\n<polyline fill=\"none\" stroke=\"#000000\" points=\"120.5,-110.5 120.5,-146.5 \"/>\n<text text-anchor=\"middle\" x=\"164\" y=\"-124.8\" font-family=\"Times,serif\" font-size=\"14.00\" fill=\"#000000\">grad 0.5000</text>\n</g>\n<!-- 139937910438352&#45;&gt;139937910438784* -->\n<g id=\"edge16\" class=\"edge\">\n<title>139937910438352&#45;&gt;139937910438784*</title>\n<path fill=\"none\" stroke=\"#000000\" d=\"M207.888,-128.5C218.0786,-128.5 227.8975,-128.5 236.7094,-128.5\"/>\n<polygon fill=\"#000000\" stroke=\"#000000\" points=\"236.9159,-132.0001 246.9159,-128.5 236.9158,-125.0001 236.9159,-132.0001\"/>\n</g>\n<!-- 139937910438640 -->\n<g id=\"node12\" class=\"node\">\n<title>139937910438640</title>\n<polygon fill=\"none\" stroke=\"#000000\" points=\"742.5,-137.5 742.5,-173.5 938.5,-173.5 938.5,-137.5 742.5,-137.5\"/>\n<text text-anchor=\"middle\" x=\"754.5\" y=\"-151.8\" font-family=\"Times,serif\" font-size=\"14.00\" fill=\"#000000\">b</text>\n<polyline fill=\"none\" stroke=\"#000000\" points=\"766.5,-137.5 766.5,-173.5 \"/>\n<text text-anchor=\"middle\" x=\"809\" y=\"-151.8\" font-family=\"Times,serif\" font-size=\"14.00\" fill=\"#000000\">data 6.8814</text>\n<polyline fill=\"none\" stroke=\"#000000\" points=\"851.5,-137.5 851.5,-173.5 \"/>\n<text text-anchor=\"middle\" x=\"895\" y=\"-151.8\" font-family=\"Times,serif\" font-size=\"14.00\" fill=\"#000000\">grad 0.5000</text>\n</g>\n<!-- 139937910438640&#45;&gt;139937910439312+ -->\n<g id=\"edge15\" class=\"edge\">\n<title>139937910438640&#45;&gt;139937910439312+</title>\n<path fill=\"none\" stroke=\"#000000\" d=\"M938.7811,-142.238C964.6496,-138.7473 990.9727,-135.1952 1011.2938,-132.4531\"/>\n<polygon fill=\"#000000\" stroke=\"#000000\" points=\"1011.897,-135.9035 1021.3391,-131.0976 1010.9609,-128.9664 1011.897,-135.9035\"/>\n</g>\n<!-- 139937910439168 -->\n<g id=\"node13\" class=\"node\">\n<title>139937910439168</title>\n<polygon fill=\"none\" stroke=\"#000000\" points=\"1433,-136.5 1433,-172.5 1625,-172.5 1625,-136.5 1433,-136.5\"/>\n<text text-anchor=\"middle\" x=\"1443\" y=\"-150.8\" font-family=\"Times,serif\" font-size=\"14.00\" fill=\"#000000\"> </text>\n<polyline fill=\"none\" stroke=\"#000000\" points=\"1453,-136.5 1453,-172.5 \"/>\n<text text-anchor=\"middle\" x=\"1495.5\" y=\"-150.8\" font-family=\"Times,serif\" font-size=\"14.00\" fill=\"#000000\">data 1.7627</text>\n<polyline fill=\"none\" stroke=\"#000000\" points=\"1538,-136.5 1538,-172.5 \"/>\n<text text-anchor=\"middle\" x=\"1581.5\" y=\"-150.8\" font-family=\"Times,serif\" font-size=\"14.00\" fill=\"#000000\">grad 0.2500</text>\n</g>\n<!-- 139937910439888exp -->\n<g id=\"node27\" class=\"node\">\n<title>139937910439888exp</title>\n<ellipse fill=\"none\" stroke=\"#000000\" cx=\"1688\" cy=\"-154.5\" rx=\"27\" ry=\"18\"/>\n<text text-anchor=\"middle\" x=\"1688\" y=\"-150.8\" font-family=\"Times,serif\" font-size=\"14.00\" fill=\"#000000\">exp</text>\n</g>\n<!-- 139937910439168&#45;&gt;139937910439888exp -->\n<g id=\"edge13\" class=\"edge\">\n<title>139937910439168&#45;&gt;139937910439888exp</title>\n<path fill=\"none\" stroke=\"#000000\" d=\"M1625.159,-154.5C1634.0615,-154.5 1642.6722,-154.5 1650.517,-154.5\"/>\n<polygon fill=\"#000000\" stroke=\"#000000\" points=\"1650.6952,-158.0001 1660.6952,-154.5 1650.6951,-151.0001 1650.6952,-158.0001\"/>\n</g>\n<!-- 139937910439168* -->\n<g id=\"node14\" class=\"node\">\n<title>139937910439168*</title>\n<ellipse fill=\"none\" stroke=\"#000000\" cx=\"1370\" cy=\"-154.5\" rx=\"27\" ry=\"18\"/>\n<text text-anchor=\"middle\" x=\"1370\" y=\"-150.8\" font-family=\"Times,serif\" font-size=\"14.00\" fill=\"#000000\">*</text>\n</g>\n<!-- 139937910439168*&#45;&gt;139937910439168 -->\n<g id=\"edge4\" class=\"edge\">\n<title>139937910439168*&#45;&gt;139937910439168</title>\n<path fill=\"none\" stroke=\"#000000\" d=\"M1397.3331,-154.5C1404.8317,-154.5 1413.4389,-154.5 1422.5849,-154.5\"/>\n<polygon fill=\"#000000\" stroke=\"#000000\" points=\"1422.6939,-158.0001 1432.6939,-154.5 1422.6939,-151.0001 1422.6939,-158.0001\"/>\n</g>\n<!-- 139937910437728 -->\n<g id=\"node15\" class=\"node\">\n<title>139937910437728</title>\n<polygon fill=\"none\" stroke=\"#000000\" points=\"1751,-81.5 1751,-117.5 1948,-117.5 1948,-81.5 1751,-81.5\"/>\n<text text-anchor=\"middle\" x=\"1761\" y=\"-95.8\" font-family=\"Times,serif\" font-size=\"14.00\" fill=\"#000000\"> </text>\n<polyline fill=\"none\" stroke=\"#000000\" points=\"1771,-81.5 1771,-117.5 \"/>\n<text text-anchor=\"middle\" x=\"1813.5\" y=\"-95.8\" font-family=\"Times,serif\" font-size=\"14.00\" fill=\"#000000\">data 1.0000</text>\n<polyline fill=\"none\" stroke=\"#000000\" points=\"1856,-81.5 1856,-117.5 \"/>\n<text text-anchor=\"middle\" x=\"1902\" y=\"-95.8\" font-family=\"Times,serif\" font-size=\"14.00\" fill=\"#000000\">grad &#45;0.1036</text>\n</g>\n<!-- 139937910437728&#45;&gt;139937910437536+ -->\n<g id=\"edge22\" class=\"edge\">\n<title>139937910437728&#45;&gt;139937910437536+</title>\n<path fill=\"none\" stroke=\"#000000\" d=\"M1948.0974,-115.9838C1957.4127,-117.5411 1966.3943,-119.0427 1974.5123,-120.3999\"/>\n<polygon fill=\"#000000\" stroke=\"#000000\" points=\"1974.2018,-123.8965 1984.6421,-122.0934 1975.3562,-116.9923 1974.2018,-123.8965\"/>\n</g>\n<!-- 139937910436192 -->\n<g id=\"node16\" class=\"node\">\n<title>139937910436192</title>\n<polygon fill=\"none\" stroke=\"#000000\" points=\"2307,-163.5 2307,-199.5 2499,-199.5 2499,-163.5 2307,-163.5\"/>\n<text text-anchor=\"middle\" x=\"2317\" y=\"-177.8\" font-family=\"Times,serif\" font-size=\"14.00\" fill=\"#000000\"> </text>\n<polyline fill=\"none\" stroke=\"#000000\" points=\"2327,-163.5 2327,-199.5 \"/>\n<text text-anchor=\"middle\" x=\"2369.5\" y=\"-177.8\" font-family=\"Times,serif\" font-size=\"14.00\" fill=\"#000000\">data 4.8284</text>\n<polyline fill=\"none\" stroke=\"#000000\" points=\"2412,-163.5 2412,-199.5 \"/>\n<text text-anchor=\"middle\" x=\"2455.5\" y=\"-177.8\" font-family=\"Times,serif\" font-size=\"14.00\" fill=\"#000000\">grad 0.1464</text>\n</g>\n<!-- 139937910436192&#45;&gt;139937910505872* -->\n<g id=\"edge12\" class=\"edge\">\n<title>139937910436192&#45;&gt;139937910505872*</title>\n<path fill=\"none\" stroke=\"#000000\" d=\"M2499.0652,-174.8912C2563.543,-170.4036 2650.3827,-164.2597 2727,-158.5 2735.4007,-157.8685 2744.4294,-157.166 2752.9537,-156.4919\"/>\n<polygon fill=\"#000000\" stroke=\"#000000\" points=\"2753.3345,-159.9728 2763.0253,-155.6905 2752.7792,-152.9949 2753.3345,-159.9728\"/>\n</g>\n<!-- 139937910436192+&#45;&gt;139937910436192 -->\n<g id=\"edge5\" class=\"edge\">\n<title>139937910436192+&#45;&gt;139937910436192</title>\n<path fill=\"none\" stroke=\"#000000\" d=\"M2038.2535,-181.5C2090.8629,-181.5 2208.9488,-181.5 2296.5875,-181.5\"/>\n<polygon fill=\"#000000\" stroke=\"#000000\" points=\"2296.8483,-185.0001 2306.8482,-181.5 2296.8482,-178.0001 2296.8483,-185.0001\"/>\n</g>\n<!-- 139937910438784 -->\n<g id=\"node18\" class=\"node\">\n<title>139937910438784</title>\n<polygon fill=\"none\" stroke=\"#000000\" points=\"339,-110.5 339,-146.5 568,-146.5 568,-110.5 339,-110.5\"/>\n<text text-anchor=\"middle\" x=\"367.5\" y=\"-124.8\" font-family=\"Times,serif\" font-size=\"14.00\" fill=\"#000000\">x2*w2</text>\n<polyline fill=\"none\" stroke=\"#000000\" points=\"396,-110.5 396,-146.5 \"/>\n<text text-anchor=\"middle\" x=\"438.5\" y=\"-124.8\" font-family=\"Times,serif\" font-size=\"14.00\" fill=\"#000000\">data 0.0000</text>\n<polyline fill=\"none\" stroke=\"#000000\" points=\"481,-110.5 481,-146.5 \"/>\n<text text-anchor=\"middle\" x=\"524.5\" y=\"-124.8\" font-family=\"Times,serif\" font-size=\"14.00\" fill=\"#000000\">grad 0.5000</text>\n</g>\n<!-- 139937910438784&#45;&gt;139937910438976+ -->\n<g id=\"edge14\" class=\"edge\">\n<title>139937910438784&#45;&gt;139937910438976+</title>\n<path fill=\"none\" stroke=\"#000000\" d=\"M568.1964,-110.6086C578.3568,-109.0237 588.0538,-107.5111 596.7076,-106.1612\"/>\n<polygon fill=\"#000000\" stroke=\"#000000\" points=\"597.3659,-109.6009 606.7069,-104.6014 596.2869,-102.6846 597.3659,-109.6009\"/>\n</g>\n<!-- 139937910438784*&#45;&gt;139937910438784 -->\n<g id=\"edge6\" class=\"edge\">\n<title>139937910438784*&#45;&gt;139937910438784</title>\n<path fill=\"none\" stroke=\"#000000\" d=\"M301.2622,-128.5C309.2798,-128.5 318.6183,-128.5 328.6514,-128.5\"/>\n<polygon fill=\"#000000\" stroke=\"#000000\" points=\"328.8929,-132.0001 338.8928,-128.5 328.8928,-125.0001 328.8929,-132.0001\"/>\n</g>\n<!-- 139937910505872 -->\n<g id=\"node20\" class=\"node\">\n<title>139937910505872</title>\n<polygon fill=\"none\" stroke=\"#000000\" points=\"2853,-135.5 2853,-171.5 3049,-171.5 3049,-135.5 2853,-135.5\"/>\n<text text-anchor=\"middle\" x=\"2865\" y=\"-149.8\" font-family=\"Times,serif\" font-size=\"14.00\" fill=\"#000000\">o</text>\n<polyline fill=\"none\" stroke=\"#000000\" points=\"2877,-135.5 2877,-171.5 \"/>\n<text text-anchor=\"middle\" x=\"2919.5\" y=\"-149.8\" font-family=\"Times,serif\" font-size=\"14.00\" fill=\"#000000\">data 0.7071</text>\n<polyline fill=\"none\" stroke=\"#000000\" points=\"2962,-135.5 2962,-171.5 \"/>\n<text text-anchor=\"middle\" x=\"3005.5\" y=\"-149.8\" font-family=\"Times,serif\" font-size=\"14.00\" fill=\"#000000\">grad 1.0000</text>\n</g>\n<!-- 139937910505872*&#45;&gt;139937910505872 -->\n<g id=\"edge7\" class=\"edge\">\n<title>139937910505872*&#45;&gt;139937910505872</title>\n<path fill=\"none\" stroke=\"#000000\" d=\"M2817.3115,-153.5C2824.8223,-153.5 2833.4512,-153.5 2842.6318,-153.5\"/>\n<polygon fill=\"#000000\" stroke=\"#000000\" points=\"2842.7835,-157.0001 2852.7835,-153.5 2842.7835,-150.0001 2842.7835,-157.0001\"/>\n</g>\n<!-- 139937910438832 -->\n<g id=\"node22\" class=\"node\">\n<title>139937910438832</title>\n<polygon fill=\"none\" stroke=\"#000000\" points=\"337,-55.5 337,-91.5 570,-91.5 570,-55.5 337,-55.5\"/>\n<text text-anchor=\"middle\" x=\"365.5\" y=\"-69.8\" font-family=\"Times,serif\" font-size=\"14.00\" fill=\"#000000\">x1*w1</text>\n<polyline fill=\"none\" stroke=\"#000000\" points=\"394,-55.5 394,-91.5 \"/>\n<text text-anchor=\"middle\" x=\"438.5\" y=\"-69.8\" font-family=\"Times,serif\" font-size=\"14.00\" fill=\"#000000\">data &#45;6.0000</text>\n<polyline fill=\"none\" stroke=\"#000000\" points=\"483,-55.5 483,-91.5 \"/>\n<text text-anchor=\"middle\" x=\"526.5\" y=\"-69.8\" font-family=\"Times,serif\" font-size=\"14.00\" fill=\"#000000\">grad 0.5000</text>\n</g>\n<!-- 139937910438832&#45;&gt;139937910438976+ -->\n<g id=\"edge28\" class=\"edge\">\n<title>139937910438832&#45;&gt;139937910438976+</title>\n<path fill=\"none\" stroke=\"#000000\" d=\"M570.2196,-91.0567C579.5315,-92.4574 588.4163,-93.7938 596.4192,-94.9976\"/>\n<polygon fill=\"#000000\" stroke=\"#000000\" points=\"595.984,-98.4714 606.3934,-96.4979 597.0253,-91.5493 595.984,-98.4714\"/>\n</g>\n<!-- 139937910438832*&#45;&gt;139937910438832 -->\n<g id=\"edge8\" class=\"edge\">\n<title>139937910438832*&#45;&gt;139937910438832</title>\n<path fill=\"none\" stroke=\"#000000\" d=\"M301.2622,-73.5C308.8324,-73.5 317.5801,-73.5 326.9781,-73.5\"/>\n<polygon fill=\"#000000\" stroke=\"#000000\" points=\"326.9853,-77.0001 336.9853,-73.5 326.9852,-70.0001 326.9853,-77.0001\"/>\n</g>\n<!-- 139937910439312 -->\n<g id=\"node24\" class=\"node\">\n<title>139937910439312</title>\n<polygon fill=\"none\" stroke=\"#000000\" points=\"1111,-109.5 1111,-145.5 1307,-145.5 1307,-109.5 1111,-109.5\"/>\n<text text-anchor=\"middle\" x=\"1123\" y=\"-123.8\" font-family=\"Times,serif\" font-size=\"14.00\" fill=\"#000000\">n</text>\n<polyline fill=\"none\" stroke=\"#000000\" points=\"1135,-109.5 1135,-145.5 \"/>\n<text text-anchor=\"middle\" x=\"1177.5\" y=\"-123.8\" font-family=\"Times,serif\" font-size=\"14.00\" fill=\"#000000\">data 0.8814</text>\n<polyline fill=\"none\" stroke=\"#000000\" points=\"1220,-109.5 1220,-145.5 \"/>\n<text text-anchor=\"middle\" x=\"1263.5\" y=\"-123.8\" font-family=\"Times,serif\" font-size=\"14.00\" fill=\"#000000\">grad 0.5000</text>\n</g>\n<!-- 139937910439312&#45;&gt;139937910439168* -->\n<g id=\"edge17\" class=\"edge\">\n<title>139937910439312&#45;&gt;139937910439168*</title>\n<path fill=\"none\" stroke=\"#000000\" d=\"M1307.2922,-143.9838C1316.5786,-145.5411 1325.5324,-147.0427 1333.6253,-148.3999\"/>\n<polygon fill=\"#000000\" stroke=\"#000000\" points=\"1333.2825,-151.8912 1343.7237,-150.0934 1334.4403,-144.9876 1333.2825,-151.8912\"/>\n</g>\n<!-- 139937910439312+&#45;&gt;139937910439312 -->\n<g id=\"edge9\" class=\"edge\">\n<title>139937910439312+&#45;&gt;139937910439312</title>\n<path fill=\"none\" stroke=\"#000000\" d=\"M1075.3115,-127.5C1082.8223,-127.5 1091.4512,-127.5 1100.6318,-127.5\"/>\n<polygon fill=\"#000000\" stroke=\"#000000\" points=\"1100.7835,-131.0001 1110.7835,-127.5 1100.7835,-124.0001 1100.7835,-131.0001\"/>\n</g>\n<!-- 139937910439888 -->\n<g id=\"node26\" class=\"node\">\n<title>139937910439888</title>\n<polygon fill=\"none\" stroke=\"#000000\" points=\"1753.5,-136.5 1753.5,-172.5 1945.5,-172.5 1945.5,-136.5 1753.5,-136.5\"/>\n<text text-anchor=\"middle\" x=\"1763.5\" y=\"-150.8\" font-family=\"Times,serif\" font-size=\"14.00\" fill=\"#000000\"> </text>\n<polyline fill=\"none\" stroke=\"#000000\" points=\"1773.5,-136.5 1773.5,-172.5 \"/>\n<text text-anchor=\"middle\" x=\"1816\" y=\"-150.8\" font-family=\"Times,serif\" font-size=\"14.00\" fill=\"#000000\">data 5.8284</text>\n<polyline fill=\"none\" stroke=\"#000000\" points=\"1858.5,-136.5 1858.5,-172.5 \"/>\n<text text-anchor=\"middle\" x=\"1902\" y=\"-150.8\" font-family=\"Times,serif\" font-size=\"14.00\" fill=\"#000000\">grad 0.0429</text>\n</g>\n<!-- 139937910439888&#45;&gt;139937910437536+ -->\n<g id=\"edge20\" class=\"edge\">\n<title>139937910439888&#45;&gt;139937910437536+</title>\n<path fill=\"none\" stroke=\"#000000\" d=\"M1945.7773,-137.808C1956.0703,-136.0234 1966.0136,-134.2995 1974.9036,-132.7582\"/>\n<polygon fill=\"#000000\" stroke=\"#000000\" points=\"1975.5587,-136.1969 1984.8137,-131.04 1974.3628,-129.2998 1975.5587,-136.1969\"/>\n</g>\n<!-- 139937910439888&#45;&gt;139937910436192+ -->\n<g id=\"edge21\" class=\"edge\">\n<title>139937910439888&#45;&gt;139937910436192+</title>\n<path fill=\"none\" stroke=\"#000000\" d=\"M1945.7773,-170.5959C1955.8624,-172.2819 1965.6117,-173.9119 1974.3636,-175.375\"/>\n<polygon fill=\"#000000\" stroke=\"#000000\" points=\"1974.0594,-178.8727 1984.4997,-177.0696 1975.2137,-171.9685 1974.0594,-178.8727\"/>\n</g>\n<!-- 139937910439888exp&#45;&gt;139937910439888 -->\n<g id=\"edge10\" class=\"edge\">\n<title>139937910439888exp&#45;&gt;139937910439888</title>\n<path fill=\"none\" stroke=\"#000000\" d=\"M1715.0315,-154.5C1723.3333,-154.5 1733.0215,-154.5 1743.3247,-154.5\"/>\n<polygon fill=\"#000000\" stroke=\"#000000\" points=\"1743.3664,-158.0001 1753.3663,-154.5 1743.3663,-151.0001 1743.3664,-158.0001\"/>\n</g>\n<!-- 139937910439408 -->\n<g id=\"node28\" class=\"node\">\n<title>139937910439408</title>\n<polygon fill=\"none\" stroke=\"#000000\" points=\"1113,-164.5 1113,-200.5 1305,-200.5 1305,-164.5 1113,-164.5\"/>\n<text text-anchor=\"middle\" x=\"1123\" y=\"-178.8\" font-family=\"Times,serif\" font-size=\"14.00\" fill=\"#000000\"> </text>\n<polyline fill=\"none\" stroke=\"#000000\" points=\"1133,-164.5 1133,-200.5 \"/>\n<text text-anchor=\"middle\" x=\"1175.5\" y=\"-178.8\" font-family=\"Times,serif\" font-size=\"14.00\" fill=\"#000000\">data 2.0000</text>\n<polyline fill=\"none\" stroke=\"#000000\" points=\"1218,-164.5 1218,-200.5 \"/>\n<text text-anchor=\"middle\" x=\"1261.5\" y=\"-178.8\" font-family=\"Times,serif\" font-size=\"14.00\" fill=\"#000000\">grad 0.2203</text>\n</g>\n<!-- 139937910439408&#45;&gt;139937910439168* -->\n<g id=\"edge11\" class=\"edge\">\n<title>139937910439408&#45;&gt;139937910439168*</title>\n<path fill=\"none\" stroke=\"#000000\" d=\"M1305.4428,-165.7273C1315.4412,-163.9885 1325.0978,-162.3091 1333.7618,-160.8023\"/>\n<polygon fill=\"#000000\" stroke=\"#000000\" points=\"1334.5415,-164.2193 1343.7939,-159.0576 1333.342,-157.3228 1334.5415,-164.2193\"/>\n</g>\n</g>\n</svg>\n"
          },
          "metadata": {},
          "execution_count": 4
        }
      ]
    },
    {
      "cell_type": "code",
      "source": [
        "import torch\n",
        "\n",
        "x1 = torch.Tensor([2.0]).double()              ; x1.requires_grad = True\n",
        "x2 = torch.Tensor([0.0]).double()              ; x2.requires_grad = True\n",
        "w1 = torch.Tensor([-3.0]).double()             ; w1.requires_grad = True\n",
        "w2 = torch.Tensor([1.0]).double()              ; w2.requires_grad = True\n",
        "b = torch.Tensor([6.8813735870195432]).double(); b.requires_grad = True\n",
        "n = x1*w1 + x2*w2 + b\n",
        "o = torch.tanh(n)\n",
        "\n",
        "print(o.data.item())\n",
        "o.backward()\n",
        "\n",
        "print('----')\n",
        "print('x2', x2.grad.item())\n",
        "print('w2', w2.grad.item())\n",
        "print('x1', x1.grad.item())\n",
        "print('w1', w1.grad.item())"
      ],
      "metadata": {
        "colab": {
          "base_uri": "https://localhost:8080/"
        },
        "id": "06m5YtO0-1k4",
        "outputId": "1e020de2-1943-4180-b100-3f8d7207fc97"
      },
      "execution_count": 5,
      "outputs": [
        {
          "output_type": "stream",
          "name": "stdout",
          "text": [
            "0.7071066904050358\n",
            "----\n",
            "x2 0.5000001283844369\n",
            "w2 0.0\n",
            "x1 -1.5000003851533106\n",
            "w1 1.0000002567688737\n"
          ]
        }
      ]
    },
    {
      "cell_type": "code",
      "source": [
        "import random\n",
        "\n",
        "class Neuron:\n",
        "  def __init__(self, nin):\n",
        "    # nin: number of inputs\n",
        "    self.w = [Value(random.uniform(-1, 1)) for _ in range(nin)]\n",
        "    self.b = Value(random.uniform(-1, 1))\n",
        "\n",
        "  def __call__(self, x):\n",
        "    act = sum((wi*xi for wi, xi in zip(self.w, x)), self.b) \n",
        "    return act.tanh()\n",
        "\n",
        "  def parameters(self):\n",
        "    return self.w + [self.b]\n",
        "\n",
        "class Layer:\n",
        "  def __init__(self, nin, nout):\n",
        "    self.neurons = [Neuron(nin) for _ in range(nout)]\n",
        "  \n",
        "  def __call__(self, x):\n",
        "    outs = [n(x) for n in self.neurons]\n",
        "    return outs[0] if len(outs)==1 else outs\n",
        "  \n",
        "  def parameters(self):\n",
        "    return [p for neuron in self.neurons for p in neuron.parameters()]\n",
        "\n",
        "class MLP:\n",
        "\n",
        "  def __init__(self, nin, nouts):\n",
        "    sz = [nin] + nouts\n",
        "    self.layers = [Layer(sz[i], sz[i+1]) for i in range(len(nouts))]\n",
        "\n",
        "  def __call__(self, x):\n",
        "    for layer in self.layers:\n",
        "      x = layer(x)\n",
        "    return x\n",
        "  \n",
        "  def parameters(self):\n",
        "    return [p for layer in self.layers for p in layer.parameters()]\n",
        "\n"
      ],
      "metadata": {
        "id": "fPf7YumE-1nf"
      },
      "execution_count": 25,
      "outputs": []
    },
    {
      "cell_type": "code",
      "source": [
        "x = [2.0, 3.0, -1.0]\n",
        "n = MLP(3 ,[4, 4, 1])\n",
        "n(x)"
      ],
      "metadata": {
        "colab": {
          "base_uri": "https://localhost:8080/"
        },
        "id": "OA4e92MlITlG",
        "outputId": "737dd0df-0326-44fb-84a6-ef9d7395ce62"
      },
      "execution_count": 45,
      "outputs": [
        {
          "output_type": "execute_result",
          "data": {
            "text/plain": [
              "Value(data=0.9407849610591351)"
            ]
          },
          "metadata": {},
          "execution_count": 45
        }
      ]
    },
    {
      "cell_type": "code",
      "source": [
        "n.parameters()"
      ],
      "metadata": {
        "id": "JeYW38-1Ij9V"
      },
      "execution_count": null,
      "outputs": []
    },
    {
      "cell_type": "code",
      "source": [
        "draw_dot(n(x))"
      ],
      "metadata": {
        "id": "YuSzshSk-1pw"
      },
      "execution_count": null,
      "outputs": []
    },
    {
      "cell_type": "code",
      "source": [
        "xs = [\n",
        "    [2.0, 3.0, -1.0],\n",
        "    [3.0, -1.0, 0.5],\n",
        "    [0.5, 1.0, 1.0],\n",
        "    [1.0, 1.0, -1.0],\n",
        "]\n",
        "ys = [1.0, -1.0, -1.0, 1.0]"
      ],
      "metadata": {
        "id": "iWlZqhQL-1sB"
      },
      "execution_count": 46,
      "outputs": []
    },
    {
      "cell_type": "code",
      "source": [
        "for k in range(20):\n",
        "\n",
        "  # forward pass\n",
        "  ypred = [n(x) for x in xs]\n",
        "  loss = sum((yout - ygt)**2 for ygt, yout in zip(ys, ypred))\n",
        "  \n",
        "  # backward pass\n",
        "  for p in n.parameters():\n",
        "    p.grad = 0.0\n",
        "  loss.backward()\n",
        "\n",
        "  # update\n",
        "  for p in n.parameters():\n",
        "    p.data += -0.1 * p.grad\n",
        "\n",
        "  print(k, loss.data)"
      ],
      "metadata": {
        "colab": {
          "base_uri": "https://localhost:8080/"
        },
        "id": "ZOvtbylK-1uY",
        "outputId": "fa7a90bb-bdb7-4a2e-a0c2-43d7fe814ac8"
      },
      "execution_count": 61,
      "outputs": [
        {
          "output_type": "stream",
          "name": "stdout",
          "text": [
            "0 0.004257584715489684\n",
            "1 0.00419268453860241\n",
            "2 0.004129663819405892\n",
            "3 0.004068443319445643\n",
            "4 0.004008948154416201\n",
            "5 0.003951107500815935\n",
            "6 0.003894854325908595\n",
            "7 0.0038401251388655686\n",
            "8 0.0037868597611814842\n",
            "9 0.0037350011146489877\n",
            "10 0.0036844950253501333\n",
            "11 0.003635290042274615\n",
            "12 0.0035873372693106015\n",
            "13 0.0035405902094754584\n",
            "14 0.0034950046203613906\n",
            "15 0.003450538379867838\n",
            "16 0.0034071513613793116\n",
            "17 0.0033648053176243966\n",
            "18 0.003323463772521763\n",
            "19 0.003283091920381574\n"
          ]
        }
      ]
    },
    {
      "cell_type": "code",
      "source": [
        "ypred"
      ],
      "metadata": {
        "colab": {
          "base_uri": "https://localhost:8080/"
        },
        "id": "nsFGELHm-15R",
        "outputId": "c0475933-829c-4634-a9d4-97af67b46388"
      },
      "execution_count": 62,
      "outputs": [
        {
          "output_type": "execute_result",
          "data": {
            "text/plain": [
              "[Value(data=0.9661031837349462),\n",
              " Value(data=-0.9926828499286958),\n",
              " Value(data=-0.957267769150557),\n",
              " Value(data=0.9840465198486762)]"
            ]
          },
          "metadata": {},
          "execution_count": 62
        }
      ]
    },
    {
      "cell_type": "code",
      "source": [],
      "metadata": {
        "id": "Nxi7t-AS-17p"
      },
      "execution_count": null,
      "outputs": []
    },
    {
      "cell_type": "code",
      "source": [],
      "metadata": {
        "id": "_hkLF0LO-1-H"
      },
      "execution_count": null,
      "outputs": []
    },
    {
      "cell_type": "code",
      "source": [],
      "metadata": {
        "id": "EdhrklTn-2Az"
      },
      "execution_count": null,
      "outputs": []
    },
    {
      "cell_type": "code",
      "source": [],
      "metadata": {
        "id": "-IuxEEj6-2DP"
      },
      "execution_count": null,
      "outputs": []
    },
    {
      "cell_type": "code",
      "source": [],
      "metadata": {
        "id": "8ytXzX68-2Fz"
      },
      "execution_count": null,
      "outputs": []
    },
    {
      "cell_type": "code",
      "source": [],
      "metadata": {
        "id": "XIvRJ9RB-2Ih"
      },
      "execution_count": null,
      "outputs": []
    },
    {
      "cell_type": "code",
      "source": [],
      "metadata": {
        "id": "mOCaspO9-2LS"
      },
      "execution_count": null,
      "outputs": []
    },
    {
      "cell_type": "markdown",
      "source": [
        "# r"
      ],
      "metadata": {
        "id": "2iWnfIaj-2W4"
      }
    },
    {
      "cell_type": "code",
      "source": [
        "def f(x):\n",
        "  return 3*x**2 -4*x +5"
      ],
      "metadata": {
        "id": "BzmG7H7RbxLT"
      },
      "execution_count": null,
      "outputs": []
    },
    {
      "cell_type": "code",
      "source": [
        "f(3.0)"
      ],
      "metadata": {
        "colab": {
          "base_uri": "https://localhost:8080/"
        },
        "id": "jPxWOtOcbxNx",
        "outputId": "78bb81e5-df85-439d-b465-4feb191bcd40"
      },
      "execution_count": null,
      "outputs": [
        {
          "output_type": "execute_result",
          "data": {
            "text/plain": [
              "20.0"
            ]
          },
          "metadata": {},
          "execution_count": 3
        }
      ]
    },
    {
      "cell_type": "code",
      "source": [
        "xs = np.arange(-5, 5, 0.25)\n",
        "ys = f(xs)\n",
        "ys"
      ],
      "metadata": {
        "colab": {
          "base_uri": "https://localhost:8080/"
        },
        "id": "e9CPVrTWbxQa",
        "outputId": "8443dd85-4d93-47cd-87d9-0bcaa4414c9e"
      },
      "execution_count": null,
      "outputs": [
        {
          "output_type": "execute_result",
          "data": {
            "text/plain": [
              "array([100.    ,  91.6875,  83.75  ,  76.1875,  69.    ,  62.1875,\n",
              "        55.75  ,  49.6875,  44.    ,  38.6875,  33.75  ,  29.1875,\n",
              "        25.    ,  21.1875,  17.75  ,  14.6875,  12.    ,   9.6875,\n",
              "         7.75  ,   6.1875,   5.    ,   4.1875,   3.75  ,   3.6875,\n",
              "         4.    ,   4.6875,   5.75  ,   7.1875,   9.    ,  11.1875,\n",
              "        13.75  ,  16.6875,  20.    ,  23.6875,  27.75  ,  32.1875,\n",
              "        37.    ,  42.1875,  47.75  ,  53.6875])"
            ]
          },
          "metadata": {},
          "execution_count": 4
        }
      ]
    },
    {
      "cell_type": "code",
      "source": [
        "plt.plot(xs, ys)"
      ],
      "metadata": {
        "colab": {
          "base_uri": "https://localhost:8080/",
          "height": 282
        },
        "id": "VVXfYTQSbxS6",
        "outputId": "0d53ab58-36d1-4554-bfb8-86f1dc9ccc96"
      },
      "execution_count": null,
      "outputs": [
        {
          "output_type": "execute_result",
          "data": {
            "text/plain": [
              "[<matplotlib.lines.Line2D at 0x7f840bd34c10>]"
            ]
          },
          "metadata": {},
          "execution_count": 5
        },
        {
          "output_type": "display_data",
          "data": {
            "text/plain": [
              "<Figure size 432x288 with 1 Axes>"
            ],
            "image/png": "[encoded data removed]"
          },
          "metadata": {
            "needs_background": "light"
          }
        }
      ]
    },
    {
      "cell_type": "code",
      "source": [
        "h = 0.000001\n",
        "x = 2/3\n",
        "(f(x + h) - f(x))/h"
      ],
      "metadata": {
        "colab": {
          "base_uri": "https://localhost:8080/"
        },
        "id": "d9prikyIbxVa",
        "outputId": "7ae6c511-7e67-4584-d19a-937bd6eb88a4"
      },
      "execution_count": null,
      "outputs": [
        {
          "output_type": "execute_result",
          "data": {
            "text/plain": [
              "2.999378523327323e-06"
            ]
          },
          "metadata": {},
          "execution_count": 11
        }
      ]
    },
    {
      "cell_type": "code",
      "source": [
        "a = 2.0\n",
        "b = -3.0\n",
        "c = 10.0\n",
        "d = a*b + c\n",
        "print(d)"
      ],
      "metadata": {
        "colab": {
          "base_uri": "https://localhost:8080/"
        },
        "id": "JIImNwCHbxX0",
        "outputId": "0a4dcf1e-23cc-4b92-85f3-c2d162a24e07"
      },
      "execution_count": null,
      "outputs": [
        {
          "output_type": "stream",
          "name": "stdout",
          "text": [
            "4.0\n"
          ]
        }
      ]
    },
    {
      "cell_type": "code",
      "source": [
        "h = 0.0001\n",
        "\n",
        "a = 2.0\n",
        "b = -3.0\n",
        "c = 10.0\n",
        "\n",
        "d1 = a*b + c\n",
        "c += h\n",
        "d2 = a*b + c\n",
        "print('d1', d1)\n",
        "print('d2', d2)\n",
        "print('slope', (d2-d1)/h)"
      ],
      "metadata": {
        "colab": {
          "base_uri": "https://localhost:8080/"
        },
        "id": "1rf0n97KbxaS",
        "outputId": "fbc99e52-8f0c-4bf4-e6fd-b3304177975d"
      },
      "execution_count": null,
      "outputs": [
        {
          "output_type": "stream",
          "name": "stdout",
          "text": [
            "d1 4.0\n",
            "d2 4.0001\n",
            "slope 0.9999999999976694\n"
          ]
        }
      ]
    },
    {
      "cell_type": "code",
      "source": [
        "a = Value(2.0, label='a')\n",
        "b = Value(-3.0, label='b')\n",
        "c = Value(10.0, label='c')\n",
        "e = a*b; e.label='e'\n",
        "d = e + c; d.label='d'\n",
        "f = Value(-2.0, label='f')\n",
        "L = d*f; L.label = 'L'\n",
        "L"
      ],
      "metadata": {
        "id": "qBCDRKxt-9T3"
      },
      "execution_count": null,
      "outputs": []
    },
    {
      "cell_type": "code",
      "source": [
        "draw_dot(L)"
      ],
      "metadata": {
        "id": "Fz0vTg7BbxkC",
        "colab": {
          "base_uri": "https://localhost:8080/",
          "height": 249
        },
        "outputId": "a48c196f-7e71-44b2-998b-1c322e104a7d"
      },
      "execution_count": 8,
      "outputs": [
        {
          "output_type": "execute_result",
          "data": {
            "text/plain": [
              "<graphviz.dot.Digraph at 0x7f94e666daf0>"
            ],
            "image/svg+xml": "<?xml version=\"1.0\" encoding=\"UTF-8\" standalone=\"no\"?>\n<!DOCTYPE svg PUBLIC \"-//W3C//DTD SVG 1.1//EN\"\n \"http://www.w3.org/Graphics/SVG/1.1/DTD/svg11.dtd\">\n<!-- Generated by graphviz version 2.40.1 (20161225.0304)\n -->\n<!-- Title: %3 Pages: 1 -->\n<svg width=\"1201pt\" height=\"156pt\"\n viewBox=\"0.00 0.00 1201.00 156.00\" xmlns=\"http://www.w3.org/2000/svg\" xmlns:xlink=\"http://www.w3.org/1999/xlink\">\n<g id=\"graph0\" class=\"graph\" transform=\"scale(1 1) rotate(0) translate(4 152)\">\n<title>%3</title>\n<polygon fill=\"#ffffff\" stroke=\"transparent\" points=\"-4,4 -4,-152 1197,-152 1197,4 -4,4\"/>\n<!-- 140277677174944 -->\n<g id=\"node1\" class=\"node\">\n<title>140277677174944</title>\n<polygon fill=\"none\" stroke=\"#000000\" points=\"5,-111.5 5,-147.5 200,-147.5 200,-111.5 5,-111.5\"/>\n<text text-anchor=\"middle\" x=\"16.5\" y=\"-125.8\" font-family=\"Times,serif\" font-size=\"14.00\" fill=\"#000000\">a</text>\n<polyline fill=\"none\" stroke=\"#000000\" points=\"28,-111.5 28,-147.5 \"/>\n<text text-anchor=\"middle\" x=\"70.5\" y=\"-125.8\" font-family=\"Times,serif\" font-size=\"14.00\" fill=\"#000000\">data 2.0000</text>\n<polyline fill=\"none\" stroke=\"#000000\" points=\"113,-111.5 113,-147.5 \"/>\n<text text-anchor=\"middle\" x=\"156.5\" y=\"-125.8\" font-family=\"Times,serif\" font-size=\"14.00\" fill=\"#000000\">grad 6.0000</text>\n</g>\n<!-- 140277677175184* -->\n<g id=\"node9\" class=\"node\">\n<title>140277677175184*</title>\n<ellipse fill=\"none\" stroke=\"#000000\" cx=\"268\" cy=\"-101.5\" rx=\"27\" ry=\"18\"/>\n<text text-anchor=\"middle\" x=\"268\" y=\"-97.8\" font-family=\"Times,serif\" font-size=\"14.00\" fill=\"#000000\">*</text>\n</g>\n<!-- 140277677174944&#45;&gt;140277677175184* -->\n<g id=\"edge7\" class=\"edge\">\n<title>140277677174944&#45;&gt;140277677175184*</title>\n<path fill=\"none\" stroke=\"#000000\" d=\"M200.2073,-112.9695C211.4112,-111.0739 222.2367,-109.2424 231.825,-107.6202\"/>\n<polygon fill=\"#000000\" stroke=\"#000000\" points=\"232.4272,-111.0682 241.7032,-105.949 231.2594,-104.1663 232.4272,-111.0682\"/>\n</g>\n<!-- 140277677174992 -->\n<g id=\"node2\" class=\"node\">\n<title>140277677174992</title>\n<polygon fill=\"none\" stroke=\"#000000\" points=\"331,-28.5 331,-64.5 538,-64.5 538,-28.5 331,-28.5\"/>\n<text text-anchor=\"middle\" x=\"342.5\" y=\"-42.8\" font-family=\"Times,serif\" font-size=\"14.00\" fill=\"#000000\">c</text>\n<polyline fill=\"none\" stroke=\"#000000\" points=\"354,-28.5 354,-64.5 \"/>\n<text text-anchor=\"middle\" x=\"400\" y=\"-42.8\" font-family=\"Times,serif\" font-size=\"14.00\" fill=\"#000000\">data 10.0000</text>\n<polyline fill=\"none\" stroke=\"#000000\" points=\"446,-28.5 446,-64.5 \"/>\n<text text-anchor=\"middle\" x=\"492\" y=\"-42.8\" font-family=\"Times,serif\" font-size=\"14.00\" fill=\"#000000\">grad &#45;2.0000</text>\n</g>\n<!-- 140277677175664+ -->\n<g id=\"node7\" class=\"node\">\n<title>140277677175664+</title>\n<ellipse fill=\"none\" stroke=\"#000000\" cx=\"601\" cy=\"-73.5\" rx=\"27\" ry=\"18\"/>\n<text text-anchor=\"middle\" x=\"601\" y=\"-69.8\" font-family=\"Times,serif\" font-size=\"14.00\" fill=\"#000000\">+</text>\n</g>\n<!-- 140277677174992&#45;&gt;140277677175664+ -->\n<g id=\"edge4\" class=\"edge\">\n<title>140277677174992&#45;&gt;140277677175664+</title>\n<path fill=\"none\" stroke=\"#000000\" d=\"M538.0535,-63.2925C547.4338,-64.8136 556.4479,-66.2753 564.5787,-67.5938\"/>\n<polygon fill=\"#000000\" stroke=\"#000000\" points=\"564.2839,-71.0917 574.7152,-69.2376 565.4044,-64.1819 564.2839,-71.0917\"/>\n</g>\n<!-- 140277677175040 -->\n<g id=\"node3\" class=\"node\">\n<title>140277677175040</title>\n<polygon fill=\"none\" stroke=\"#000000\" points=\"0,-56.5 0,-92.5 205,-92.5 205,-56.5 0,-56.5\"/>\n<text text-anchor=\"middle\" x=\"12\" y=\"-70.8\" font-family=\"Times,serif\" font-size=\"14.00\" fill=\"#000000\">b</text>\n<polyline fill=\"none\" stroke=\"#000000\" points=\"24,-56.5 24,-92.5 \"/>\n<text text-anchor=\"middle\" x=\"68.5\" y=\"-70.8\" font-family=\"Times,serif\" font-size=\"14.00\" fill=\"#000000\">data &#45;3.0000</text>\n<polyline fill=\"none\" stroke=\"#000000\" points=\"113,-56.5 113,-92.5 \"/>\n<text text-anchor=\"middle\" x=\"159\" y=\"-70.8\" font-family=\"Times,serif\" font-size=\"14.00\" fill=\"#000000\">grad &#45;4.0000</text>\n</g>\n<!-- 140277677175040&#45;&gt;140277677175184* -->\n<g id=\"edge8\" class=\"edge\">\n<title>140277677175040&#45;&gt;140277677175184*</title>\n<path fill=\"none\" stroke=\"#000000\" d=\"M205.4315,-91.2925C214.6641,-92.7987 223.5398,-94.2467 231.5595,-95.555\"/>\n<polygon fill=\"#000000\" stroke=\"#000000\" points=\"231.1342,-99.0318 241.5673,-97.1877 232.2613,-92.1232 231.1342,-99.0318\"/>\n</g>\n<!-- 140277677175568 -->\n<g id=\"node4\" class=\"node\">\n<title>140277677175568</title>\n<polygon fill=\"none\" stroke=\"#000000\" points=\"991,-27.5 991,-63.5 1193,-63.5 1193,-27.5 991,-27.5\"/>\n<text text-anchor=\"middle\" x=\"1004\" y=\"-41.8\" font-family=\"Times,serif\" font-size=\"14.00\" fill=\"#000000\">L</text>\n<polyline fill=\"none\" stroke=\"#000000\" points=\"1017,-27.5 1017,-63.5 \"/>\n<text text-anchor=\"middle\" x=\"1061.5\" y=\"-41.8\" font-family=\"Times,serif\" font-size=\"14.00\" fill=\"#000000\">data &#45;8.0000</text>\n<polyline fill=\"none\" stroke=\"#000000\" points=\"1106,-27.5 1106,-63.5 \"/>\n<text text-anchor=\"middle\" x=\"1149.5\" y=\"-41.8\" font-family=\"Times,serif\" font-size=\"14.00\" fill=\"#000000\">grad 1.0000</text>\n</g>\n<!-- 140277677175568* -->\n<g id=\"node5\" class=\"node\">\n<title>140277677175568*</title>\n<ellipse fill=\"none\" stroke=\"#000000\" cx=\"928\" cy=\"-45.5\" rx=\"27\" ry=\"18\"/>\n<text text-anchor=\"middle\" x=\"928\" y=\"-41.8\" font-family=\"Times,serif\" font-size=\"14.00\" fill=\"#000000\">*</text>\n</g>\n<!-- 140277677175568*&#45;&gt;140277677175568 -->\n<g id=\"edge1\" class=\"edge\">\n<title>140277677175568*&#45;&gt;140277677175568</title>\n<path fill=\"none\" stroke=\"#000000\" d=\"M955.0813,-45.5C962.631,-45.5 971.3302,-45.5 980.608,-45.5\"/>\n<polygon fill=\"#000000\" stroke=\"#000000\" points=\"980.8754,-49.0001 990.8754,-45.5 980.8754,-42.0001 980.8754,-49.0001\"/>\n</g>\n<!-- 140277677175664 -->\n<g id=\"node6\" class=\"node\">\n<title>140277677175664</title>\n<polygon fill=\"none\" stroke=\"#000000\" points=\"664,-55.5 664,-91.5 865,-91.5 865,-55.5 664,-55.5\"/>\n<text text-anchor=\"middle\" x=\"676\" y=\"-69.8\" font-family=\"Times,serif\" font-size=\"14.00\" fill=\"#000000\">d</text>\n<polyline fill=\"none\" stroke=\"#000000\" points=\"688,-55.5 688,-91.5 \"/>\n<text text-anchor=\"middle\" x=\"730.5\" y=\"-69.8\" font-family=\"Times,serif\" font-size=\"14.00\" fill=\"#000000\">data 4.0000</text>\n<polyline fill=\"none\" stroke=\"#000000\" points=\"773,-55.5 773,-91.5 \"/>\n<text text-anchor=\"middle\" x=\"819\" y=\"-69.8\" font-family=\"Times,serif\" font-size=\"14.00\" fill=\"#000000\">grad &#45;2.0000</text>\n</g>\n<!-- 140277677175664&#45;&gt;140277677175568* -->\n<g id=\"edge6\" class=\"edge\">\n<title>140277677175664&#45;&gt;140277677175568*</title>\n<path fill=\"none\" stroke=\"#000000\" d=\"M865.2542,-56.2455C874.5755,-54.6491 883.5479,-53.1126 891.6492,-51.7252\"/>\n<polygon fill=\"#000000\" stroke=\"#000000\" points=\"892.4879,-55.1326 901.7536,-49.9948 891.3063,-48.2331 892.4879,-55.1326\"/>\n</g>\n<!-- 140277677175664+&#45;&gt;140277677175664 -->\n<g id=\"edge2\" class=\"edge\">\n<title>140277677175664+&#45;&gt;140277677175664</title>\n<path fill=\"none\" stroke=\"#000000\" d=\"M628.3662,-73.5C635.8433,-73.5 644.4313,-73.5 653.5802,-73.5\"/>\n<polygon fill=\"#000000\" stroke=\"#000000\" points=\"653.702,-77.0001 663.702,-73.5 653.7019,-70.0001 653.702,-77.0001\"/>\n</g>\n<!-- 140277677175184 -->\n<g id=\"node8\" class=\"node\">\n<title>140277677175184</title>\n<polygon fill=\"none\" stroke=\"#000000\" points=\"332.5,-83.5 332.5,-119.5 536.5,-119.5 536.5,-83.5 332.5,-83.5\"/>\n<text text-anchor=\"middle\" x=\"344\" y=\"-97.8\" font-family=\"Times,serif\" font-size=\"14.00\" fill=\"#000000\">e</text>\n<polyline fill=\"none\" stroke=\"#000000\" points=\"355.5,-83.5 355.5,-119.5 \"/>\n<text text-anchor=\"middle\" x=\"400\" y=\"-97.8\" font-family=\"Times,serif\" font-size=\"14.00\" fill=\"#000000\">data &#45;6.0000</text>\n<polyline fill=\"none\" stroke=\"#000000\" points=\"444.5,-83.5 444.5,-119.5 \"/>\n<text text-anchor=\"middle\" x=\"490.5\" y=\"-97.8\" font-family=\"Times,serif\" font-size=\"14.00\" fill=\"#000000\">grad &#45;2.0000</text>\n</g>\n<!-- 140277677175184&#45;&gt;140277677175664+ -->\n<g id=\"edge5\" class=\"edge\">\n<title>140277677175184&#45;&gt;140277677175664+</title>\n<path fill=\"none\" stroke=\"#000000\" d=\"M536.6268,-84.3255C546.5808,-82.6516 556.1548,-81.0415 564.738,-79.5981\"/>\n<polygon fill=\"#000000\" stroke=\"#000000\" points=\"565.394,-83.037 574.675,-77.927 564.233,-76.134 565.394,-83.037\"/>\n</g>\n<!-- 140277677175184*&#45;&gt;140277677175184 -->\n<g id=\"edge3\" class=\"edge\">\n<title>140277677175184*&#45;&gt;140277677175184</title>\n<path fill=\"none\" stroke=\"#000000\" d=\"M295.1217,-101.5C303.0694,-101.5 312.2947,-101.5 322.1416,-101.5\"/>\n<polygon fill=\"#000000\" stroke=\"#000000\" points=\"322.1714,-105.0001 332.1714,-101.5 322.1713,-98.0001 322.1714,-105.0001\"/>\n</g>\n<!-- 140277677175712 -->\n<g id=\"node10\" class=\"node\">\n<title>140277677175712</title>\n<polygon fill=\"none\" stroke=\"#000000\" points=\"666,-.5 666,-36.5 863,-36.5 863,-.5 666,-.5\"/>\n<text text-anchor=\"middle\" x=\"676.5\" y=\"-14.8\" font-family=\"Times,serif\" font-size=\"14.00\" fill=\"#000000\">f</text>\n<polyline fill=\"none\" stroke=\"#000000\" points=\"687,-.5 687,-36.5 \"/>\n<text text-anchor=\"middle\" x=\"731.5\" y=\"-14.8\" font-family=\"Times,serif\" font-size=\"14.00\" fill=\"#000000\">data &#45;2.0000</text>\n<polyline fill=\"none\" stroke=\"#000000\" points=\"776,-.5 776,-36.5 \"/>\n<text text-anchor=\"middle\" x=\"819.5\" y=\"-14.8\" font-family=\"Times,serif\" font-size=\"14.00\" fill=\"#000000\">grad 4.0000</text>\n</g>\n<!-- 140277677175712&#45;&gt;140277677175568* -->\n<g id=\"edge9\" class=\"edge\">\n<title>140277677175712&#45;&gt;140277677175568*</title>\n<path fill=\"none\" stroke=\"#000000\" d=\"M863.3805,-34.8289C873.3252,-36.4711 882.9157,-38.0549 891.5272,-39.477\"/>\n<polygon fill=\"#000000\" stroke=\"#000000\" points=\"891.067,-42.9483 901.5037,-41.1245 892.2076,-36.0418 891.067,-42.9483\"/>\n</g>\n</g>\n</svg>\n"
          },
          "metadata": {},
          "execution_count": 8
        }
      ]
    },
    {
      "cell_type": "code",
      "source": [
        "L.grad = 1.0\n",
        "f.grad = 4.0\n",
        "d.grad = -2.0\n",
        "c.grad = -2.0\n",
        "e.grad = -2.0\n",
        "a.grad = (-2.0 * -3.0)\n",
        "b.grad = (-2.0 * 2.0)"
      ],
      "metadata": {
        "id": "XHK6-kcAFwLj"
      },
      "execution_count": 7,
      "outputs": []
    },
    {
      "cell_type": "code",
      "source": [
        "a.data += 0.01 * a.grad\n",
        "b.data += 0.01 * b.grad\n",
        "c.data += 0.01 * c.grad\n",
        "f.data += 0.01 * f.grad\n",
        "\n",
        "e = a * b\n",
        "d = e + c\n",
        "L = d * f\n",
        "L.data"
      ],
      "metadata": {
        "colab": {
          "base_uri": "https://localhost:8080/"
        },
        "id": "apnCk3zzwRud",
        "outputId": "b3cd7733-1e58-475c-8a43-feacd58005cb"
      },
      "execution_count": 9,
      "outputs": [
        {
          "output_type": "execute_result",
          "data": {
            "text/plain": [
              "-7.286496"
            ]
          },
          "metadata": {},
          "execution_count": 9
        }
      ]
    },
    {
      "cell_type": "code",
      "source": [
        "def lol():\n",
        "  h = 0.0001\n",
        "\n",
        "  a = Value(2.0, label='a')\n",
        "  b = Value(-3.0, label='b')\n",
        "  c = Value(10.0, label='c')\n",
        "  e = a*b; e.label='e'\n",
        "  d = e + c; d.label='d'\n",
        "  f = Value(-2.0, label='f')\n",
        "  L = d*f; L.label = 'L'\n",
        "  L1 = L.data\n",
        "\n",
        "  a = Value(2.0 + h, label='a')\n",
        "  b = Value(-3.0, label='b')\n",
        "  c = Value(10.0, label='c')\n",
        "  e = a*b; e.label='e'\n",
        "  d = e + c; d.label='d'\n",
        "  f = Value(-2.0, label='f')\n",
        "  L = d*f; L.label = 'L'\n",
        "  L2 = L.data\n",
        "  \n",
        "  print((L2 - L1)/h)\n",
        "\n",
        "lol()"
      ],
      "metadata": {
        "id": "_qiY9VZ6bxma",
        "colab": {
          "base_uri": "https://localhost:8080/"
        },
        "outputId": "8bcef27a-6fb9-478d-dc66-3d31bbb97ebf"
      },
      "execution_count": null,
      "outputs": [
        {
          "output_type": "stream",
          "name": "stdout",
          "text": [
            "6.000000000021544\n"
          ]
        }
      ]
    },
    {
      "cell_type": "code",
      "source": [
        "plt.plot(np.arange(-5,5,0.2), np.tanh(np.arange(-5,5,0.2))); plt.grid();"
      ],
      "metadata": {
        "colab": {
          "base_uri": "https://localhost:8080/",
          "height": 265
        },
        "id": "CgppZfhpxbO1",
        "outputId": "fbfbe0af-1266-41a2-cc18-77757f236ed5"
      },
      "execution_count": 11,
      "outputs": [
        {
          "output_type": "display_data",
          "data": {
            "text/plain": [
              "<Figure size 432x288 with 1 Axes>"
            ],
            "image/png": "[encoded data removed]"
          },
          "metadata": {
            "needs_background": "light"
          }
        }
      ]
    },
    {
      "cell_type": "code",
      "source": [],
      "metadata": {
        "id": "-uNllNq5-hO4"
      },
      "execution_count": null,
      "outputs": []
    },
    {
      "cell_type": "code",
      "source": [
        "o.grad = 1.0\n",
        "\n",
        "topo = []\n",
        "visited = set()\n",
        "def build_topo(v):\n",
        "  if v not in visited:\n",
        "    visited.add(v)\n",
        "    for child in v._prev:\n",
        "      build_topo(child)\n",
        "    topo.append(v)\n",
        "build_topo(o)\n",
        "topo\n",
        "\n",
        "for node in reversed(topo):\n",
        "  node._backward()"
      ],
      "metadata": {
        "id": "b7zUSmi35_qi"
      },
      "execution_count": 47,
      "outputs": []
    },
    {
      "cell_type": "code",
      "source": [
        "topo = []\n",
        "visited = set()\n",
        "def build_topo(v):\n",
        "  if v not in visited:\n",
        "    visited.add(v)\n",
        "    for child in v._prev:\n",
        "      build_topo(child)\n",
        "    topo.append(v)\n",
        "build_topo(o)\n",
        "topo"
      ],
      "metadata": {
        "colab": {
          "base_uri": "https://localhost:8080/"
        },
        "id": "qxf85Nvw7WGh",
        "outputId": "024883b7-ec40-4e0e-a41a-ebeb6e9dbc4f"
      },
      "execution_count": 44,
      "outputs": [
        {
          "output_type": "execute_result",
          "data": {
            "text/plain": [
              "[Value(data=6.881373587019543),\n",
              " Value(data=2.0),\n",
              " Value(data=-3.0),\n",
              " Value(data=-6.0),\n",
              " Value(data=0.0),\n",
              " Value(data=1.0),\n",
              " Value(data=0.0),\n",
              " Value(data=-6.0),\n",
              " Value(data=0.8813735870195432),\n",
              " Value(data=0.7071067811865476)]"
            ]
          },
          "metadata": {},
          "execution_count": 44
        }
      ]
    },
    {
      "cell_type": "code",
      "source": [
        "o._backward()"
      ],
      "metadata": {
        "id": "GQGqgCLI6AlB"
      },
      "execution_count": 36,
      "outputs": []
    },
    {
      "cell_type": "code",
      "source": [
        "n._backward()"
      ],
      "metadata": {
        "id": "5QDYXAXi6bex"
      },
      "execution_count": 38,
      "outputs": []
    },
    {
      "cell_type": "code",
      "source": [
        "x1w1x2w2._backward()"
      ],
      "metadata": {
        "id": "CDobRtBy6qQ6"
      },
      "execution_count": 40,
      "outputs": []
    },
    {
      "cell_type": "code",
      "source": [
        "x1w1._backward()\n",
        "x2w2._backward()"
      ],
      "metadata": {
        "id": "plgGHITY6zji"
      },
      "execution_count": 42,
      "outputs": []
    },
    {
      "cell_type": "code",
      "source": [
        "o.grad = 1.0\n",
        "n.grad = 0.5\n",
        "x1w1x2w2.grad = 0.5\n",
        "b.grad =  0.5\n",
        "x1w1.grad = 0.5\n",
        "x2w2.grad = 0.5\n",
        "x2.grad = w2.data * x2w2.grad\n",
        "w2.grad = x2.data * x2w2.grad\n",
        "x1.grad = w1.data * x1w1.grad\n",
        "w1.grad = x1.data * x1w1.grad"
      ],
      "metadata": {
        "id": "-wsdxsuhzPyr"
      },
      "execution_count": 29,
      "outputs": []
    },
    {
      "cell_type": "code",
      "source": [
        "1-o.data**2"
      ],
      "metadata": {
        "colab": {
          "base_uri": "https://localhost:8080/"
        },
        "id": "itCez7Ic2Egr",
        "outputId": "18b8e7a2-15fa-4d85-93c8-72aceefc9eeb"
      },
      "execution_count": 26,
      "outputs": [
        {
          "output_type": "execute_result",
          "data": {
            "text/plain": [
              "0.4999999999999999"
            ]
          },
          "metadata": {},
          "execution_count": 26
        }
      ]
    },
    {
      "cell_type": "code",
      "source": [
        "a = Value(3.0, label='a')\n",
        "b = a+a; b.label='b'\n",
        "b.backward()\n",
        "draw_dot(b)"
      ],
      "metadata": {
        "colab": {
          "base_uri": "https://localhost:8080/",
          "height": 81
        },
        "id": "oPIK4VPf2i1b",
        "outputId": "dfa48d42-065a-47e0-bc25-c5994eb4f4b4"
      },
      "execution_count": 58,
      "outputs": [
        {
          "output_type": "execute_result",
          "data": {
            "text/plain": [
              "<graphviz.dot.Digraph at 0x7f94e655c340>"
            ],
            "image/svg+xml": "<?xml version=\"1.0\" encoding=\"UTF-8\" standalone=\"no\"?>\n<!DOCTYPE svg PUBLIC \"-//W3C//DTD SVG 1.1//EN\"\n \"http://www.w3.org/Graphics/SVG/1.1/DTD/svg11.dtd\">\n<!-- Generated by graphviz version 2.40.1 (20161225.0304)\n -->\n<!-- Title: %3 Pages: 1 -->\n<svg width=\"525pt\" height=\"45pt\"\n viewBox=\"0.00 0.00 525.00 45.00\" xmlns=\"http://www.w3.org/2000/svg\" xmlns:xlink=\"http://www.w3.org/1999/xlink\">\n<g id=\"graph0\" class=\"graph\" transform=\"scale(1 1) rotate(0) translate(4 41)\">\n<title>%3</title>\n<polygon fill=\"#ffffff\" stroke=\"transparent\" points=\"-4,4 -4,-41 521,-41 521,4 -4,4\"/>\n<!-- 140277496267296 -->\n<g id=\"node1\" class=\"node\">\n<title>140277496267296</title>\n<polygon fill=\"none\" stroke=\"#000000\" points=\"0,-.5 0,-36.5 195,-36.5 195,-.5 0,-.5\"/>\n<text text-anchor=\"middle\" x=\"11.5\" y=\"-14.8\" font-family=\"Times,serif\" font-size=\"14.00\" fill=\"#000000\">a</text>\n<polyline fill=\"none\" stroke=\"#000000\" points=\"23,-.5 23,-36.5 \"/>\n<text text-anchor=\"middle\" x=\"65.5\" y=\"-14.8\" font-family=\"Times,serif\" font-size=\"14.00\" fill=\"#000000\">data 3.0000</text>\n<polyline fill=\"none\" stroke=\"#000000\" points=\"108,-.5 108,-36.5 \"/>\n<text text-anchor=\"middle\" x=\"151.5\" y=\"-14.8\" font-family=\"Times,serif\" font-size=\"14.00\" fill=\"#000000\">grad 2.0000</text>\n</g>\n<!-- 140277496269552+ -->\n<g id=\"node3\" class=\"node\">\n<title>140277496269552+</title>\n<ellipse fill=\"none\" stroke=\"#000000\" cx=\"258\" cy=\"-18.5\" rx=\"27\" ry=\"18\"/>\n<text text-anchor=\"middle\" x=\"258\" y=\"-14.8\" font-family=\"Times,serif\" font-size=\"14.00\" fill=\"#000000\">+</text>\n</g>\n<!-- 140277496267296&#45;&gt;140277496269552+ -->\n<g id=\"edge2\" class=\"edge\">\n<title>140277496267296&#45;&gt;140277496269552+</title>\n<path fill=\"none\" stroke=\"#000000\" d=\"M195.0268,-18.5C204.1551,-18.5 212.9704,-18.5 220.9692,-18.5\"/>\n<polygon fill=\"#000000\" stroke=\"#000000\" points=\"220.9719,-22.0001 230.9718,-18.5 220.9718,-15.0001 220.9719,-22.0001\"/>\n</g>\n<!-- 140277496269552 -->\n<g id=\"node2\" class=\"node\">\n<title>140277496269552</title>\n<polygon fill=\"none\" stroke=\"#000000\" points=\"321,-.5 321,-36.5 517,-36.5 517,-.5 321,-.5\"/>\n<text text-anchor=\"middle\" x=\"333\" y=\"-14.8\" font-family=\"Times,serif\" font-size=\"14.00\" fill=\"#000000\">b</text>\n<polyline fill=\"none\" stroke=\"#000000\" points=\"345,-.5 345,-36.5 \"/>\n<text text-anchor=\"middle\" x=\"387.5\" y=\"-14.8\" font-family=\"Times,serif\" font-size=\"14.00\" fill=\"#000000\">data 6.0000</text>\n<polyline fill=\"none\" stroke=\"#000000\" points=\"430,-.5 430,-36.5 \"/>\n<text text-anchor=\"middle\" x=\"473.5\" y=\"-14.8\" font-family=\"Times,serif\" font-size=\"14.00\" fill=\"#000000\">grad 1.0000</text>\n</g>\n<!-- 140277496269552+&#45;&gt;140277496269552 -->\n<g id=\"edge1\" class=\"edge\">\n<title>140277496269552+&#45;&gt;140277496269552</title>\n<path fill=\"none\" stroke=\"#000000\" d=\"M285.3115,-18.5C292.8223,-18.5 301.4512,-18.5 310.6318,-18.5\"/>\n<polygon fill=\"#000000\" stroke=\"#000000\" points=\"310.7835,-22.0001 320.7835,-18.5 310.7835,-15.0001 310.7835,-22.0001\"/>\n</g>\n</g>\n</svg>\n"
          },
          "metadata": {},
          "execution_count": 58
        }
      ]
    }
  ]
}