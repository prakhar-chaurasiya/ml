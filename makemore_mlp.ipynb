{
  "nbformat": 4,
  "nbformat_minor": 0,
  "metadata": {
    "colab": {
      "provenance": [],
      "authorship_tag": "ABX9TyNYP8TjuVywzIjOKfY7cgBj",
      "include_colab_link": true
    },
    "kernelspec": {
      "name": "python3",
      "display_name": "Python 3"
    },
    "language_info": {
      "name": "python"
    }
  },
  "cells": [
    {
      "cell_type": "markdown",
      "metadata": {
        "id": "view-in-github",
        "colab_type": "text"
      },
      "source": [
        "<a href=\"https://colab.research.google.com/github/prakhar-chaurasiya/ml/blob/main/makemore_mlp.ipynb\" target=\"_parent\"><img src=\"https://colab.research.google.com/assets/colab-badge.svg\" alt=\"Open In Colab\"/></a>"
      ]
    },
    {
      "cell_type": "markdown",
      "source": [
        "[nn-zero-to-hero](https://github.com/karpathy/nn-zero-to-hero)\n",
        "\n",
        "[makemore](https://github.com/karpathy/makemore)"
      ],
      "metadata": {
        "id": "NzUNm929vdUi"
      }
    },
    {
      "cell_type": "markdown",
      "source": [
        "# [Building makemore Part 2: MLP](https://www.youtube.com/watch?v=TCH_1BHY58I&list=PLAqhIrjkxbuWI23v9cThsA9GvCAUhRvKZ&index=3&ab_channel=AndrejKarpathy)"
      ],
      "metadata": {
        "id": "rAumxXMXvg-R"
      }
    },
    {
      "cell_type": "code",
      "source": [
        "import torch\n",
        "import torch.nn.functional as F\n",
        "import matplotlib.pyplot as plt\n",
        "%matplotlib inline\n",
        "import requests"
      ],
      "metadata": {
        "id": "OlajvBRByNbI"
      },
      "execution_count": 1,
      "outputs": []
    },
    {
      "cell_type": "code",
      "execution_count": 2,
      "metadata": {
        "colab": {
          "base_uri": "https://localhost:8080/"
        },
        "id": "lAuHQ5CAvZhN",
        "outputId": "cee7f064-f055-490e-f209-668c17f6db21"
      },
      "outputs": [
        {
          "output_type": "execute_result",
          "data": {
            "text/plain": [
              "['emma', 'olivia', 'ava', 'isabella', 'sophia', 'charlotte', 'mia', 'amelia']"
            ]
          },
          "metadata": {},
          "execution_count": 2
        }
      ],
      "source": [
        "f = requests.get('https://raw.githubusercontent.com/karpathy/makemore/master/names.txt')\n",
        "words = f.text.splitlines()\n",
        "words[:8]"
      ]
    },
    {
      "cell_type": "code",
      "source": [
        "len(words)"
      ],
      "metadata": {
        "colab": {
          "base_uri": "https://localhost:8080/"
        },
        "id": "BNPfbhsTyNdg",
        "outputId": "d7bb2c2e-f0e5-4191-f4ad-70e7ad620f11"
      },
      "execution_count": 3,
      "outputs": [
        {
          "output_type": "execute_result",
          "data": {
            "text/plain": [
              "32033"
            ]
          },
          "metadata": {},
          "execution_count": 3
        }
      ]
    },
    {
      "cell_type": "code",
      "source": [
        "chars = sorted(list(set(''.join(words))))\n",
        "stoi = {s:i+1 for i, s in enumerate(chars)}\n",
        "stoi['.'] = 0\n",
        "itos = {i:s for s, i in stoi.items()}\n",
        "print(itos)"
      ],
      "metadata": {
        "colab": {
          "base_uri": "https://localhost:8080/"
        },
        "id": "GbOUrqCUyNf6",
        "outputId": "2ae01325-e4b5-405a-c241-3e0310ff0fcc"
      },
      "execution_count": 3,
      "outputs": [
        {
          "output_type": "stream",
          "name": "stdout",
          "text": [
            "{1: 'a', 2: 'b', 3: 'c', 4: 'd', 5: 'e', 6: 'f', 7: 'g', 8: 'h', 9: 'i', 10: 'j', 11: 'k', 12: 'l', 13: 'm', 14: 'n', 15: 'o', 16: 'p', 17: 'q', 18: 'r', 19: 's', 20: 't', 21: 'u', 22: 'v', 23: 'w', 24: 'x', 25: 'y', 26: 'z', 0: '.'}\n"
          ]
        }
      ]
    },
    {
      "cell_type": "code",
      "source": [
        "# build the dataest\n",
        "\n",
        "block_size = 3 # context length: how many characters do we take to predict the next one?\n",
        "X, Y = [], []\n",
        "# for w in words:\n",
        "for w in words:\n",
        "  # print(w)\n",
        "  context = [0] * block_size\n",
        "  for ch in w + '.':\n",
        "    ix = stoi[ch]\n",
        "    X.append(context)\n",
        "    Y.append(ix)\n",
        "    # print(''.join(itos[i] for i in context), '--->', itos[ix])\n",
        "    context = context[1:] + [ix] # crop and append\n",
        "X = torch.tensor(X)\n",
        "Y = torch.tensor(Y)"
      ],
      "metadata": {
        "id": "BAppbgUxyNiR"
      },
      "execution_count": 4,
      "outputs": []
    },
    {
      "cell_type": "code",
      "source": [
        "X.shape, X.dtype, Y.shape, Y.dtype"
      ],
      "metadata": {
        "colab": {
          "base_uri": "https://localhost:8080/"
        },
        "id": "eD5gNSolyNkh",
        "outputId": "041d2693-9b04-4db4-eab0-b60c69294127"
      },
      "execution_count": 5,
      "outputs": [
        {
          "output_type": "execute_result",
          "data": {
            "text/plain": [
              "(torch.Size([228146, 3]), torch.int64, torch.Size([228146]), torch.int64)"
            ]
          },
          "metadata": {},
          "execution_count": 5
        }
      ]
    },
    {
      "cell_type": "code",
      "source": [
        "# build the dataset\n",
        "\n",
        "def build_dataset(words):\n",
        "  block_size = 3 # context length: how many characters do we take to predict the next one?\n",
        "  X, Y = [], []\n",
        "  for w in words:\n",
        "    # print(w)\n",
        "    context = [0] * block_size\n",
        "    for ch in w + '.':\n",
        "      ix = stoi[ch]\n",
        "      X.append(context)\n",
        "      Y.append(ix)\n",
        "      context = context[1:] + [ix] # crop append\n",
        "  X = torch.tensor(X)\n",
        "  Y = torch.tensor(Y)\n",
        "  print(X.shape, Y.shape)\n",
        "  return X, Y\n",
        "\n",
        "import random\n",
        "random.seed(42)\n",
        "random.shuffle(words)\n",
        "n1 = int(0.8*len(words))\n",
        "n2 = int(0.9*len(words))\n",
        "\n",
        "Xtr, Ytr = build_dataset(words[:n1])\n",
        "Xdev, Ydev = build_dataset(words[n1:n2])\n",
        "Xte, Yte = build_dataset(words[n2:])"
      ],
      "metadata": {
        "colab": {
          "base_uri": "https://localhost:8080/"
        },
        "id": "3K2JxN0_wGHi",
        "outputId": "af3c3420-60d8-42c6-f6fb-491bb37d8212"
      },
      "execution_count": 15,
      "outputs": [
        {
          "output_type": "stream",
          "name": "stdout",
          "text": [
            "torch.Size([182625, 3]) torch.Size([182625])\n",
            "torch.Size([22655, 3]) torch.Size([22655])\n",
            "torch.Size([22866, 3]) torch.Size([22866])\n"
          ]
        }
      ]
    },
    {
      "cell_type": "code",
      "source": [
        "C = torch.randn((27, 2))"
      ],
      "metadata": {
        "id": "iWoYX7scyNm4"
      },
      "execution_count": 25,
      "outputs": []
    },
    {
      "cell_type": "code",
      "source": [
        "C[5]"
      ],
      "metadata": {
        "colab": {
          "base_uri": "https://localhost:8080/"
        },
        "id": "cBdiuaFP04qg",
        "outputId": "0387e042-c3e3-4d8e-a17b-1079f5ee1b0a"
      },
      "execution_count": 26,
      "outputs": [
        {
          "output_type": "execute_result",
          "data": {
            "text/plain": [
              "tensor([0.7785, 0.0053])"
            ]
          },
          "metadata": {},
          "execution_count": 26
        }
      ]
    },
    {
      "cell_type": "code",
      "source": [
        "F.one_hot(torch.tensor(5), num_classes=27).float() @ C"
      ],
      "metadata": {
        "colab": {
          "base_uri": "https://localhost:8080/"
        },
        "id": "GmUUKduZ05eY",
        "outputId": "dd7085a7-35e4-4a5b-ec81-fb376c793232"
      },
      "execution_count": 27,
      "outputs": [
        {
          "output_type": "execute_result",
          "data": {
            "text/plain": [
              "tensor([0.7785, 0.0053])"
            ]
          },
          "metadata": {},
          "execution_count": 27
        }
      ]
    },
    {
      "cell_type": "code",
      "source": [
        "emb = C[X]\n",
        "emb.shape"
      ],
      "metadata": {
        "colab": {
          "base_uri": "https://localhost:8080/"
        },
        "id": "BQljum1o1FE_",
        "outputId": "7501a161-df03-4029-d93a-7301299ef7e9"
      },
      "execution_count": 28,
      "outputs": [
        {
          "output_type": "execute_result",
          "data": {
            "text/plain": [
              "torch.Size([32, 3, 2])"
            ]
          },
          "metadata": {},
          "execution_count": 28
        }
      ]
    },
    {
      "cell_type": "code",
      "source": [
        "W1 = torch.randn((6, 100))\n",
        "b1 = torch.randn(100)"
      ],
      "metadata": {
        "id": "bqpLjCvV2A2w"
      },
      "execution_count": 29,
      "outputs": []
    },
    {
      "cell_type": "code",
      "source": [
        "h = torch.tanh(emb.view(-1, 6) @ W1 + b1)"
      ],
      "metadata": {
        "id": "iNY_oCxl2BsP"
      },
      "execution_count": 30,
      "outputs": []
    },
    {
      "cell_type": "code",
      "source": [
        "h"
      ],
      "metadata": {
        "colab": {
          "base_uri": "https://localhost:8080/"
        },
        "id": "gilNZou75ueh",
        "outputId": "2ed805fe-1a03-4998-ab24-b9213d62004e"
      },
      "execution_count": 31,
      "outputs": [
        {
          "output_type": "execute_result",
          "data": {
            "text/plain": [
              "tensor([[-0.7142,  0.8984, -0.8914,  ...,  0.4014, -0.9541, -0.8143],\n",
              "        [-0.8751,  0.9193, -0.9866,  ...,  0.8339, -0.9884, -0.6239],\n",
              "        [-0.9517,  0.6634, -0.9998,  ...,  0.9920, -0.9869, -0.4649],\n",
              "        ...,\n",
              "        [-0.9992, -0.7331, -0.9206,  ..., -0.8648, -0.0637, -0.9926],\n",
              "        [-0.8457,  0.9774,  0.9942,  ..., -0.8698, -0.9292, -0.6087],\n",
              "        [-0.9987,  0.8904, -0.9999,  ...,  0.9835, -0.9987,  0.2252]])"
            ]
          },
          "metadata": {},
          "execution_count": 31
        }
      ]
    },
    {
      "cell_type": "code",
      "source": [
        "h.shape"
      ],
      "metadata": {
        "colab": {
          "base_uri": "https://localhost:8080/"
        },
        "id": "WvujXSIb5MEp",
        "outputId": "a9a24cac-c61f-45f6-a5af-23acf64b7708"
      },
      "execution_count": 32,
      "outputs": [
        {
          "output_type": "execute_result",
          "data": {
            "text/plain": [
              "torch.Size([32, 100])"
            ]
          },
          "metadata": {},
          "execution_count": 32
        }
      ]
    },
    {
      "cell_type": "code",
      "source": [
        "W2 = torch.randn((100, 27))\n",
        "b2 = torch.randn(27)"
      ],
      "metadata": {
        "id": "JBc4E_P-5K2i"
      },
      "execution_count": 33,
      "outputs": []
    },
    {
      "cell_type": "code",
      "source": [
        "logits = h @ W2 + b2"
      ],
      "metadata": {
        "id": "FjXht1jj5oOw"
      },
      "execution_count": 34,
      "outputs": []
    },
    {
      "cell_type": "code",
      "source": [
        "logits.shape"
      ],
      "metadata": {
        "colab": {
          "base_uri": "https://localhost:8080/"
        },
        "id": "M1G5HsFb5oRa",
        "outputId": "4d6d1013-e296-48f3-c077-9257b866df65"
      },
      "execution_count": 35,
      "outputs": [
        {
          "output_type": "execute_result",
          "data": {
            "text/plain": [
              "torch.Size([32, 27])"
            ]
          },
          "metadata": {},
          "execution_count": 35
        }
      ]
    },
    {
      "cell_type": "code",
      "source": [
        "counts = logits.exp()"
      ],
      "metadata": {
        "id": "9QqLKLhV5oTp"
      },
      "execution_count": 36,
      "outputs": []
    },
    {
      "cell_type": "code",
      "source": [
        "prob = counts / counts.sum(1, keepdims=True)"
      ],
      "metadata": {
        "id": "7E_u8a9a5oWQ"
      },
      "execution_count": 37,
      "outputs": []
    },
    {
      "cell_type": "code",
      "source": [
        "prob.shape"
      ],
      "metadata": {
        "colab": {
          "base_uri": "https://localhost:8080/"
        },
        "id": "AslgT5fp5oYb",
        "outputId": "988d61e0-f012-4e03-9044-50f37f762812"
      },
      "execution_count": 38,
      "outputs": [
        {
          "output_type": "execute_result",
          "data": {
            "text/plain": [
              "torch.Size([32, 27])"
            ]
          },
          "metadata": {},
          "execution_count": 38
        }
      ]
    },
    {
      "cell_type": "code",
      "source": [
        "loss = -prob[torch.arange(32), Y].log().mean()\n",
        "loss"
      ],
      "metadata": {
        "colab": {
          "base_uri": "https://localhost:8080/"
        },
        "id": "2eNnU94Y5oaz",
        "outputId": "32eaffee-554f-4847-ce93-e99e60b257e0"
      },
      "execution_count": 39,
      "outputs": [
        {
          "output_type": "execute_result",
          "data": {
            "text/plain": [
              "tensor(14.8267)"
            ]
          },
          "metadata": {},
          "execution_count": 39
        }
      ]
    },
    {
      "cell_type": "markdown",
      "source": [
        "combine into one"
      ],
      "metadata": {
        "id": "sSKy-dqyCBRp"
      }
    },
    {
      "cell_type": "code",
      "source": [
        "Xtr.shape, Ytr.shape # dataset"
      ],
      "metadata": {
        "colab": {
          "base_uri": "https://localhost:8080/"
        },
        "id": "LZhzyApE5odw",
        "outputId": "88917d7b-7c1b-446e-d15c-6e401953bcfa"
      },
      "execution_count": 16,
      "outputs": [
        {
          "output_type": "execute_result",
          "data": {
            "text/plain": [
              "(torch.Size([182625, 3]), torch.Size([182625]))"
            ]
          },
          "metadata": {},
          "execution_count": 16
        }
      ]
    },
    {
      "cell_type": "code",
      "source": [
        "g = torch.Generator().manual_seed(2147483647)\n",
        "C = torch.randn((27, 2), generator=g)\n",
        "W1 = torch.randn((6, 100), generator=g)\n",
        "b1 = torch.randn(100, generator=g)\n",
        "W2 = torch.randn((100, 27), generator=g)\n",
        "b2 = torch.randn(27, generator=g)\n",
        "parameters = [C, W1, b1, W2, b2]"
      ],
      "metadata": {
        "id": "nn_1e6i16qwK"
      },
      "execution_count": 17,
      "outputs": []
    },
    {
      "cell_type": "code",
      "source": [
        "sum(p.nelement() for p in parameters)"
      ],
      "metadata": {
        "colab": {
          "base_uri": "https://localhost:8080/"
        },
        "id": "xzSaiLq_6qyY",
        "outputId": "dfbfde6f-3cd2-4df5-c787-1c918cd4e075"
      },
      "execution_count": 18,
      "outputs": [
        {
          "output_type": "execute_result",
          "data": {
            "text/plain": [
              "3481"
            ]
          },
          "metadata": {},
          "execution_count": 18
        }
      ]
    },
    {
      "cell_type": "code",
      "source": [
        "for p in parameters:\n",
        "  p.requires_grad = True"
      ],
      "metadata": {
        "id": "ersakpyUF36n"
      },
      "execution_count": 19,
      "outputs": []
    },
    {
      "cell_type": "code",
      "source": [
        "lre = torch.linspace(-3, 0, 1000)\n",
        "lrs = 10**lre\n",
        "# lrs"
      ],
      "metadata": {
        "id": "D8T8DteTJBvd"
      },
      "execution_count": 10,
      "outputs": []
    },
    {
      "cell_type": "code",
      "source": [
        "lri = []\n",
        "lossi = []\n",
        "\n",
        "for i in range(10000):\n",
        "  # minibatch construct\n",
        "  ix = torch.randint(0, Xtr.shape[0], (32,))\n",
        "  # forward pass\n",
        "  emb = C[Xtr[ix]] # 32, 3, 2\n",
        "  h = torch.tanh(emb.view(-1, 6) @ W1 + b1) # (32, 100)\n",
        "  logits = h @ W2 + b2 # (32, 27)\n",
        "  loss = F.cross_entropy(logits, Ytr[ix])\n",
        "  # print(loss.item())\n",
        "\n",
        "  # backward pass\n",
        "  for p in parameters:\n",
        "    p.grad = None\n",
        "  loss.backward()\n",
        "\n",
        "  # update\n",
        "  # lr = lrs[i]\n",
        "  lr = 0.1\n",
        "  for p in parameters:\n",
        "    p.data += -lr * p.grad\n",
        "  \n",
        "  # track stats\n",
        "  # lri.append(lre[i])\n",
        "  # lossi.append(loss.item())\n",
        "# print(loss.item())"
      ],
      "metadata": {
        "id": "qr0dDDA26q04"
      },
      "execution_count": 22,
      "outputs": []
    },
    {
      "cell_type": "code",
      "source": [
        "print(loss.item())"
      ],
      "metadata": {
        "colab": {
          "base_uri": "https://localhost:8080/"
        },
        "id": "t9zKFVE5yMbK",
        "outputId": "d84faf1d-d02b-4d85-aaa5-d31cc667d88a"
      },
      "execution_count": 23,
      "outputs": [
        {
          "output_type": "stream",
          "name": "stdout",
          "text": [
            "2.0616743564605713\n"
          ]
        }
      ]
    },
    {
      "cell_type": "code",
      "source": [
        "emb = C[Xdev]\n",
        "h = torch.tanh(emb.view(-1, 6) @ W1 + b1)\n",
        "logits = h @ W2 + b2\n",
        "loss = F.cross_entropy(logits, Ydev)\n",
        "loss"
      ],
      "metadata": {
        "colab": {
          "base_uri": "https://localhost:8080/"
        },
        "id": "DU62l-yLzVQF",
        "outputId": "ce17b42c-934b-47ee-c2e5-9ff132fa43a2"
      },
      "execution_count": 24,
      "outputs": [
        {
          "output_type": "execute_result",
          "data": {
            "text/plain": [
              "tensor(2.4428, grad_fn=<NllLossBackward0>)"
            ]
          },
          "metadata": {},
          "execution_count": 24
        }
      ]
    },
    {
      "cell_type": "code",
      "source": [
        "plt.plot(lri, lossi)"
      ],
      "metadata": {
        "colab": {
          "base_uri": "https://localhost:8080/",
          "height": 282
        },
        "id": "AbVJNlCu6q3R",
        "outputId": "72702149-7b5a-48f9-e0d5-5003af49d86c"
      },
      "execution_count": 56,
      "outputs": [
        {
          "output_type": "execute_result",
          "data": {
            "text/plain": [
              "[<matplotlib.lines.Line2D at 0x7f89adae5190>]"
            ]
          },
          "metadata": {},
          "execution_count": 56
        },
        {
          "output_type": "display_data",
          "data": {
            "text/plain": [
              "<Figure size 432x288 with 1 Axes>"
            ],
            "image/png": "[encoded data removed]"
          },
          "metadata": {
            "needs_background": "light"
          }
        }
      ]
    },
    {
      "cell_type": "code",
      "source": [],
      "metadata": {
        "id": "FE8p12Ru6q5P"
      },
      "execution_count": 46,
      "outputs": []
    },
    {
      "cell_type": "code",
      "source": [],
      "metadata": {
        "id": "CQrEBCyI6q7w"
      },
      "execution_count": 46,
      "outputs": []
    },
    {
      "cell_type": "code",
      "source": [],
      "metadata": {
        "id": "MPmPE8OL6q-A"
      },
      "execution_count": 46,
      "outputs": []
    },
    {
      "cell_type": "code",
      "source": [
        "torch.cat(torch.unbind(emb, 1), 1)"
      ],
      "metadata": {
        "colab": {
          "base_uri": "https://localhost:8080/"
        },
        "id": "23Z37CTm2BvI",
        "outputId": "238c7704-274f-45b3-d682-e23c8f04f596"
      },
      "execution_count": 47,
      "outputs": [
        {
          "output_type": "execute_result",
          "data": {
            "text/plain": [
              "tensor([[-0.0259, -0.9681,  0.4753, -1.7638, -0.0259, -0.9681],\n",
              "        [ 0.9055,  1.8737,  1.7257, -1.5040, -0.0259, -0.9681],\n",
              "        [ 3.0363, -0.7694,  3.0363, -0.7694,  3.0363, -0.7694],\n",
              "        [ 3.0363, -0.7694,  3.0363, -0.7694, -0.0259, -0.9681],\n",
              "        [ 0.8661, -3.7134,  0.4753, -1.7638,  0.8661, -3.7134],\n",
              "        [ 3.0363, -0.7694,  0.8661, -3.7134,  0.4753, -1.7638],\n",
              "        [ 3.0363, -0.7694,  3.0363, -0.7694, -0.5283,  1.9941],\n",
              "        [-0.0259, -0.9681,  0.4753, -1.7638, -0.0259, -0.9681],\n",
              "        [ 3.0363, -0.7694,  3.0363, -0.7694,  0.8661, -3.7134],\n",
              "        [ 3.0363, -0.7694,  3.0363, -0.7694,  3.0363, -0.7694],\n",
              "        [-0.0259, -0.9681,  0.4753, -1.7638, -0.0259, -0.9681],\n",
              "        [ 3.0363, -0.7694,  3.0363, -0.7694,  3.0363, -0.7694],\n",
              "        [-1.4433, -2.6085, -1.1066, -0.0999,  0.9055,  1.8737],\n",
              "        [-0.0259, -0.9681,  0.4753, -1.7638, -0.0259, -0.9681],\n",
              "        [-0.5283,  1.9941,  1.9502, -1.2416,  1.9502, -1.2416],\n",
              "        [ 0.8661, -3.7134,  0.5442,  0.1602, -0.5283,  1.9941],\n",
              "        [ 3.0363, -0.7694,  3.0363, -0.7694,  3.0363, -0.7694],\n",
              "        [ 0.9055,  1.8737,  1.7257, -1.5040, -0.0259, -0.9681],\n",
              "        [ 0.9055,  1.8737,  1.7257, -1.5040, -0.0259, -0.9681],\n",
              "        [ 0.6476,  2.4788, -0.0259, -0.9681,  0.4753, -1.7638],\n",
              "        [ 3.0363, -0.7694,  3.0363, -0.7694,  3.0363, -0.7694],\n",
              "        [-1.4433, -2.6085, -1.1066, -0.0999,  0.9055,  1.8737],\n",
              "        [ 3.0363, -0.7694,  3.0363, -0.7694,  3.0363, -0.7694],\n",
              "        [ 3.0363, -0.7694,  3.0363, -0.7694,  3.0363, -0.7694],\n",
              "        [ 3.0363, -0.7694,  3.0363, -0.7694,  3.0363, -0.7694],\n",
              "        [ 3.0363, -0.7694,  3.0363, -0.7694,  3.0363, -0.7694],\n",
              "        [ 0.8661, -3.7134,  0.5442,  0.1602, -0.5283,  1.9941],\n",
              "        [ 3.0363, -0.7694,  3.0363, -0.7694,  3.0363, -0.7694],\n",
              "        [ 0.6476,  2.4788, -0.0259, -0.9681,  0.4753, -1.7638],\n",
              "        [-0.0259, -0.9681,  0.4753, -1.7638, -0.0259, -0.9681],\n",
              "        [ 3.0363, -0.7694,  3.0363, -0.7694,  3.0363, -0.7694],\n",
              "        [ 3.0363, -0.7694,  3.0363, -0.7694, -0.5283,  1.9941]],\n",
              "       grad_fn=<CatBackward0>)"
            ]
          },
          "metadata": {},
          "execution_count": 47
        }
      ]
    },
    {
      "cell_type": "code",
      "source": [
        "emb.storage()"
      ],
      "metadata": {
        "colab": {
          "base_uri": "https://localhost:8080/"
        },
        "id": "d8RYV1Ho3ziv",
        "outputId": "324d71ee-d475-4e14-d22b-f3e324a11c8d"
      },
      "execution_count": 48,
      "outputs": [
        {
          "output_type": "execute_result",
          "data": {
            "text/plain": [
              " -0.025873104110360146\n",
              " -0.9680628776550293\n",
              " 0.47533118724823\n",
              " -1.7637661695480347\n",
              " -0.025873104110360146\n",
              " -0.9680628776550293\n",
              " 0.9055367708206177\n",
              " 1.873691439628601\n",
              " 1.725700855255127\n",
              " -1.5040422677993774\n",
              " -0.025873104110360146\n",
              " -0.9680628776550293\n",
              " 3.036344051361084\n",
              " -0.7694247364997864\n",
              " 3.036344051361084\n",
              " -0.7694247364997864\n",
              " 3.036344051361084\n",
              " -0.7694247364997864\n",
              " 3.036344051361084\n",
              " -0.7694247364997864\n",
              " 3.036344051361084\n",
              " -0.7694247364997864\n",
              " -0.025873104110360146\n",
              " -0.9680628776550293\n",
              " 0.8661141991615295\n",
              " -3.713409900665283\n",
              " 0.47533118724823\n",
              " -1.7637661695480347\n",
              " 0.8661141991615295\n",
              " -3.713409900665283\n",
              " 3.036344051361084\n",
              " -0.7694247364997864\n",
              " 0.8661141991615295\n",
              " -3.713409900665283\n",
              " 0.47533118724823\n",
              " -1.7637661695480347\n",
              " 3.036344051361084\n",
              " -0.7694247364997864\n",
              " 3.036344051361084\n",
              " -0.7694247364997864\n",
              " -0.5283402800559998\n",
              " 1.9941269159317017\n",
              " -0.025873104110360146\n",
              " -0.9680628776550293\n",
              " 0.47533118724823\n",
              " -1.7637661695480347\n",
              " -0.025873104110360146\n",
              " -0.9680628776550293\n",
              " 3.036344051361084\n",
              " -0.7694247364997864\n",
              " 3.036344051361084\n",
              " -0.7694247364997864\n",
              " 0.8661141991615295\n",
              " -3.713409900665283\n",
              " 3.036344051361084\n",
              " -0.7694247364997864\n",
              " 3.036344051361084\n",
              " -0.7694247364997864\n",
              " 3.036344051361084\n",
              " -0.7694247364997864\n",
              " -0.025873104110360146\n",
              " -0.9680628776550293\n",
              " 0.47533118724823\n",
              " -1.7637661695480347\n",
              " -0.025873104110360146\n",
              " -0.9680628776550293\n",
              " 3.036344051361084\n",
              " -0.7694247364997864\n",
              " 3.036344051361084\n",
              " -0.7694247364997864\n",
              " 3.036344051361084\n",
              " -0.7694247364997864\n",
              " -1.4433239698410034\n",
              " -2.608480215072632\n",
              " -1.1066192388534546\n",
              " -0.09993596374988556\n",
              " 0.9055367708206177\n",
              " 1.873691439628601\n",
              " -0.025873104110360146\n",
              " -0.9680628776550293\n",
              " 0.47533118724823\n",
              " -1.7637661695480347\n",
              " -0.025873104110360146\n",
              " -0.9680628776550293\n",
              " -0.5283402800559998\n",
              " 1.9941269159317017\n",
              " 1.9502382278442383\n",
              " -1.2416249513626099\n",
              " 1.9502382278442383\n",
              " -1.2416249513626099\n",
              " 0.8661141991615295\n",
              " -3.713409900665283\n",
              " 0.5442298054695129\n",
              " 0.16017687320709229\n",
              " -0.5283402800559998\n",
              " 1.9941269159317017\n",
              " 3.036344051361084\n",
              " -0.7694247364997864\n",
              " 3.036344051361084\n",
              " -0.7694247364997864\n",
              " 3.036344051361084\n",
              " -0.7694247364997864\n",
              " 0.9055367708206177\n",
              " 1.873691439628601\n",
              " 1.725700855255127\n",
              " -1.5040422677993774\n",
              " -0.025873104110360146\n",
              " -0.9680628776550293\n",
              " 0.9055367708206177\n",
              " 1.873691439628601\n",
              " 1.725700855255127\n",
              " -1.5040422677993774\n",
              " -0.025873104110360146\n",
              " -0.9680628776550293\n",
              " 0.6476190090179443\n",
              " 2.478766918182373\n",
              " -0.025873104110360146\n",
              " -0.9680628776550293\n",
              " 0.47533118724823\n",
              " -1.7637661695480347\n",
              " 3.036344051361084\n",
              " -0.7694247364997864\n",
              " 3.036344051361084\n",
              " -0.7694247364997864\n",
              " 3.036344051361084\n",
              " -0.7694247364997864\n",
              " -1.4433239698410034\n",
              " -2.608480215072632\n",
              " -1.1066192388534546\n",
              " -0.09993596374988556\n",
              " 0.9055367708206177\n",
              " 1.873691439628601\n",
              " 3.036344051361084\n",
              " -0.7694247364997864\n",
              " 3.036344051361084\n",
              " -0.7694247364997864\n",
              " 3.036344051361084\n",
              " -0.7694247364997864\n",
              " 3.036344051361084\n",
              " -0.7694247364997864\n",
              " 3.036344051361084\n",
              " -0.7694247364997864\n",
              " 3.036344051361084\n",
              " -0.7694247364997864\n",
              " 3.036344051361084\n",
              " -0.7694247364997864\n",
              " 3.036344051361084\n",
              " -0.7694247364997864\n",
              " 3.036344051361084\n",
              " -0.7694247364997864\n",
              " 3.036344051361084\n",
              " -0.7694247364997864\n",
              " 3.036344051361084\n",
              " -0.7694247364997864\n",
              " 3.036344051361084\n",
              " -0.7694247364997864\n",
              " 0.8661141991615295\n",
              " -3.713409900665283\n",
              " 0.5442298054695129\n",
              " 0.16017687320709229\n",
              " -0.5283402800559998\n",
              " 1.9941269159317017\n",
              " 3.036344051361084\n",
              " -0.7694247364997864\n",
              " 3.036344051361084\n",
              " -0.7694247364997864\n",
              " 3.036344051361084\n",
              " -0.7694247364997864\n",
              " 0.6476190090179443\n",
              " 2.478766918182373\n",
              " -0.025873104110360146\n",
              " -0.9680628776550293\n",
              " 0.47533118724823\n",
              " -1.7637661695480347\n",
              " -0.025873104110360146\n",
              " -0.9680628776550293\n",
              " 0.47533118724823\n",
              " -1.7637661695480347\n",
              " -0.025873104110360146\n",
              " -0.9680628776550293\n",
              " 3.036344051361084\n",
              " -0.7694247364997864\n",
              " 3.036344051361084\n",
              " -0.7694247364997864\n",
              " 3.036344051361084\n",
              " -0.7694247364997864\n",
              " 3.036344051361084\n",
              " -0.7694247364997864\n",
              " 3.036344051361084\n",
              " -0.7694247364997864\n",
              " -0.5283402800559998\n",
              " 1.9941269159317017\n",
              "[torch.storage.TypedStorage(dtype=torch.float32, device=cpu) of size 192]"
            ]
          },
          "metadata": {},
          "execution_count": 48
        }
      ]
    },
    {
      "cell_type": "code",
      "source": [],
      "metadata": {
        "id": "f-jYSPKw4V99"
      },
      "execution_count": 48,
      "outputs": []
    }
  ]
}