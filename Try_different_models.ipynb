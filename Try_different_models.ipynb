{
  "nbformat": 4,
  "nbformat_minor": 0,
  "metadata": {
    "colab": {
      "provenance": [],
      "collapsed_sections": [],
      "authorship_tag": "ABX9TyOQyZc4iC2d9m1v6YjxKO1W",
      "include_colab_link": true
    },
    "kernelspec": {
      "name": "python3",
      "display_name": "Python 3"
    },
    "language_info": {
      "name": "python"
    }
  },
  "cells": [
    {
      "cell_type": "markdown",
      "metadata": {
        "id": "view-in-github",
        "colab_type": "text"
      },
      "source": [
        "<a href=\"https://colab.research.google.com/github/prakhar-chaurasiya/ml/blob/main/Try_different_models.ipynb\" target=\"_parent\"><img src=\"https://colab.research.google.com/assets/colab-badge.svg\" alt=\"Open In Colab\"/></a>"
      ]
    },
    {
      "cell_type": "markdown",
      "source": [
        "# EDA"
      ],
      "metadata": {
        "id": "UW-vc1pdLtog"
      }
    },
    {
      "cell_type": "code",
      "execution_count": 1,
      "metadata": {
        "id": "DmhoyICVLNIP"
      },
      "outputs": [],
      "source": [
        "import numpy as np\n",
        "import pandas as pd\n",
        "import warnings\n",
        "warnings.filterwarnings(\"ignore\")"
      ]
    },
    {
      "cell_type": "code",
      "source": [
        "# Check for missing values\n",
        "df = pd.read_csv(\"bank data.csv\")\n",
        "df.info()"
      ],
      "metadata": {
        "colab": {
          "base_uri": "https://localhost:8080/"
        },
        "id": "xXc3RnN7LtZC",
        "outputId": "130b8270-264f-4a0d-db8c-5232a95c3b84"
      },
      "execution_count": 2,
      "outputs": [
        {
          "output_type": "stream",
          "name": "stdout",
          "text": [
            "<class 'pandas.core.frame.DataFrame'>\n",
            "RangeIndex: 5000 entries, 0 to 4999\n",
            "Data columns (total 22 columns):\n",
            " #   Column                       Non-Null Count  Dtype \n",
            "---  ------                       --------------  ----- \n",
            " 0   Customer_ID                  5000 non-null   int64 \n",
            " 1   Status_Checking_Acc          5000 non-null   object\n",
            " 2   Duration_in_Months           5000 non-null   int64 \n",
            " 3   Credit_History               5000 non-null   object\n",
            " 4   Purposre_Credit_Taken        5000 non-null   object\n",
            " 5   Credit_Amount                5000 non-null   int64 \n",
            " 6   Savings_Acc                  5000 non-null   object\n",
            " 7   Years_At_Present_Employment  5000 non-null   object\n",
            " 8   Inst_Rt_Income               5000 non-null   int64 \n",
            " 9   Marital_Status_Gender        5000 non-null   object\n",
            " 10  Other_Debtors_Guarantors     5000 non-null   object\n",
            " 11  Current_Address_Yrs          5000 non-null   int64 \n",
            " 12  Property                     5000 non-null   object\n",
            " 13  Age                          5000 non-null   int64 \n",
            " 14  Other_Inst_Plans             5000 non-null   object\n",
            " 15  Housing                      5000 non-null   object\n",
            " 16  Num_CC                       5000 non-null   int64 \n",
            " 17  Job                          5000 non-null   object\n",
            " 18  Dependents                   5000 non-null   int64 \n",
            " 19  Telephone                    5000 non-null   object\n",
            " 20  Foreign_Worker               5000 non-null   object\n",
            " 21  Default_On_Payment           5000 non-null   int64 \n",
            "dtypes: int64(9), object(13)\n",
            "memory usage: 859.5+ KB\n"
          ]
        }
      ]
    },
    {
      "cell_type": "code",
      "source": [
        "# view data\n",
        "df.iloc[0:5, 1:7]"
      ],
      "metadata": {
        "colab": {
          "base_uri": "https://localhost:8080/",
          "height": 206
        },
        "id": "C-jV1DpnLxI8",
        "outputId": "ae534721-1355-444c-f37e-32caebf155c4"
      },
      "execution_count": 3,
      "outputs": [
        {
          "output_type": "execute_result",
          "data": {
            "text/plain": [
              "  Status_Checking_Acc  Duration_in_Months Credit_History  \\\n",
              "0                 A11                   6            A34   \n",
              "1                 A12                  48            A32   \n",
              "2                 A14                  12            A34   \n",
              "3                 A11                  42            A32   \n",
              "4                 A11                  24            A33   \n",
              "\n",
              "  Purposre_Credit_Taken  Credit_Amount Savings_Acc  \n",
              "0                   A43           1169         A65  \n",
              "1                   A43           5951         A61  \n",
              "2                   A46           2096         A61  \n",
              "3                   A42           7882         A61  \n",
              "4                   A40           4870         A61  "
            ],
            "text/html": [
              "\n",
              "  <div id=\"df-aaaaf6a0-308a-4150-8d0a-ca63c342f057\">\n",
              "    <div class=\"colab-df-container\">\n",
              "      <div>\n",
              "<style scoped>\n",
              "    .dataframe tbody tr th:only-of-type {\n",
              "        vertical-align: middle;\n",
              "    }\n",
              "\n",
              "    .dataframe tbody tr th {\n",
              "        vertical-align: top;\n",
              "    }\n",
              "\n",
              "    .dataframe thead th {\n",
              "        text-align: right;\n",
              "    }\n",
              "</style>\n",
              "<table border=\"1\" class=\"dataframe\">\n",
              "  <thead>\n",
              "    <tr style=\"text-align: right;\">\n",
              "      <th></th>\n",
              "      <th>Status_Checking_Acc</th>\n",
              "      <th>Duration_in_Months</th>\n",
              "      <th>Credit_History</th>\n",
              "      <th>Purposre_Credit_Taken</th>\n",
              "      <th>Credit_Amount</th>\n",
              "      <th>Savings_Acc</th>\n",
              "    </tr>\n",
              "  </thead>\n",
              "  <tbody>\n",
              "    <tr>\n",
              "      <th>0</th>\n",
              "      <td>A11</td>\n",
              "      <td>6</td>\n",
              "      <td>A34</td>\n",
              "      <td>A43</td>\n",
              "      <td>1169</td>\n",
              "      <td>A65</td>\n",
              "    </tr>\n",
              "    <tr>\n",
              "      <th>1</th>\n",
              "      <td>A12</td>\n",
              "      <td>48</td>\n",
              "      <td>A32</td>\n",
              "      <td>A43</td>\n",
              "      <td>5951</td>\n",
              "      <td>A61</td>\n",
              "    </tr>\n",
              "    <tr>\n",
              "      <th>2</th>\n",
              "      <td>A14</td>\n",
              "      <td>12</td>\n",
              "      <td>A34</td>\n",
              "      <td>A46</td>\n",
              "      <td>2096</td>\n",
              "      <td>A61</td>\n",
              "    </tr>\n",
              "    <tr>\n",
              "      <th>3</th>\n",
              "      <td>A11</td>\n",
              "      <td>42</td>\n",
              "      <td>A32</td>\n",
              "      <td>A42</td>\n",
              "      <td>7882</td>\n",
              "      <td>A61</td>\n",
              "    </tr>\n",
              "    <tr>\n",
              "      <th>4</th>\n",
              "      <td>A11</td>\n",
              "      <td>24</td>\n",
              "      <td>A33</td>\n",
              "      <td>A40</td>\n",
              "      <td>4870</td>\n",
              "      <td>A61</td>\n",
              "    </tr>\n",
              "  </tbody>\n",
              "</table>\n",
              "</div>\n",
              "      <button class=\"colab-df-convert\" onclick=\"convertToInteractive('df-aaaaf6a0-308a-4150-8d0a-ca63c342f057')\"\n",
              "              title=\"Convert this dataframe to an interactive table.\"\n",
              "              style=\"display:none;\">\n",
              "        \n",
              "  <svg xmlns=\"http://www.w3.org/2000/svg\" height=\"24px\"viewBox=\"0 0 24 24\"\n",
              "       width=\"24px\">\n",
              "    <path d=\"M0 0h24v24H0V0z\" fill=\"none\"/>\n",
              "    <path d=\"M18.56 5.44l.94 2.06.94-2.06 2.06-.94-2.06-.94-.94-2.06-.94 2.06-2.06.94zm-11 1L8.5 8.5l.94-2.06 2.06-.94-2.06-.94L8.5 2.5l-.94 2.06-2.06.94zm10 10l.94 2.06.94-2.06 2.06-.94-2.06-.94-.94-2.06-.94 2.06-2.06.94z\"/><path d=\"M17.41 7.96l-1.37-1.37c-.4-.4-.92-.59-1.43-.59-.52 0-1.04.2-1.43.59L10.3 9.45l-7.72 7.72c-.78.78-.78 2.05 0 2.83L4 21.41c.39.39.9.59 1.41.59.51 0 1.02-.2 1.41-.59l7.78-7.78 2.81-2.81c.8-.78.8-2.07 0-2.86zM5.41 20L4 18.59l7.72-7.72 1.47 1.35L5.41 20z\"/>\n",
              "  </svg>\n",
              "      </button>\n",
              "      \n",
              "  <style>\n",
              "    .colab-df-container {\n",
              "      display:flex;\n",
              "      flex-wrap:wrap;\n",
              "      gap: 12px;\n",
              "    }\n",
              "\n",
              "    .colab-df-convert {\n",
              "      background-color: #E8F0FE;\n",
              "      border: none;\n",
              "      border-radius: 50%;\n",
              "      cursor: pointer;\n",
              "      display: none;\n",
              "      fill: #1967D2;\n",
              "      height: 32px;\n",
              "      padding: 0 0 0 0;\n",
              "      width: 32px;\n",
              "    }\n",
              "\n",
              "    .colab-df-convert:hover {\n",
              "      background-color: #E2EBFA;\n",
              "      box-shadow: 0px 1px 2px rgba(60, 64, 67, 0.3), 0px 1px 3px 1px rgba(60, 64, 67, 0.15);\n",
              "      fill: #174EA6;\n",
              "    }\n",
              "\n",
              "    [theme=dark] .colab-df-convert {\n",
              "      background-color: #3B4455;\n",
              "      fill: #D2E3FC;\n",
              "    }\n",
              "\n",
              "    [theme=dark] .colab-df-convert:hover {\n",
              "      background-color: #434B5C;\n",
              "      box-shadow: 0px 1px 3px 1px rgba(0, 0, 0, 0.15);\n",
              "      filter: drop-shadow(0px 1px 2px rgba(0, 0, 0, 0.3));\n",
              "      fill: #FFFFFF;\n",
              "    }\n",
              "  </style>\n",
              "\n",
              "      <script>\n",
              "        const buttonEl =\n",
              "          document.querySelector('#df-aaaaf6a0-308a-4150-8d0a-ca63c342f057 button.colab-df-convert');\n",
              "        buttonEl.style.display =\n",
              "          google.colab.kernel.accessAllowed ? 'block' : 'none';\n",
              "\n",
              "        async function convertToInteractive(key) {\n",
              "          const element = document.querySelector('#df-aaaaf6a0-308a-4150-8d0a-ca63c342f057');\n",
              "          const dataTable =\n",
              "            await google.colab.kernel.invokeFunction('convertToInteractive',\n",
              "                                                     [key], {});\n",
              "          if (!dataTable) return;\n",
              "\n",
              "          const docLinkHtml = 'Like what you see? Visit the ' +\n",
              "            '<a target=\"_blank\" href=https://colab.research.google.com/notebooks/data_table.ipynb>data table notebook</a>'\n",
              "            + ' to learn more about interactive tables.';\n",
              "          element.innerHTML = '';\n",
              "          dataTable['output_type'] = 'display_data';\n",
              "          await google.colab.output.renderOutput(dataTable, element);\n",
              "          const docLink = document.createElement('div');\n",
              "          docLink.innerHTML = docLinkHtml;\n",
              "          element.appendChild(docLink);\n",
              "        }\n",
              "      </script>\n",
              "    </div>\n",
              "  </div>\n",
              "  "
            ]
          },
          "metadata": {},
          "execution_count": 3
        }
      ]
    },
    {
      "cell_type": "code",
      "source": [
        "# target variable\n",
        "df.Default_On_Payment.value_counts()"
      ],
      "metadata": {
        "colab": {
          "base_uri": "https://localhost:8080/"
        },
        "id": "E52c_UMQMEub",
        "outputId": "1f950b27-94f0-4b48-b578-177b89238b4b"
      },
      "execution_count": 4,
      "outputs": [
        {
          "output_type": "execute_result",
          "data": {
            "text/plain": [
              "0    3505\n",
              "1    1495\n",
              "Name: Default_On_Payment, dtype: int64"
            ]
          },
          "metadata": {},
          "execution_count": 4
        }
      ]
    },
    {
      "cell_type": "code",
      "source": [
        "x_features= list(df.columns)\n",
        "x_features"
      ],
      "metadata": {
        "colab": {
          "base_uri": "https://localhost:8080/"
        },
        "id": "eDcrsxXVMq56",
        "outputId": "ddf58321-c424-4bb8-9637-ca3c2c6471b5"
      },
      "execution_count": 5,
      "outputs": [
        {
          "output_type": "execute_result",
          "data": {
            "text/plain": [
              "['Customer_ID',\n",
              " 'Status_Checking_Acc',\n",
              " 'Duration_in_Months',\n",
              " 'Credit_History',\n",
              " 'Purposre_Credit_Taken',\n",
              " 'Credit_Amount',\n",
              " 'Savings_Acc',\n",
              " 'Years_At_Present_Employment',\n",
              " 'Inst_Rt_Income',\n",
              " 'Marital_Status_Gender',\n",
              " 'Other_Debtors_Guarantors',\n",
              " 'Current_Address_Yrs',\n",
              " 'Property',\n",
              " 'Age',\n",
              " 'Other_Inst_Plans ',\n",
              " 'Housing',\n",
              " 'Num_CC',\n",
              " 'Job',\n",
              " 'Dependents',\n",
              " 'Telephone',\n",
              " 'Foreign_Worker',\n",
              " 'Default_On_Payment']"
            ]
          },
          "metadata": {},
          "execution_count": 5
        }
      ]
    },
    {
      "cell_type": "code",
      "source": [
        "# remove target and customer_id\n",
        "x_features.remove(\"Default_On_Payment\")\n",
        "x_features.remove(\"Customer_ID\")"
      ],
      "metadata": {
        "id": "2Urw0fp5Ms9S"
      },
      "execution_count": 6,
      "outputs": []
    },
    {
      "cell_type": "markdown",
      "source": [
        "# Visualization"
      ],
      "metadata": {
        "id": "1IEutj1OMYLx"
      }
    },
    {
      "cell_type": "code",
      "source": [
        "import matplotlib.pyplot as plt\n",
        "import seaborn as sns\n",
        "\n",
        "sns.barplot(x='Status_Checking_Acc', y='Default_On_Payment', data=df)\n",
        "plt.show()"
      ],
      "metadata": {
        "colab": {
          "base_uri": "https://localhost:8080/",
          "height": 280
        },
        "id": "JI02T5SdMXdY",
        "outputId": "188b8daa-dda5-4019-9d96-454e2f5d5b8b"
      },
      "execution_count": 7,
      "outputs": [
        {
          "output_type": "display_data",
          "data": {
            "text/plain": [
              "<Figure size 432x288 with 1 Axes>"
            ],
            "image/png": "[encoded data removed]"
          },
          "metadata": {
            "needs_background": "light"
          }
        }
      ]
    },
    {
      "cell_type": "code",
      "source": [
        "plt.hist(df['Age'])\n",
        "plt.show()"
      ],
      "metadata": {
        "colab": {
          "base_uri": "https://localhost:8080/",
          "height": 265
        },
        "id": "q_VkpmgKM9W4",
        "outputId": "51582d02-0efd-4635-9fbd-2d8049ef555e"
      },
      "execution_count": 8,
      "outputs": [
        {
          "output_type": "display_data",
          "data": {
            "text/plain": [
              "<Figure size 432x288 with 1 Axes>"
            ],
            "image/png": "[encoded data removed]"
          },
          "metadata": {
            "needs_background": "light"
          }
        }
      ]
    },
    {
      "cell_type": "code",
      "source": [
        "sns.boxplot(x=df['Age'])\n",
        "plt.show()"
      ],
      "metadata": {
        "colab": {
          "base_uri": "https://localhost:8080/",
          "height": 279
        },
        "id": "FaHf08xLNAGw",
        "outputId": "22e6a33e-10b4-44c2-ac40-11cf479fece6"
      },
      "execution_count": 9,
      "outputs": [
        {
          "output_type": "display_data",
          "data": {
            "text/plain": [
              "<Figure size 432x288 with 1 Axes>"
            ],
            "image/png": "[encoded data removed]"
          },
          "metadata": {
            "needs_background": "light"
          }
        }
      ]
    },
    {
      "cell_type": "code",
      "source": [
        "plt.boxplot(df['Age'])\n",
        "plt.show()"
      ],
      "metadata": {
        "colab": {
          "base_uri": "https://localhost:8080/",
          "height": 265
        },
        "id": "JGgTz6scNFo8",
        "outputId": "687aa315-6ddd-48d9-8129-3b295bd28e25"
      },
      "execution_count": 10,
      "outputs": [
        {
          "output_type": "display_data",
          "data": {
            "text/plain": [
              "<Figure size 432x288 with 1 Axes>"
            ],
            "image/png": "[encoded data removed]"
          },
          "metadata": {
            "needs_background": "light"
          }
        }
      ]
    },
    {
      "cell_type": "code",
      "source": [
        "influential_features = ['Duration_in_Months', 'Credit_Amount', 'Num_CC', 'Age']\n",
        "sns.pairplot(df[influential_features], height=2)\n",
        "plt.show()"
      ],
      "metadata": {
        "colab": {
          "base_uri": "https://localhost:8080/",
          "height": 585
        },
        "id": "q853ICs5NJHC",
        "outputId": "6d197842-0f0a-42a5-eaff-e18b840ecc74"
      },
      "execution_count": 11,
      "outputs": [
        {
          "output_type": "display_data",
          "data": {
            "text/plain": [
              "<Figure size 576x576 with 20 Axes>"
            ],
            "image/png": "[encoded data removed]"
          },
          "metadata": {
            "needs_background": "light"
          }
        }
      ]
    },
    {
      "cell_type": "code",
      "source": [
        "df[influential_features].corr()"
      ],
      "metadata": {
        "colab": {
          "base_uri": "https://localhost:8080/",
          "height": 175
        },
        "id": "GEJ0s5EONJMI",
        "outputId": "187e4af5-fed9-4d02-d3db-c897ebb0b999"
      },
      "execution_count": 12,
      "outputs": [
        {
          "output_type": "execute_result",
          "data": {
            "text/plain": [
              "                    Duration_in_Months  Credit_Amount    Num_CC       Age\n",
              "Duration_in_Months            1.000000       0.624984 -0.011284 -0.036136\n",
              "Credit_Amount                 0.624984       1.000000  0.020795  0.032716\n",
              "Num_CC                       -0.011284       0.020795  1.000000  0.149254\n",
              "Age                          -0.036136       0.032716  0.149254  1.000000"
            ],
            "text/html": [
              "\n",
              "  <div id=\"df-9abeb6a8-8acd-4f5f-9590-0b9488427429\">\n",
              "    <div class=\"colab-df-container\">\n",
              "      <div>\n",
              "<style scoped>\n",
              "    .dataframe tbody tr th:only-of-type {\n",
              "        vertical-align: middle;\n",
              "    }\n",
              "\n",
              "    .dataframe tbody tr th {\n",
              "        vertical-align: top;\n",
              "    }\n",
              "\n",
              "    .dataframe thead th {\n",
              "        text-align: right;\n",
              "    }\n",
              "</style>\n",
              "<table border=\"1\" class=\"dataframe\">\n",
              "  <thead>\n",
              "    <tr style=\"text-align: right;\">\n",
              "      <th></th>\n",
              "      <th>Duration_in_Months</th>\n",
              "      <th>Credit_Amount</th>\n",
              "      <th>Num_CC</th>\n",
              "      <th>Age</th>\n",
              "    </tr>\n",
              "  </thead>\n",
              "  <tbody>\n",
              "    <tr>\n",
              "      <th>Duration_in_Months</th>\n",
              "      <td>1.000000</td>\n",
              "      <td>0.624984</td>\n",
              "      <td>-0.011284</td>\n",
              "      <td>-0.036136</td>\n",
              "    </tr>\n",
              "    <tr>\n",
              "      <th>Credit_Amount</th>\n",
              "      <td>0.624984</td>\n",
              "      <td>1.000000</td>\n",
              "      <td>0.020795</td>\n",
              "      <td>0.032716</td>\n",
              "    </tr>\n",
              "    <tr>\n",
              "      <th>Num_CC</th>\n",
              "      <td>-0.011284</td>\n",
              "      <td>0.020795</td>\n",
              "      <td>1.000000</td>\n",
              "      <td>0.149254</td>\n",
              "    </tr>\n",
              "    <tr>\n",
              "      <th>Age</th>\n",
              "      <td>-0.036136</td>\n",
              "      <td>0.032716</td>\n",
              "      <td>0.149254</td>\n",
              "      <td>1.000000</td>\n",
              "    </tr>\n",
              "  </tbody>\n",
              "</table>\n",
              "</div>\n",
              "      <button class=\"colab-df-convert\" onclick=\"convertToInteractive('df-9abeb6a8-8acd-4f5f-9590-0b9488427429')\"\n",
              "              title=\"Convert this dataframe to an interactive table.\"\n",
              "              style=\"display:none;\">\n",
              "        \n",
              "  <svg xmlns=\"http://www.w3.org/2000/svg\" height=\"24px\"viewBox=\"0 0 24 24\"\n",
              "       width=\"24px\">\n",
              "    <path d=\"M0 0h24v24H0V0z\" fill=\"none\"/>\n",
              "    <path d=\"M18.56 5.44l.94 2.06.94-2.06 2.06-.94-2.06-.94-.94-2.06-.94 2.06-2.06.94zm-11 1L8.5 8.5l.94-2.06 2.06-.94-2.06-.94L8.5 2.5l-.94 2.06-2.06.94zm10 10l.94 2.06.94-2.06 2.06-.94-2.06-.94-.94-2.06-.94 2.06-2.06.94z\"/><path d=\"M17.41 7.96l-1.37-1.37c-.4-.4-.92-.59-1.43-.59-.52 0-1.04.2-1.43.59L10.3 9.45l-7.72 7.72c-.78.78-.78 2.05 0 2.83L4 21.41c.39.39.9.59 1.41.59.51 0 1.02-.2 1.41-.59l7.78-7.78 2.81-2.81c.8-.78.8-2.07 0-2.86zM5.41 20L4 18.59l7.72-7.72 1.47 1.35L5.41 20z\"/>\n",
              "  </svg>\n",
              "      </button>\n",
              "      \n",
              "  <style>\n",
              "    .colab-df-container {\n",
              "      display:flex;\n",
              "      flex-wrap:wrap;\n",
              "      gap: 12px;\n",
              "    }\n",
              "\n",
              "    .colab-df-convert {\n",
              "      background-color: #E8F0FE;\n",
              "      border: none;\n",
              "      border-radius: 50%;\n",
              "      cursor: pointer;\n",
              "      display: none;\n",
              "      fill: #1967D2;\n",
              "      height: 32px;\n",
              "      padding: 0 0 0 0;\n",
              "      width: 32px;\n",
              "    }\n",
              "\n",
              "    .colab-df-convert:hover {\n",
              "      background-color: #E2EBFA;\n",
              "      box-shadow: 0px 1px 2px rgba(60, 64, 67, 0.3), 0px 1px 3px 1px rgba(60, 64, 67, 0.15);\n",
              "      fill: #174EA6;\n",
              "    }\n",
              "\n",
              "    [theme=dark] .colab-df-convert {\n",
              "      background-color: #3B4455;\n",
              "      fill: #D2E3FC;\n",
              "    }\n",
              "\n",
              "    [theme=dark] .colab-df-convert:hover {\n",
              "      background-color: #434B5C;\n",
              "      box-shadow: 0px 1px 3px 1px rgba(0, 0, 0, 0.15);\n",
              "      filter: drop-shadow(0px 1px 2px rgba(0, 0, 0, 0.3));\n",
              "      fill: #FFFFFF;\n",
              "    }\n",
              "  </style>\n",
              "\n",
              "      <script>\n",
              "        const buttonEl =\n",
              "          document.querySelector('#df-9abeb6a8-8acd-4f5f-9590-0b9488427429 button.colab-df-convert');\n",
              "        buttonEl.style.display =\n",
              "          google.colab.kernel.accessAllowed ? 'block' : 'none';\n",
              "\n",
              "        async function convertToInteractive(key) {\n",
              "          const element = document.querySelector('#df-9abeb6a8-8acd-4f5f-9590-0b9488427429');\n",
              "          const dataTable =\n",
              "            await google.colab.kernel.invokeFunction('convertToInteractive',\n",
              "                                                     [key], {});\n",
              "          if (!dataTable) return;\n",
              "\n",
              "          const docLinkHtml = 'Like what you see? Visit the ' +\n",
              "            '<a target=\"_blank\" href=https://colab.research.google.com/notebooks/data_table.ipynb>data table notebook</a>'\n",
              "            + ' to learn more about interactive tables.';\n",
              "          element.innerHTML = '';\n",
              "          dataTable['output_type'] = 'display_data';\n",
              "          await google.colab.output.renderOutput(dataTable, element);\n",
              "          const docLink = document.createElement('div');\n",
              "          docLink.innerHTML = docLinkHtml;\n",
              "          element.appendChild(docLink);\n",
              "        }\n",
              "      </script>\n",
              "    </div>\n",
              "  </div>\n",
              "  "
            ]
          },
          "metadata": {},
          "execution_count": 12
        }
      ]
    },
    {
      "cell_type": "markdown",
      "source": [
        "# Statsmodel"
      ],
      "metadata": {
        "id": "21HQGtE9Q5XR"
      }
    },
    {
      "cell_type": "code",
      "source": [
        "encoded_df = pd.get_dummies(df[x_features], drop_first=True)"
      ],
      "metadata": {
        "id": "gsoI6k-IQZfT"
      },
      "execution_count": 13,
      "outputs": []
    },
    {
      "cell_type": "code",
      "source": [
        "x_features = encoded_df.columns\n",
        "x_features"
      ],
      "metadata": {
        "colab": {
          "base_uri": "https://localhost:8080/"
        },
        "id": "q0wMQRnURA5q",
        "outputId": "5ed4683e-0f8e-407b-904f-fb1f245c17e2"
      },
      "execution_count": 14,
      "outputs": [
        {
          "output_type": "execute_result",
          "data": {
            "text/plain": [
              "Index(['Duration_in_Months', 'Credit_Amount', 'Inst_Rt_Income',\n",
              "       'Current_Address_Yrs', 'Age', 'Num_CC', 'Dependents',\n",
              "       'Status_Checking_Acc_A12', 'Status_Checking_Acc_A13',\n",
              "       'Status_Checking_Acc_A14', 'Credit_History_A31', 'Credit_History_A32',\n",
              "       'Credit_History_A33', 'Credit_History_A34', 'Purposre_Credit_Taken_A41',\n",
              "       'Purposre_Credit_Taken_A410', 'Purposre_Credit_Taken_A42',\n",
              "       'Purposre_Credit_Taken_A43', 'Purposre_Credit_Taken_A44',\n",
              "       'Purposre_Credit_Taken_A45', 'Purposre_Credit_Taken_A46',\n",
              "       'Purposre_Credit_Taken_A48', 'Purposre_Credit_Taken_A49',\n",
              "       'Savings_Acc_A62', 'Savings_Acc_A63', 'Savings_Acc_A64',\n",
              "       'Savings_Acc_A65', 'Years_At_Present_Employment_A72',\n",
              "       'Years_At_Present_Employment_A73', 'Years_At_Present_Employment_A74',\n",
              "       'Years_At_Present_Employment_A75', 'Marital_Status_Gender_A92',\n",
              "       'Marital_Status_Gender_A93', 'Marital_Status_Gender_A94',\n",
              "       'Other_Debtors_Guarantors_A102', 'Other_Debtors_Guarantors_A103',\n",
              "       'Property_A122', 'Property_A123', 'Property_A124',\n",
              "       'Other_Inst_Plans _A142', 'Other_Inst_Plans _A143', 'Housing_A152',\n",
              "       'Housing_A153', 'Job_A172', 'Job_A173', 'Job_A174', 'Telephone_A192',\n",
              "       'Foreign_Worker_A202'],\n",
              "      dtype='object')"
            ]
          },
          "metadata": {},
          "execution_count": 14
        }
      ]
    },
    {
      "cell_type": "code",
      "source": [
        "import statsmodels.api as sm\n",
        "\n",
        "y = df.Default_On_Payment\n",
        "x = sm.add_constant(encoded_df)"
      ],
      "metadata": {
        "id": "zsJgGFEIRJFH"
      },
      "execution_count": 15,
      "outputs": []
    },
    {
      "cell_type": "code",
      "source": [
        "from sklearn.metrics import classification_report\n",
        "from sklearn.model_selection import train_test_split\n",
        "x_train, x_test, y_train, y_test = train_test_split(x, y, test_size=0.2, random_state=55)"
      ],
      "metadata": {
        "id": "8ABCWf0OS-3D"
      },
      "execution_count": 16,
      "outputs": []
    },
    {
      "cell_type": "code",
      "source": [
        "logit = sm.Logit(y_train, x_train)\n",
        "logit_model = logit.fit()"
      ],
      "metadata": {
        "colab": {
          "base_uri": "https://localhost:8080/"
        },
        "id": "J_z6tMnIS-5y",
        "outputId": "1fdfe82c-278d-42d3-a117-bfa530d1d41f"
      },
      "execution_count": 17,
      "outputs": [
        {
          "output_type": "stream",
          "name": "stdout",
          "text": [
            "Optimization terminated successfully.\n",
            "         Current function value: 0.450245\n",
            "         Iterations 7\n"
          ]
        }
      ]
    },
    {
      "cell_type": "code",
      "source": [
        "print(logit_model.summary2())"
      ],
      "metadata": {
        "colab": {
          "base_uri": "https://localhost:8080/"
        },
        "id": "5qZliYW7S-8Z",
        "outputId": "8421af8c-2559-45f9-e870-6618d88b28f2"
      },
      "execution_count": 18,
      "outputs": [
        {
          "output_type": "stream",
          "name": "stdout",
          "text": [
            "                                 Results: Logit\n",
            "================================================================================\n",
            "Model:                  Logit                  Pseudo R-squared:     0.262      \n",
            "Dependent Variable:     Default_On_Payment     AIC:                  3699.9600  \n",
            "Date:                   2022-10-01 22:46       BIC:                  4008.3684  \n",
            "No. Observations:       4000                   Log-Likelihood:       -1801.0    \n",
            "Df Model:               48                     LL-Null:              -2440.1    \n",
            "Df Residuals:           3951                   LLR p-value:          3.8272e-236\n",
            "Converged:              1.0000                 Scale:                1.0000     \n",
            "No. Iterations:         7.0000                                                  \n",
            "--------------------------------------------------------------------------------\n",
            "                                 Coef.  Std.Err.    z     P>|z|   [0.025  0.975]\n",
            "--------------------------------------------------------------------------------\n",
            "const                            0.2473   0.5297   0.4668 0.6406 -0.7909  1.2854\n",
            "Duration_in_Months               0.0257   0.0046   5.5872 0.0000  0.0167  0.0347\n",
            "Credit_Amount                    0.0001   0.0000   5.8690 0.0000  0.0001  0.0002\n",
            "Inst_Rt_Income                   0.3065   0.0442   6.9361 0.0000  0.2199  0.3931\n",
            "Current_Address_Yrs              0.0200   0.0435   0.4606 0.6451 -0.0652  0.1053\n",
            "Age                             -0.0111   0.0046  -2.4248 0.0153 -0.0200 -0.0021\n",
            "Num_CC                           0.3303   0.0938   3.5204 0.0004  0.1464  0.5142\n",
            "Dependents                       0.2162   0.1231   1.7558 0.0791 -0.0251  0.4576\n",
            "Status_Checking_Acc_A12         -0.4420   0.1092  -4.0467 0.0001 -0.6561 -0.2279\n",
            "Status_Checking_Acc_A13         -1.0316   0.1821  -5.6641 0.0000 -1.3885 -0.6746\n",
            "Status_Checking_Acc_A14         -1.7230   0.1165 -14.7864 0.0000 -1.9514 -1.4946\n",
            "Credit_History_A31               0.0622   0.2739   0.2272 0.8203 -0.4745  0.5990\n",
            "Credit_History_A32              -0.6969   0.2111  -3.3007 0.0010 -1.1107 -0.2831\n",
            "Credit_History_A33              -0.9913   0.2338  -4.2403 0.0000 -1.4495 -0.5331\n",
            "Credit_History_A34              -1.5549   0.2168  -7.1717 0.0000 -1.9799 -1.1300\n",
            "Purposre_Credit_Taken_A41       -1.6693   0.1875  -8.9031 0.0000 -2.0368 -1.3018\n",
            "Purposre_Credit_Taken_A410      -1.4597   0.3708  -3.9363 0.0001 -2.1865 -0.7329\n",
            "Purposre_Credit_Taken_A42       -0.7584   0.1302  -5.8237 0.0000 -1.0136 -0.5031\n",
            "Purposre_Credit_Taken_A43       -0.8601   0.1244  -6.9127 0.0000 -1.1039 -0.6162\n",
            "Purposre_Credit_Taken_A44       -0.5779   0.3645  -1.5855 0.1128 -1.2924  0.1365\n",
            "Purposre_Credit_Taken_A45       -0.0441   0.2694  -0.1637 0.8700 -0.5721  0.4839\n",
            "Purposre_Credit_Taken_A46        0.1297   0.1983   0.6537 0.5133 -0.2591  0.5184\n",
            "Purposre_Credit_Taken_A48       -2.2258   0.6086  -3.6576 0.0003 -3.4186 -1.0331\n",
            "Purposre_Credit_Taken_A49       -0.7165   0.1668  -4.2954 0.0000 -1.0434 -0.3896\n",
            "Savings_Acc_A62                 -0.3033   0.1438  -2.1089 0.0350 -0.5852 -0.0214\n",
            "Savings_Acc_A63                 -0.3522   0.2029  -1.7363 0.0825 -0.7499  0.0454\n",
            "Savings_Acc_A64                 -1.2601   0.2577  -4.8895 0.0000 -1.7652 -0.7550\n",
            "Savings_Acc_A65                 -0.9242   0.1317  -7.0169 0.0000 -1.1824 -0.6661\n",
            "Years_At_Present_Employment_A72 -0.1120   0.2096  -0.5344 0.5931 -0.5229  0.2988\n",
            "Years_At_Present_Employment_A73 -0.2219   0.2015  -1.1011 0.2709 -0.6169  0.1731\n",
            "Years_At_Present_Employment_A74 -0.8748   0.2192  -3.9904 0.0001 -1.3045 -0.4451\n",
            "Years_At_Present_Employment_A75 -0.3311   0.2031  -1.6299 0.1031 -0.7292  0.0670\n",
            "Marital_Status_Gender_A92       -0.0929   0.1939  -0.4790 0.6320 -0.4729  0.2872\n",
            "Marital_Status_Gender_A93       -0.5974   0.1904  -3.1368 0.0017 -0.9707 -0.2241\n",
            "Marital_Status_Gender_A94       -0.1091   0.2270  -0.4804 0.6309 -0.5541  0.3359\n",
            "Other_Debtors_Guarantors_A102    0.5157   0.2028   2.5427 0.0110  0.1182  0.9132\n",
            "Other_Debtors_Guarantors_A103   -0.9293   0.2154  -4.3138 0.0000 -1.3516 -0.5071\n",
            "Property_A122                    0.3116   0.1274   2.4455 0.0145  0.0619  0.5613\n",
            "Property_A123                    0.3358   0.1190   2.8217 0.0048  0.1026  0.5691\n",
            "Property_A124                    0.6142   0.2148   2.8596 0.0042  0.1932  1.0351\n",
            "Other_Inst_Plans _A142           0.0101   0.2043   0.0494 0.9606 -0.3904  0.4106\n",
            "Other_Inst_Plans _A143          -0.5831   0.1196  -4.8759 0.0000 -0.8175 -0.3487\n",
            "Housing_A152                    -0.4557   0.1173  -3.8866 0.0001 -0.6856 -0.2259\n",
            "Housing_A153                    -0.5065   0.2375  -2.1324 0.0330 -0.9720 -0.0410\n",
            "Job_A172                         0.4217   0.3301   1.2775 0.2014 -0.2253  1.0687\n",
            "Job_A173                         0.4511   0.3167   1.4244 0.1543 -0.1696  1.0717\n",
            "Job_A174                         0.4187   0.3207   1.3055 0.1917 -0.2099  1.0473\n",
            "Telephone_A192                  -0.2793   0.1005  -2.7790 0.0055 -0.4763 -0.0823\n",
            "Foreign_Worker_A202             -1.1933   0.2997  -3.9822 0.0001 -1.7806 -0.6060\n",
            "================================================================================\n",
            "\n"
          ]
        }
      ]
    },
    {
      "cell_type": "code",
      "source": [
        "y_pred = np.round_(logit_model.predict(x_test))\n",
        "print(classification_report(y_test, y_pred))"
      ],
      "metadata": {
        "colab": {
          "base_uri": "https://localhost:8080/"
        },
        "id": "m3A3XPr4UqXc",
        "outputId": "aa57ab79-433d-4464-a8cf-173a835d5b49"
      },
      "execution_count": 19,
      "outputs": [
        {
          "output_type": "stream",
          "name": "stdout",
          "text": [
            "              precision    recall  f1-score   support\n",
            "\n",
            "           0       0.83      0.88      0.85       701\n",
            "           1       0.68      0.57      0.62       299\n",
            "\n",
            "    accuracy                           0.79      1000\n",
            "   macro avg       0.75      0.73      0.74      1000\n",
            "weighted avg       0.78      0.79      0.78      1000\n",
            "\n"
          ]
        }
      ]
    },
    {
      "cell_type": "code",
      "source": [
        "def get_significant_vars(lm):\n",
        "  var_p_vals_df = pd.DataFrame(lm.pvalues)\n",
        "  var_p_vals_df['vars'] = var_p_vals_df.index\n",
        "  var_p_vals_df.columns = ['pvals', 'vars']\n",
        "  # filter the column names where p-value is less than 0.05\n",
        "  return list(var_p_vals_df[var_p_vals_df.pvals <= 0.05]['vars'])\n",
        "  \n",
        "significant_vars = get_significant_vars(logit_model)\n",
        "significant_vars"
      ],
      "metadata": {
        "colab": {
          "base_uri": "https://localhost:8080/"
        },
        "id": "anbJDbECVFbD",
        "outputId": "bbcd6cef-8132-4455-d99e-446733b4fd98"
      },
      "execution_count": 20,
      "outputs": [
        {
          "output_type": "execute_result",
          "data": {
            "text/plain": [
              "['Duration_in_Months',\n",
              " 'Credit_Amount',\n",
              " 'Inst_Rt_Income',\n",
              " 'Age',\n",
              " 'Num_CC',\n",
              " 'Status_Checking_Acc_A12',\n",
              " 'Status_Checking_Acc_A13',\n",
              " 'Status_Checking_Acc_A14',\n",
              " 'Credit_History_A32',\n",
              " 'Credit_History_A33',\n",
              " 'Credit_History_A34',\n",
              " 'Purposre_Credit_Taken_A41',\n",
              " 'Purposre_Credit_Taken_A410',\n",
              " 'Purposre_Credit_Taken_A42',\n",
              " 'Purposre_Credit_Taken_A43',\n",
              " 'Purposre_Credit_Taken_A48',\n",
              " 'Purposre_Credit_Taken_A49',\n",
              " 'Savings_Acc_A62',\n",
              " 'Savings_Acc_A64',\n",
              " 'Savings_Acc_A65',\n",
              " 'Years_At_Present_Employment_A74',\n",
              " 'Marital_Status_Gender_A93',\n",
              " 'Other_Debtors_Guarantors_A102',\n",
              " 'Other_Debtors_Guarantors_A103',\n",
              " 'Property_A122',\n",
              " 'Property_A123',\n",
              " 'Property_A124',\n",
              " 'Other_Inst_Plans _A143',\n",
              " 'Housing_A152',\n",
              " 'Housing_A153',\n",
              " 'Telephone_A192',\n",
              " 'Foreign_Worker_A202']"
            ]
          },
          "metadata": {},
          "execution_count": 20
        }
      ]
    },
    {
      "cell_type": "code",
      "source": [
        "final_logit = sm.Logit(y_train, sm.add_constant(x_train[significant_vars])).fit()"
      ],
      "metadata": {
        "colab": {
          "base_uri": "https://localhost:8080/"
        },
        "id": "ZHWM6IYIVFdo",
        "outputId": "4b4c39d7-64a9-4147-967a-db5fd6e59e5f"
      },
      "execution_count": 21,
      "outputs": [
        {
          "output_type": "stream",
          "name": "stdout",
          "text": [
            "Optimization terminated successfully.\n",
            "         Current function value: 0.452202\n",
            "         Iterations 7\n"
          ]
        }
      ]
    },
    {
      "cell_type": "code",
      "source": [
        "print(final_logit.summary2())"
      ],
      "metadata": {
        "colab": {
          "base_uri": "https://localhost:8080/"
        },
        "id": "VR7l5FBOVFgE",
        "outputId": "8b8b290e-0669-4b48-92cd-4561e1d52e26"
      },
      "execution_count": 22,
      "outputs": [
        {
          "output_type": "stream",
          "name": "stdout",
          "text": [
            "                                 Results: Logit\n",
            "================================================================================\n",
            "Model:                  Logit                  Pseudo R-squared:     0.259      \n",
            "Dependent Variable:     Default_On_Payment     AIC:                  3683.6192  \n",
            "Date:                   2022-10-01 22:46       BIC:                  3891.3229  \n",
            "No. Observations:       4000                   Log-Likelihood:       -1808.8    \n",
            "Df Model:               32                     LL-Null:              -2440.1    \n",
            "Df Residuals:           3967                   LLR p-value:          5.6109e-245\n",
            "Converged:              1.0000                 Scale:                1.0000     \n",
            "No. Iterations:         7.0000                                                  \n",
            "--------------------------------------------------------------------------------\n",
            "                                 Coef.  Std.Err.    z     P>|z|   [0.025  0.975]\n",
            "--------------------------------------------------------------------------------\n",
            "const                            0.7150   0.3029   2.3609 0.0182  0.1214  1.3087\n",
            "Duration_in_Months               0.0254   0.0045   5.6194 0.0000  0.0165  0.0343\n",
            "Credit_Amount                    0.0001   0.0000   6.2235 0.0000  0.0001  0.0002\n",
            "Inst_Rt_Income                   0.3068   0.0429   7.1485 0.0000  0.2227  0.3909\n",
            "Age                             -0.0123   0.0042  -2.9196 0.0035 -0.0205 -0.0040\n",
            "Num_CC                           0.3362   0.0891   3.7751 0.0002  0.1617  0.5108\n",
            "Status_Checking_Acc_A12         -0.4538   0.1069  -4.2466 0.0000 -0.6633 -0.2444\n",
            "Status_Checking_Acc_A13         -1.0610   0.1786  -5.9401 0.0000 -1.4111 -0.7109\n",
            "Status_Checking_Acc_A14         -1.7585   0.1130 -15.5568 0.0000 -1.9800 -1.5369\n",
            "Credit_History_A32              -0.7193   0.1493  -4.8167 0.0000 -1.0120 -0.4266\n",
            "Credit_History_A33              -0.9755   0.1911  -5.1062 0.0000 -1.3500 -0.6011\n",
            "Credit_History_A34              -1.5836   0.1698  -9.3234 0.0000 -1.9165 -1.2507\n",
            "Purposre_Credit_Taken_A41       -1.6660   0.1797  -9.2696 0.0000 -2.0182 -1.3137\n",
            "Purposre_Credit_Taken_A410      -1.4779   0.3641  -4.0588 0.0000 -2.1915 -0.7642\n",
            "Purposre_Credit_Taken_A42       -0.7557   0.1215  -6.2211 0.0000 -0.9938 -0.5176\n",
            "Purposre_Credit_Taken_A43       -0.8812   0.1148  -7.6794 0.0000 -1.1062 -0.6563\n",
            "Purposre_Credit_Taken_A48       -2.2927   0.5995  -3.8243 0.0001 -3.4677 -1.1177\n",
            "Purposre_Credit_Taken_A49       -0.7232   0.1587  -4.5563 0.0000 -1.0343 -0.4121\n",
            "Savings_Acc_A62                 -0.2621   0.1409  -1.8598 0.0629 -0.5384  0.0141\n",
            "Savings_Acc_A64                 -1.1972   0.2510  -4.7689 0.0000 -1.6892 -0.7052\n",
            "Savings_Acc_A65                 -0.9268   0.1292  -7.1719 0.0000 -1.1801 -0.6735\n",
            "Years_At_Present_Employment_A74 -0.6507   0.1209  -5.3821 0.0000 -0.8876 -0.4137\n",
            "Marital_Status_Gender_A93       -0.4910   0.0901  -5.4529 0.0000 -0.6675 -0.3145\n",
            "Other_Debtors_Guarantors_A102    0.5372   0.2021   2.6581 0.0079  0.1411  0.9333\n",
            "Other_Debtors_Guarantors_A103   -0.9045   0.2132  -4.2432 0.0000 -1.3223 -0.4867\n",
            "Property_A122                    0.3430   0.1240   2.7665 0.0057  0.1000  0.5861\n",
            "Property_A123                    0.3479   0.1161   2.9967 0.0027  0.1204  0.5755\n",
            "Property_A124                    0.5730   0.2098   2.7313 0.0063  0.1618  0.9841\n",
            "Other_Inst_Plans _A143          -0.5959   0.1049  -5.6825 0.0000 -0.8014 -0.3903\n",
            "Housing_A152                    -0.4646   0.1113  -4.1753 0.0000 -0.6827 -0.2465\n",
            "Housing_A153                    -0.4184   0.2336  -1.7908 0.0733 -0.8763  0.0395\n",
            "Telephone_A192                  -0.2716   0.0932  -2.9154 0.0036 -0.4542 -0.0890\n",
            "Foreign_Worker_A202             -1.1870   0.2989  -3.9712 0.0001 -1.7728 -0.6012\n",
            "================================================================================\n",
            "\n"
          ]
        }
      ]
    },
    {
      "cell_type": "code",
      "source": [
        "x_test = sm.add_constant(x_test[significant_vars])\n",
        "y_pred = np.round_(final_logit.predict(x_test).values)\n",
        "print(classification_report(y_test.values, y_pred))"
      ],
      "metadata": {
        "colab": {
          "base_uri": "https://localhost:8080/"
        },
        "id": "yGoSXHSuWvt7",
        "outputId": "c343933b-0346-4a8d-9b37-0ece09becdc4"
      },
      "execution_count": 23,
      "outputs": [
        {
          "output_type": "stream",
          "name": "stdout",
          "text": [
            "              precision    recall  f1-score   support\n",
            "\n",
            "           0       0.82      0.88      0.85       701\n",
            "           1       0.67      0.56      0.61       299\n",
            "\n",
            "    accuracy                           0.79      1000\n",
            "   macro avg       0.75      0.72      0.73      1000\n",
            "weighted avg       0.78      0.79      0.78      1000\n",
            "\n"
          ]
        }
      ]
    },
    {
      "cell_type": "markdown",
      "source": [
        "# Other Models"
      ],
      "metadata": {
        "id": "H6pLdt6jVx3H"
      }
    },
    {
      "cell_type": "code",
      "source": [
        "x = encoded_df[significant_vars].values\n",
        "# x = encoded_df.values\n",
        "y = df.Default_On_Payment.values"
      ],
      "metadata": {
        "id": "7B8My210bA4o"
      },
      "execution_count": 24,
      "outputs": []
    },
    {
      "cell_type": "code",
      "source": [
        "from sklearn.model_selection import train_test_split\n",
        "x_train, x_test, y_train, y_test = train_test_split(x, y, test_size=0.2, random_state=55)"
      ],
      "metadata": {
        "id": "oAHYN_jJeIMn"
      },
      "execution_count": 25,
      "outputs": []
    },
    {
      "cell_type": "code",
      "source": [
        "from sklearn.preprocessing import MinMaxScaler\n",
        "MM = MinMaxScaler()\n",
        "x_train = MM.fit_transform(x_train)\n",
        "x_test = MM.fit_transform(x_test)"
      ],
      "metadata": {
        "id": "hBWUP6X8hCiD"
      },
      "execution_count": 26,
      "outputs": []
    },
    {
      "cell_type": "code",
      "source": [
        "from sklearn.metrics import classification_report\n",
        "from sklearn.ensemble import RandomForestClassifier\n",
        "from sklearn.linear_model import LogisticRegression\n",
        "from sklearn.neighbors import KNeighborsClassifier\n",
        "from sklearn.svm import SVC\n",
        "from sklearn.naive_bayes import GaussianNB\n",
        "from sklearn.discriminant_analysis import LinearDiscriminantAnalysis\n",
        "from sklearn.tree import DecisionTreeClassifier"
      ],
      "metadata": {
        "id": "gRNUqovfVFsG"
      },
      "execution_count": 27,
      "outputs": []
    },
    {
      "cell_type": "code",
      "source": [
        "LR = LogisticRegression(random_state=0).fit(x_train, y_train)\n",
        "y_pred = LR.predict(x_test)\n",
        "print(classification_report(y_test, y_pred))"
      ],
      "metadata": {
        "colab": {
          "base_uri": "https://localhost:8080/"
        },
        "id": "6Hnxh3cRVL8L",
        "outputId": "d047dd02-e1c7-491c-8ca4-429aff252086"
      },
      "execution_count": 28,
      "outputs": [
        {
          "output_type": "stream",
          "name": "stdout",
          "text": [
            "              precision    recall  f1-score   support\n",
            "\n",
            "           0       0.82      0.89      0.86       701\n",
            "           1       0.68      0.56      0.61       299\n",
            "\n",
            "    accuracy                           0.79      1000\n",
            "   macro avg       0.75      0.72      0.73      1000\n",
            "weighted avg       0.78      0.79      0.78      1000\n",
            "\n"
          ]
        }
      ]
    },
    {
      "cell_type": "code",
      "source": [
        "DT = DecisionTreeClassifier(max_depth=10, random_state=0).fit(x_train, y_train)\n",
        "y_pred = DT.predict(x_test)\n",
        "print(classification_report(y_test, y_pred))"
      ],
      "metadata": {
        "colab": {
          "base_uri": "https://localhost:8080/"
        },
        "id": "pqRoIRumseyM",
        "outputId": "3225fb40-0c7d-4cfc-a574-4354e907ce56"
      },
      "execution_count": 29,
      "outputs": [
        {
          "output_type": "stream",
          "name": "stdout",
          "text": [
            "              precision    recall  f1-score   support\n",
            "\n",
            "           0       0.92      0.93      0.93       701\n",
            "           1       0.83      0.82      0.82       299\n",
            "\n",
            "    accuracy                           0.90      1000\n",
            "   macro avg       0.88      0.87      0.87      1000\n",
            "weighted avg       0.89      0.90      0.89      1000\n",
            "\n"
          ]
        }
      ]
    },
    {
      "cell_type": "code",
      "source": [
        "RF = RandomForestClassifier(max_depth=10, random_state=0).fit(x_train, y_train)\n",
        "y_pred = RF.predict(x_test)\n",
        "print(classification_report(y_test, y_pred))"
      ],
      "metadata": {
        "colab": {
          "base_uri": "https://localhost:8080/"
        },
        "id": "SJunD-keVHIr",
        "outputId": "4f3e8694-9755-4810-a322-875207fc120c"
      },
      "execution_count": 30,
      "outputs": [
        {
          "output_type": "stream",
          "name": "stdout",
          "text": [
            "              precision    recall  f1-score   support\n",
            "\n",
            "           0       0.93      1.00      0.96       701\n",
            "           1       1.00      0.81      0.90       299\n",
            "\n",
            "    accuracy                           0.94      1000\n",
            "   macro avg       0.96      0.91      0.93      1000\n",
            "weighted avg       0.95      0.94      0.94      1000\n",
            "\n"
          ]
        }
      ]
    },
    {
      "cell_type": "code",
      "source": [
        "SVM = SVC().fit(x_train, y_train)\n",
        "y_pred = SVM.predict(x_test)\n",
        "print(classification_report(y_test, y_pred))"
      ],
      "metadata": {
        "colab": {
          "base_uri": "https://localhost:8080/"
        },
        "id": "iYBYN3MtGmny",
        "outputId": "bf65485a-9a71-45e7-c467-abe09c1878b0"
      },
      "execution_count": 31,
      "outputs": [
        {
          "output_type": "stream",
          "name": "stdout",
          "text": [
            "              precision    recall  f1-score   support\n",
            "\n",
            "           0       0.90      0.96      0.93       701\n",
            "           1       0.90      0.75      0.82       299\n",
            "\n",
            "    accuracy                           0.90      1000\n",
            "   macro avg       0.90      0.86      0.87      1000\n",
            "weighted avg       0.90      0.90      0.90      1000\n",
            "\n"
          ]
        }
      ]
    },
    {
      "cell_type": "code",
      "source": [
        "KNN = KNeighborsClassifier(n_neighbors=5).fit(x_train, y_train)\n",
        "y_pred = KNN.predict(x_test)\n",
        "print(classification_report(y_test, y_pred))"
      ],
      "metadata": {
        "colab": {
          "base_uri": "https://localhost:8080/"
        },
        "id": "o3EVMwn2pt8X",
        "outputId": "772b552d-a6e9-47fb-e967-a46b5b41994c"
      },
      "execution_count": 32,
      "outputs": [
        {
          "output_type": "stream",
          "name": "stdout",
          "text": [
            "              precision    recall  f1-score   support\n",
            "\n",
            "           0       0.95      0.97      0.96       701\n",
            "           1       0.93      0.88      0.90       299\n",
            "\n",
            "    accuracy                           0.94      1000\n",
            "   macro avg       0.94      0.92      0.93      1000\n",
            "weighted avg       0.94      0.94      0.94      1000\n",
            "\n"
          ]
        }
      ]
    },
    {
      "cell_type": "code",
      "source": [
        "NAIVE = GaussianNB().fit(x_train, y_train)\n",
        "y_pred = NAIVE.predict(x_test)\n",
        "print(classification_report(y_test, y_pred))"
      ],
      "metadata": {
        "colab": {
          "base_uri": "https://localhost:8080/"
        },
        "id": "kjGO4WnzqsVl",
        "outputId": "1773ead0-7e5a-42c8-fb81-1490c400de73"
      },
      "execution_count": 33,
      "outputs": [
        {
          "output_type": "stream",
          "name": "stdout",
          "text": [
            "              precision    recall  f1-score   support\n",
            "\n",
            "           0       0.86      0.71      0.78       701\n",
            "           1       0.52      0.72      0.60       299\n",
            "\n",
            "    accuracy                           0.71      1000\n",
            "   macro avg       0.69      0.72      0.69      1000\n",
            "weighted avg       0.75      0.71      0.73      1000\n",
            "\n"
          ]
        }
      ]
    },
    {
      "cell_type": "code",
      "source": [
        "LDA = LinearDiscriminantAnalysis().fit(x_train, y_train)\n",
        "y_pred = LDA.predict(x_test)\n",
        "print(classification_report(y_test, y_pred))"
      ],
      "metadata": {
        "colab": {
          "base_uri": "https://localhost:8080/"
        },
        "id": "CVfJJCP7r4sm",
        "outputId": "c190b94d-f6b5-4965-a43b-d6f6feffe72d"
      },
      "execution_count": 34,
      "outputs": [
        {
          "output_type": "stream",
          "name": "stdout",
          "text": [
            "              precision    recall  f1-score   support\n",
            "\n",
            "           0       0.83      0.89      0.86       701\n",
            "           1       0.68      0.56      0.62       299\n",
            "\n",
            "    accuracy                           0.79      1000\n",
            "   macro avg       0.75      0.72      0.74      1000\n",
            "weighted avg       0.78      0.79      0.78      1000\n",
            "\n"
          ]
        }
      ]
    },
    {
      "cell_type": "code",
      "source": [
        "from xgboost import XGBClassifier\n",
        "XGB = XGBClassifier().fit(x_train, y_train)\n",
        "y_pred = XGB.predict(x_test)\n",
        "print(classification_report(y_test, y_pred))"
      ],
      "metadata": {
        "colab": {
          "base_uri": "https://localhost:8080/"
        },
        "id": "xWOv9qdk5dRg",
        "outputId": "b14bd739-0456-4558-e48c-4d9614959672"
      },
      "execution_count": 35,
      "outputs": [
        {
          "output_type": "stream",
          "name": "stdout",
          "text": [
            "              precision    recall  f1-score   support\n",
            "\n",
            "           0       0.86      0.94      0.90       701\n",
            "           1       0.81      0.64      0.71       299\n",
            "\n",
            "    accuracy                           0.85      1000\n",
            "   macro avg       0.83      0.79      0.80      1000\n",
            "weighted avg       0.84      0.85      0.84      1000\n",
            "\n"
          ]
        }
      ]
    },
    {
      "cell_type": "code",
      "source": [
        "import tensorflow as tf\n",
        "from tensorflow import keras\n",
        "from keras.models import Sequential\n",
        "from keras.layers import Dense, Dropout"
      ],
      "metadata": {
        "id": "4JOOBx_1l1nx"
      },
      "execution_count": 36,
      "outputs": []
    },
    {
      "cell_type": "code",
      "source": [
        "drop = 0.3\n",
        "model = Sequential()\n",
        "model.add(Dense(128, input_shape=(x_train.shape[1],), activation='relu'))\n",
        "model.add(Dropout(drop))\n",
        "model.add(Dense(128, activation='relu'))\n",
        "model.add(Dropout(drop))\n",
        "model.add(Dense(128, activation='relu'))\n",
        "model.add(Dropout(drop))\n",
        "model.add(Dense(128, activation='relu'))\n",
        "model.add(Dropout(drop))\n",
        "model.add(Dense(128, activation='relu'))\n",
        "model.add(Dropout(drop))\n",
        "model.add(Dense(1, activation='sigmoid'))\n",
        "model.summary()"
      ],
      "metadata": {
        "colab": {
          "base_uri": "https://localhost:8080/"
        },
        "id": "0kEmCHK_l394",
        "outputId": "4cc215ef-594e-4ef6-ee04-63fa54ea1c66"
      },
      "execution_count": 37,
      "outputs": [
        {
          "output_type": "stream",
          "name": "stdout",
          "text": [
            "Model: \"sequential\"\n",
            "_________________________________________________________________\n",
            " Layer (type)                Output Shape              Param #   \n",
            "=================================================================\n",
            " dense (Dense)               (None, 128)               4224      \n",
            "                                                                 \n",
            " dropout (Dropout)           (None, 128)               0         \n",
            "                                                                 \n",
            " dense_1 (Dense)             (None, 128)               16512     \n",
            "                                                                 \n",
            " dropout_1 (Dropout)         (None, 128)               0         \n",
            "                                                                 \n",
            " dense_2 (Dense)             (None, 128)               16512     \n",
            "                                                                 \n",
            " dropout_2 (Dropout)         (None, 128)               0         \n",
            "                                                                 \n",
            " dense_3 (Dense)             (None, 128)               16512     \n",
            "                                                                 \n",
            " dropout_3 (Dropout)         (None, 128)               0         \n",
            "                                                                 \n",
            " dense_4 (Dense)             (None, 128)               16512     \n",
            "                                                                 \n",
            " dropout_4 (Dropout)         (None, 128)               0         \n",
            "                                                                 \n",
            " dense_5 (Dense)             (None, 1)                 129       \n",
            "                                                                 \n",
            "=================================================================\n",
            "Total params: 70,401\n",
            "Trainable params: 70,401\n",
            "Non-trainable params: 0\n",
            "_________________________________________________________________\n"
          ]
        }
      ]
    },
    {
      "cell_type": "code",
      "source": [
        "model.compile(optimizer='adam', loss=tf.keras.losses.BinaryCrossentropy(), metrics=['accuracy'])\n",
        "history = model.fit(x_train, y_train, epochs=15)"
      ],
      "metadata": {
        "colab": {
          "base_uri": "https://localhost:8080/"
        },
        "id": "P30B2HrpmAre",
        "outputId": "f34ff43a-affc-4cf4-cefb-54c7d390d3cb"
      },
      "execution_count": 38,
      "outputs": [
        {
          "output_type": "stream",
          "name": "stdout",
          "text": [
            "Epoch 1/15\n",
            "125/125 [==============================] - 3s 7ms/step - loss: 0.5663 - accuracy: 0.7007\n",
            "Epoch 2/15\n",
            "125/125 [==============================] - 1s 7ms/step - loss: 0.4960 - accuracy: 0.7427\n",
            "Epoch 3/15\n",
            "125/125 [==============================] - 1s 8ms/step - loss: 0.4569 - accuracy: 0.7785\n",
            "Epoch 4/15\n",
            "125/125 [==============================] - 1s 8ms/step - loss: 0.4130 - accuracy: 0.8135\n",
            "Epoch 5/15\n",
            "125/125 [==============================] - 1s 10ms/step - loss: 0.3738 - accuracy: 0.8345\n",
            "Epoch 6/15\n",
            "125/125 [==============================] - 1s 7ms/step - loss: 0.3339 - accuracy: 0.8522\n",
            "Epoch 7/15\n",
            "125/125 [==============================] - 1s 6ms/step - loss: 0.3003 - accuracy: 0.8655\n",
            "Epoch 8/15\n",
            "125/125 [==============================] - 1s 8ms/step - loss: 0.2918 - accuracy: 0.8742\n",
            "Epoch 9/15\n",
            "125/125 [==============================] - 1s 7ms/step - loss: 0.2562 - accuracy: 0.8903\n",
            "Epoch 10/15\n",
            "125/125 [==============================] - 1s 6ms/step - loss: 0.2365 - accuracy: 0.9025\n",
            "Epoch 11/15\n",
            "125/125 [==============================] - 1s 7ms/step - loss: 0.2145 - accuracy: 0.9097\n",
            "Epoch 12/15\n",
            "125/125 [==============================] - 1s 7ms/step - loss: 0.1964 - accuracy: 0.9185\n",
            "Epoch 13/15\n",
            "125/125 [==============================] - 1s 7ms/step - loss: 0.1861 - accuracy: 0.9205\n",
            "Epoch 14/15\n",
            "125/125 [==============================] - 1s 6ms/step - loss: 0.1679 - accuracy: 0.9298\n",
            "Epoch 15/15\n",
            "125/125 [==============================] - 1s 5ms/step - loss: 0.1625 - accuracy: 0.9320\n"
          ]
        }
      ]
    },
    {
      "cell_type": "code",
      "source": [
        "y_pred = np.ravel(np.round_(model.predict(x_test)))\n",
        "print(classification_report(y_test, y_pred))"
      ],
      "metadata": {
        "colab": {
          "base_uri": "https://localhost:8080/"
        },
        "id": "-STGOH7bmUOI",
        "outputId": "433c1eca-c269-4506-b86d-994230b3c0dd"
      },
      "execution_count": 39,
      "outputs": [
        {
          "output_type": "stream",
          "name": "stdout",
          "text": [
            "              precision    recall  f1-score   support\n",
            "\n",
            "           0       0.97      0.99      0.98       701\n",
            "           1       0.99      0.94      0.96       299\n",
            "\n",
            "    accuracy                           0.98      1000\n",
            "   macro avg       0.98      0.97      0.97      1000\n",
            "weighted avg       0.98      0.98      0.98      1000\n",
            "\n"
          ]
        }
      ]
    },
    {
      "cell_type": "markdown",
      "source": [
        "# Class Balancing"
      ],
      "metadata": {
        "id": "p3gRoJgSly7g"
      }
    },
    {
      "cell_type": "code",
      "source": [
        "counts = np.bincount(y_train)\n",
        "print(\n",
        "    \"Number of loan default samples in training data: {} ({:.2f}% of total)\".format(\n",
        "        counts[1], 100 * float(counts[1]) / len(y_train)\n",
        "    )\n",
        ")\n",
        "\n",
        "weight_for_0 = 1.0 / counts[0]\n",
        "weight_for_1 = 1.0 / counts[1]\n",
        "\n",
        "class_weight = {0: weight_for_0, 1: weight_for_1}"
      ],
      "metadata": {
        "colab": {
          "base_uri": "https://localhost:8080/"
        },
        "id": "WvVZoJLOOuVh",
        "outputId": "6b9d27c5-a3d3-48c7-dc11-f3bae7e47417"
      },
      "execution_count": 40,
      "outputs": [
        {
          "output_type": "stream",
          "name": "stdout",
          "text": [
            "Number of loan default samples in training data: 1196 (29.90% of total)\n"
          ]
        }
      ]
    },
    {
      "cell_type": "code",
      "source": [
        "drop = 0.3\n",
        "model = Sequential()\n",
        "model.add(Dense(128, input_shape=(x_train.shape[1],), activation='relu'))\n",
        "model.add(Dropout(drop))\n",
        "model.add(Dense(128, activation='relu'))\n",
        "model.add(Dropout(drop))\n",
        "model.add(Dense(128, activation='relu'))\n",
        "model.add(Dropout(drop))\n",
        "model.add(Dense(128, activation='relu'))\n",
        "model.add(Dropout(drop))\n",
        "model.add(Dense(128, activation='relu'))\n",
        "model.add(Dropout(drop))\n",
        "model.add(Dense(1, activation='sigmoid'))\n",
        "model.summary()"
      ],
      "metadata": {
        "colab": {
          "base_uri": "https://localhost:8080/"
        },
        "id": "f399ohxxVSi0",
        "outputId": "defc896f-3ea5-4008-f0b5-821b3d880a91"
      },
      "execution_count": 41,
      "outputs": [
        {
          "output_type": "stream",
          "name": "stdout",
          "text": [
            "Model: \"sequential_1\"\n",
            "_________________________________________________________________\n",
            " Layer (type)                Output Shape              Param #   \n",
            "=================================================================\n",
            " dense_6 (Dense)             (None, 128)               4224      \n",
            "                                                                 \n",
            " dropout_5 (Dropout)         (None, 128)               0         \n",
            "                                                                 \n",
            " dense_7 (Dense)             (None, 128)               16512     \n",
            "                                                                 \n",
            " dropout_6 (Dropout)         (None, 128)               0         \n",
            "                                                                 \n",
            " dense_8 (Dense)             (None, 128)               16512     \n",
            "                                                                 \n",
            " dropout_7 (Dropout)         (None, 128)               0         \n",
            "                                                                 \n",
            " dense_9 (Dense)             (None, 128)               16512     \n",
            "                                                                 \n",
            " dropout_8 (Dropout)         (None, 128)               0         \n",
            "                                                                 \n",
            " dense_10 (Dense)            (None, 128)               16512     \n",
            "                                                                 \n",
            " dropout_9 (Dropout)         (None, 128)               0         \n",
            "                                                                 \n",
            " dense_11 (Dense)            (None, 1)                 129       \n",
            "                                                                 \n",
            "=================================================================\n",
            "Total params: 70,401\n",
            "Trainable params: 70,401\n",
            "Non-trainable params: 0\n",
            "_________________________________________________________________\n"
          ]
        }
      ]
    },
    {
      "cell_type": "code",
      "source": [
        "model.compile(optimizer='adam', loss=tf.keras.losses.BinaryCrossentropy(), metrics=['accuracy'])\n",
        "history = model.fit(x_train, y_train, epochs=15, class_weight=class_weight)"
      ],
      "metadata": {
        "colab": {
          "base_uri": "https://localhost:8080/"
        },
        "id": "Sglfv8fdVVoE",
        "outputId": "418854b3-039f-48d4-e236-85856d4f0fb9"
      },
      "execution_count": 42,
      "outputs": [
        {
          "output_type": "stream",
          "name": "stdout",
          "text": [
            "Epoch 1/15\n",
            "125/125 [==============================] - 2s 6ms/step - loss: 3.2850e-04 - accuracy: 0.6250\n",
            "Epoch 2/15\n",
            "125/125 [==============================] - 0s 4ms/step - loss: 2.8760e-04 - accuracy: 0.6775\n",
            "Epoch 3/15\n",
            "125/125 [==============================] - 0s 3ms/step - loss: 2.6795e-04 - accuracy: 0.7182\n",
            "Epoch 4/15\n",
            "125/125 [==============================] - 0s 4ms/step - loss: 2.4752e-04 - accuracy: 0.7527\n",
            "Epoch 5/15\n",
            "125/125 [==============================] - 0s 4ms/step - loss: 2.2204e-04 - accuracy: 0.7775\n",
            "Epoch 6/15\n",
            "125/125 [==============================] - 0s 4ms/step - loss: 2.0014e-04 - accuracy: 0.7960\n",
            "Epoch 7/15\n",
            "125/125 [==============================] - 0s 4ms/step - loss: 1.8555e-04 - accuracy: 0.8245\n",
            "Epoch 8/15\n",
            "125/125 [==============================] - 0s 4ms/step - loss: 1.6895e-04 - accuracy: 0.8388\n",
            "Epoch 9/15\n",
            "125/125 [==============================] - 0s 3ms/step - loss: 1.5556e-04 - accuracy: 0.8525\n",
            "Epoch 10/15\n",
            "125/125 [==============================] - 0s 4ms/step - loss: 1.4828e-04 - accuracy: 0.8580\n",
            "Epoch 11/15\n",
            "125/125 [==============================] - 0s 4ms/step - loss: 1.3702e-04 - accuracy: 0.8710\n",
            "Epoch 12/15\n",
            "125/125 [==============================] - 0s 4ms/step - loss: 1.2570e-04 - accuracy: 0.8777\n",
            "Epoch 13/15\n",
            "125/125 [==============================] - 0s 4ms/step - loss: 1.1902e-04 - accuracy: 0.8917\n",
            "Epoch 14/15\n",
            "125/125 [==============================] - 0s 3ms/step - loss: 1.0621e-04 - accuracy: 0.9047\n",
            "Epoch 15/15\n",
            "125/125 [==============================] - 0s 4ms/step - loss: 1.0053e-04 - accuracy: 0.9100\n"
          ]
        }
      ]
    },
    {
      "cell_type": "code",
      "source": [
        "y_pred = np.ravel(np.round_(model.predict(x_test)))\n",
        "print(classification_report(y_test, y_pred))"
      ],
      "metadata": {
        "colab": {
          "base_uri": "https://localhost:8080/"
        },
        "id": "6qddiILOHkbD",
        "outputId": "e62323bf-c679-404e-e6db-d6c594edb688"
      },
      "execution_count": 43,
      "outputs": [
        {
          "output_type": "stream",
          "name": "stdout",
          "text": [
            "              precision    recall  f1-score   support\n",
            "\n",
            "           0       0.99      0.93      0.96       701\n",
            "           1       0.86      0.97      0.91       299\n",
            "\n",
            "    accuracy                           0.94      1000\n",
            "   macro avg       0.92      0.95      0.94      1000\n",
            "weighted avg       0.95      0.94      0.95      1000\n",
            "\n"
          ]
        }
      ]
    }
  ]
}